{
 "cells": [
  {
   "cell_type": "code",
   "execution_count": 1,
   "metadata": {
    "collapsed": true
   },
   "outputs": [],
   "source": [
    "import pandas as pd"
   ]
  },
  {
   "cell_type": "code",
   "execution_count": null,
   "metadata": {
    "collapsed": true
   },
   "outputs": [],
   "source": []
  },
  {
   "cell_type": "code",
   "execution_count": 19,
   "metadata": {
    "collapsed": false
   },
   "outputs": [
    {
     "name": "stderr",
     "output_type": "stream",
     "text": [
      "C:\\Anaconda\\lib\\site-packages\\pandas\\io\\parsers.py:1159: DtypeWarning: Columns (0) have mixed types. Specify dtype option on import or set low_memory=False.\n",
      "  data = self._reader.read(nrows)\n"
     ]
    }
   ],
   "source": [
    "obs = pd.read_csv(r'R:\\FastTrips\\CHTS and OBS ft_output\\OBS_ft_output_editedBN.csv')\n",
    "ft_out = pd.read_csv(r'J:\\Projects\\FasTrips\\obs\\output\\OBS to DynoDemand Conversion_stochastic_iter4_cap\\ft_output_passenger_paths.csv')"
   ]
  },
  {
   "cell_type": "code",
   "execution_count": 20,
   "metadata": {
    "collapsed": true
   },
   "outputs": [],
   "source": [
    "# Operator Lookup"
   ]
  },
  {
   "cell_type": "code",
   "execution_count": 22,
   "metadata": {
    "collapsed": false
   },
   "outputs": [
    {
     "data": {
      "text/plain": [
       "0                                    NaN\n",
       "1       Caltrain_San Francisco Palo Alto\n",
       "2                                    NaN\n",
       "3                                    NaN\n",
       "4            Caltrain_Millbrae Palo Alto\n",
       "5                                    NaN\n",
       "6                                    NaN\n",
       "7     Caltrain_Burlingame California Ave\n",
       "8                                    NaN\n",
       "9                                    NaN\n",
       "10                                  MUNI\n",
       "11                                   NaN\n",
       "12     Caltrain_San Francisco Burlingame\n",
       "13                                   NaN\n",
       "14                                   NaN\n",
       "...\n",
       "253927      BART_5 9\n",
       "253928           NaN\n",
       "253929           NaN\n",
       "253930         OTHER\n",
       "253931           NaN\n",
       "253932    BART_29 38\n",
       "253933           NaN\n",
       "253934         OTHER\n",
       "253935           NaN\n",
       "253936           NaN\n",
       "253937    BART_30 42\n",
       "253938           NaN\n",
       "253939           NaN\n",
       "253940     BART_8 37\n",
       "253941           NaN\n",
       "Name: route_id, Length: 253942, dtype: object"
      ]
     },
     "execution_count": 22,
     "metadata": {},
     "output_type": "execute_result"
    }
   ],
   "source": [
    "obs['route_id']"
   ]
  },
  {
   "cell_type": "code",
   "execution_count": 27,
   "metadata": {
    "collapsed": false
   },
   "outputs": [],
   "source": [
    "test = ft_out['route_id'].dropna()"
   ]
  },
  {
   "cell_type": "code",
   "execution_count": 35,
   "metadata": {
    "collapsed": false
   },
   "outputs": [],
   "source": [
    "test.groupby('route_id').count().to_csv('ft_routes.csv')"
   ]
  },
  {
   "cell_type": "code",
   "execution_count": 38,
   "metadata": {
    "collapsed": false
   },
   "outputs": [],
   "source": [
    "obs.groupby('route_id').count()['person_id'].to_csv('obs_routes.csv')"
   ]
  },
  {
   "cell_type": "code",
   "execution_count": 31,
   "metadata": {
    "collapsed": false
   },
   "outputs": [
    {
     "data": {
      "text/plain": [
       "Series([], name: route_id, dtype: object)"
      ]
     },
     "execution_count": 31,
     "metadata": {},
     "output_type": "execute_result"
    }
   ],
   "source": [
    "test[test['route_id'].isin(obs['route_id'])]['route_id']"
   ]
  },
  {
   "cell_type": "code",
   "execution_count": 15,
   "metadata": {
    "collapsed": false
   },
   "outputs": [],
   "source": [
    "pd.DataFrame(obs.groupby('operator').count().index).to_clipboard()"
   ]
  },
  {
   "cell_type": "code",
   "execution_count": null,
   "metadata": {
    "collapsed": true
   },
   "outputs": [],
   "source": []
  },
  {
   "cell_type": "code",
   "execution_count": 16,
   "metadata": {
    "collapsed": false
   },
   "outputs": [
    {
     "ename": "KeyError",
     "evalue": "'service_id'",
     "output_type": "error",
     "traceback": [
      "\u001b[1;31m---------------------------------------------------------------------------\u001b[0m",
      "\u001b[1;31mKeyError\u001b[0m                                  Traceback (most recent call last)",
      "\u001b[1;32m<ipython-input-16-cd809ceb70ca>\u001b[0m in \u001b[0;36m<module>\u001b[1;34m()\u001b[0m\n\u001b[1;32m----> 1\u001b[1;33m \u001b[0mpd\u001b[0m\u001b[1;33m.\u001b[0m\u001b[0mDataFrame\u001b[0m\u001b[1;33m(\u001b[0m\u001b[0mft_out\u001b[0m\u001b[1;33m.\u001b[0m\u001b[0mgroupby\u001b[0m\u001b[1;33m(\u001b[0m\u001b[1;34m'service_id'\u001b[0m\u001b[1;33m)\u001b[0m\u001b[1;33m.\u001b[0m\u001b[0mcount\u001b[0m\u001b[1;33m(\u001b[0m\u001b[1;33m)\u001b[0m\u001b[1;33m.\u001b[0m\u001b[0mindex\u001b[0m\u001b[1;33m)\u001b[0m\u001b[1;33m.\u001b[0m\u001b[0mto_clipboard\u001b[0m\u001b[1;33m(\u001b[0m\u001b[1;33m)\u001b[0m\u001b[1;33m\u001b[0m\u001b[0m\n\u001b[0m",
      "\u001b[1;32mC:\\Anaconda\\lib\\site-packages\\pandas\\core\\generic.pyc\u001b[0m in \u001b[0;36mgroupby\u001b[1;34m(self, by, axis, level, as_index, sort, group_keys, squeeze)\u001b[0m\n\u001b[0;32m   2896\u001b[0m         \u001b[0maxis\u001b[0m \u001b[1;33m=\u001b[0m \u001b[0mself\u001b[0m\u001b[1;33m.\u001b[0m\u001b[0m_get_axis_number\u001b[0m\u001b[1;33m(\u001b[0m\u001b[0maxis\u001b[0m\u001b[1;33m)\u001b[0m\u001b[1;33m\u001b[0m\u001b[0m\n\u001b[0;32m   2897\u001b[0m         return groupby(self, by=by, axis=axis, level=level, as_index=as_index,\n\u001b[1;32m-> 2898\u001b[1;33m                        sort=sort, group_keys=group_keys, squeeze=squeeze)\n\u001b[0m\u001b[0;32m   2899\u001b[0m \u001b[1;33m\u001b[0m\u001b[0m\n\u001b[0;32m   2900\u001b[0m     \u001b[1;32mdef\u001b[0m \u001b[0masfreq\u001b[0m\u001b[1;33m(\u001b[0m\u001b[0mself\u001b[0m\u001b[1;33m,\u001b[0m \u001b[0mfreq\u001b[0m\u001b[1;33m,\u001b[0m \u001b[0mmethod\u001b[0m\u001b[1;33m=\u001b[0m\u001b[0mNone\u001b[0m\u001b[1;33m,\u001b[0m \u001b[0mhow\u001b[0m\u001b[1;33m=\u001b[0m\u001b[0mNone\u001b[0m\u001b[1;33m,\u001b[0m \u001b[0mnormalize\u001b[0m\u001b[1;33m=\u001b[0m\u001b[0mFalse\u001b[0m\u001b[1;33m)\u001b[0m\u001b[1;33m:\u001b[0m\u001b[1;33m\u001b[0m\u001b[0m\n",
      "\u001b[1;32mC:\\Anaconda\\lib\\site-packages\\pandas\\core\\groupby.pyc\u001b[0m in \u001b[0;36mgroupby\u001b[1;34m(obj, by, **kwds)\u001b[0m\n\u001b[0;32m   1191\u001b[0m         \u001b[1;32mraise\u001b[0m \u001b[0mTypeError\u001b[0m\u001b[1;33m(\u001b[0m\u001b[1;34m'invalid type: %s'\u001b[0m \u001b[1;33m%\u001b[0m \u001b[0mtype\u001b[0m\u001b[1;33m(\u001b[0m\u001b[0mobj\u001b[0m\u001b[1;33m)\u001b[0m\u001b[1;33m)\u001b[0m\u001b[1;33m\u001b[0m\u001b[0m\n\u001b[0;32m   1192\u001b[0m \u001b[1;33m\u001b[0m\u001b[0m\n\u001b[1;32m-> 1193\u001b[1;33m     \u001b[1;32mreturn\u001b[0m \u001b[0mklass\u001b[0m\u001b[1;33m(\u001b[0m\u001b[0mobj\u001b[0m\u001b[1;33m,\u001b[0m \u001b[0mby\u001b[0m\u001b[1;33m,\u001b[0m \u001b[1;33m**\u001b[0m\u001b[0mkwds\u001b[0m\u001b[1;33m)\u001b[0m\u001b[1;33m\u001b[0m\u001b[0m\n\u001b[0m\u001b[0;32m   1194\u001b[0m \u001b[1;33m\u001b[0m\u001b[0m\n\u001b[0;32m   1195\u001b[0m \u001b[1;33m\u001b[0m\u001b[0m\n",
      "\u001b[1;32mC:\\Anaconda\\lib\\site-packages\\pandas\\core\\groupby.pyc\u001b[0m in \u001b[0;36m__init__\u001b[1;34m(self, obj, keys, axis, level, grouper, exclusions, selection, as_index, sort, group_keys, squeeze)\u001b[0m\n\u001b[0;32m    381\u001b[0m         \u001b[1;32mif\u001b[0m \u001b[0mgrouper\u001b[0m \u001b[1;32mis\u001b[0m \u001b[0mNone\u001b[0m\u001b[1;33m:\u001b[0m\u001b[1;33m\u001b[0m\u001b[0m\n\u001b[0;32m    382\u001b[0m             grouper, exclusions, obj = _get_grouper(obj, keys, axis=axis,\n\u001b[1;32m--> 383\u001b[1;33m                                                     level=level, sort=sort)\n\u001b[0m\u001b[0;32m    384\u001b[0m \u001b[1;33m\u001b[0m\u001b[0m\n\u001b[0;32m    385\u001b[0m         \u001b[0mself\u001b[0m\u001b[1;33m.\u001b[0m\u001b[0mobj\u001b[0m \u001b[1;33m=\u001b[0m \u001b[0mobj\u001b[0m\u001b[1;33m\u001b[0m\u001b[0m\n",
      "\u001b[1;32mC:\\Anaconda\\lib\\site-packages\\pandas\\core\\groupby.pyc\u001b[0m in \u001b[0;36m_get_grouper\u001b[1;34m(obj, key, axis, level, sort)\u001b[0m\n\u001b[0;32m   2129\u001b[0m \u001b[1;33m\u001b[0m\u001b[0m\n\u001b[0;32m   2130\u001b[0m         \u001b[1;32melif\u001b[0m \u001b[0mis_in_axis\u001b[0m\u001b[1;33m(\u001b[0m\u001b[0mgpr\u001b[0m\u001b[1;33m)\u001b[0m\u001b[1;33m:\u001b[0m  \u001b[1;31m# df.groupby('name')\u001b[0m\u001b[1;33m\u001b[0m\u001b[0m\n\u001b[1;32m-> 2131\u001b[1;33m             \u001b[0min_axis\u001b[0m\u001b[1;33m,\u001b[0m \u001b[0mname\u001b[0m\u001b[1;33m,\u001b[0m \u001b[0mgpr\u001b[0m \u001b[1;33m=\u001b[0m \u001b[0mTrue\u001b[0m\u001b[1;33m,\u001b[0m \u001b[0mgpr\u001b[0m\u001b[1;33m,\u001b[0m \u001b[0mobj\u001b[0m\u001b[1;33m[\u001b[0m\u001b[0mgpr\u001b[0m\u001b[1;33m]\u001b[0m\u001b[1;33m\u001b[0m\u001b[0m\n\u001b[0m\u001b[0;32m   2132\u001b[0m             \u001b[0mexclusions\u001b[0m\u001b[1;33m.\u001b[0m\u001b[0mappend\u001b[0m\u001b[1;33m(\u001b[0m\u001b[0mname\u001b[0m\u001b[1;33m)\u001b[0m\u001b[1;33m\u001b[0m\u001b[0m\n\u001b[0;32m   2133\u001b[0m \u001b[1;33m\u001b[0m\u001b[0m\n",
      "\u001b[1;32mC:\\Anaconda\\lib\\site-packages\\pandas\\core\\frame.pyc\u001b[0m in \u001b[0;36m__getitem__\u001b[1;34m(self, key)\u001b[0m\n\u001b[0;32m   1778\u001b[0m             \u001b[1;32mreturn\u001b[0m \u001b[0mself\u001b[0m\u001b[1;33m.\u001b[0m\u001b[0m_getitem_multilevel\u001b[0m\u001b[1;33m(\u001b[0m\u001b[0mkey\u001b[0m\u001b[1;33m)\u001b[0m\u001b[1;33m\u001b[0m\u001b[0m\n\u001b[0;32m   1779\u001b[0m         \u001b[1;32melse\u001b[0m\u001b[1;33m:\u001b[0m\u001b[1;33m\u001b[0m\u001b[0m\n\u001b[1;32m-> 1780\u001b[1;33m             \u001b[1;32mreturn\u001b[0m \u001b[0mself\u001b[0m\u001b[1;33m.\u001b[0m\u001b[0m_getitem_column\u001b[0m\u001b[1;33m(\u001b[0m\u001b[0mkey\u001b[0m\u001b[1;33m)\u001b[0m\u001b[1;33m\u001b[0m\u001b[0m\n\u001b[0m\u001b[0;32m   1781\u001b[0m \u001b[1;33m\u001b[0m\u001b[0m\n\u001b[0;32m   1782\u001b[0m     \u001b[1;32mdef\u001b[0m \u001b[0m_getitem_column\u001b[0m\u001b[1;33m(\u001b[0m\u001b[0mself\u001b[0m\u001b[1;33m,\u001b[0m \u001b[0mkey\u001b[0m\u001b[1;33m)\u001b[0m\u001b[1;33m:\u001b[0m\u001b[1;33m\u001b[0m\u001b[0m\n",
      "\u001b[1;32mC:\\Anaconda\\lib\\site-packages\\pandas\\core\\frame.pyc\u001b[0m in \u001b[0;36m_getitem_column\u001b[1;34m(self, key)\u001b[0m\n\u001b[0;32m   1785\u001b[0m         \u001b[1;31m# get column\u001b[0m\u001b[1;33m\u001b[0m\u001b[1;33m\u001b[0m\u001b[0m\n\u001b[0;32m   1786\u001b[0m         \u001b[1;32mif\u001b[0m \u001b[0mself\u001b[0m\u001b[1;33m.\u001b[0m\u001b[0mcolumns\u001b[0m\u001b[1;33m.\u001b[0m\u001b[0mis_unique\u001b[0m\u001b[1;33m:\u001b[0m\u001b[1;33m\u001b[0m\u001b[0m\n\u001b[1;32m-> 1787\u001b[1;33m             \u001b[1;32mreturn\u001b[0m \u001b[0mself\u001b[0m\u001b[1;33m.\u001b[0m\u001b[0m_get_item_cache\u001b[0m\u001b[1;33m(\u001b[0m\u001b[0mkey\u001b[0m\u001b[1;33m)\u001b[0m\u001b[1;33m\u001b[0m\u001b[0m\n\u001b[0m\u001b[0;32m   1788\u001b[0m \u001b[1;33m\u001b[0m\u001b[0m\n\u001b[0;32m   1789\u001b[0m         \u001b[1;31m# duplicate columns & possible reduce dimensionaility\u001b[0m\u001b[1;33m\u001b[0m\u001b[1;33m\u001b[0m\u001b[0m\n",
      "\u001b[1;32mC:\\Anaconda\\lib\\site-packages\\pandas\\core\\generic.pyc\u001b[0m in \u001b[0;36m_get_item_cache\u001b[1;34m(self, item)\u001b[0m\n\u001b[0;32m   1066\u001b[0m         \u001b[0mres\u001b[0m \u001b[1;33m=\u001b[0m \u001b[0mcache\u001b[0m\u001b[1;33m.\u001b[0m\u001b[0mget\u001b[0m\u001b[1;33m(\u001b[0m\u001b[0mitem\u001b[0m\u001b[1;33m)\u001b[0m\u001b[1;33m\u001b[0m\u001b[0m\n\u001b[0;32m   1067\u001b[0m         \u001b[1;32mif\u001b[0m \u001b[0mres\u001b[0m \u001b[1;32mis\u001b[0m \u001b[0mNone\u001b[0m\u001b[1;33m:\u001b[0m\u001b[1;33m\u001b[0m\u001b[0m\n\u001b[1;32m-> 1068\u001b[1;33m             \u001b[0mvalues\u001b[0m \u001b[1;33m=\u001b[0m \u001b[0mself\u001b[0m\u001b[1;33m.\u001b[0m\u001b[0m_data\u001b[0m\u001b[1;33m.\u001b[0m\u001b[0mget\u001b[0m\u001b[1;33m(\u001b[0m\u001b[0mitem\u001b[0m\u001b[1;33m)\u001b[0m\u001b[1;33m\u001b[0m\u001b[0m\n\u001b[0m\u001b[0;32m   1069\u001b[0m             \u001b[0mres\u001b[0m \u001b[1;33m=\u001b[0m \u001b[0mself\u001b[0m\u001b[1;33m.\u001b[0m\u001b[0m_box_item_values\u001b[0m\u001b[1;33m(\u001b[0m\u001b[0mitem\u001b[0m\u001b[1;33m,\u001b[0m \u001b[0mvalues\u001b[0m\u001b[1;33m)\u001b[0m\u001b[1;33m\u001b[0m\u001b[0m\n\u001b[0;32m   1070\u001b[0m             \u001b[0mcache\u001b[0m\u001b[1;33m[\u001b[0m\u001b[0mitem\u001b[0m\u001b[1;33m]\u001b[0m \u001b[1;33m=\u001b[0m \u001b[0mres\u001b[0m\u001b[1;33m\u001b[0m\u001b[0m\n",
      "\u001b[1;32mC:\\Anaconda\\lib\\site-packages\\pandas\\core\\internals.pyc\u001b[0m in \u001b[0;36mget\u001b[1;34m(self, item, fastpath)\u001b[0m\n\u001b[0;32m   2847\u001b[0m \u001b[1;33m\u001b[0m\u001b[0m\n\u001b[0;32m   2848\u001b[0m             \u001b[1;32mif\u001b[0m \u001b[1;32mnot\u001b[0m \u001b[0misnull\u001b[0m\u001b[1;33m(\u001b[0m\u001b[0mitem\u001b[0m\u001b[1;33m)\u001b[0m\u001b[1;33m:\u001b[0m\u001b[1;33m\u001b[0m\u001b[0m\n\u001b[1;32m-> 2849\u001b[1;33m                 \u001b[0mloc\u001b[0m \u001b[1;33m=\u001b[0m \u001b[0mself\u001b[0m\u001b[1;33m.\u001b[0m\u001b[0mitems\u001b[0m\u001b[1;33m.\u001b[0m\u001b[0mget_loc\u001b[0m\u001b[1;33m(\u001b[0m\u001b[0mitem\u001b[0m\u001b[1;33m)\u001b[0m\u001b[1;33m\u001b[0m\u001b[0m\n\u001b[0m\u001b[0;32m   2850\u001b[0m             \u001b[1;32melse\u001b[0m\u001b[1;33m:\u001b[0m\u001b[1;33m\u001b[0m\u001b[0m\n\u001b[0;32m   2851\u001b[0m                 \u001b[0mindexer\u001b[0m \u001b[1;33m=\u001b[0m \u001b[0mnp\u001b[0m\u001b[1;33m.\u001b[0m\u001b[0marange\u001b[0m\u001b[1;33m(\u001b[0m\u001b[0mlen\u001b[0m\u001b[1;33m(\u001b[0m\u001b[0mself\u001b[0m\u001b[1;33m.\u001b[0m\u001b[0mitems\u001b[0m\u001b[1;33m)\u001b[0m\u001b[1;33m)\u001b[0m\u001b[1;33m[\u001b[0m\u001b[0misnull\u001b[0m\u001b[1;33m(\u001b[0m\u001b[0mself\u001b[0m\u001b[1;33m.\u001b[0m\u001b[0mitems\u001b[0m\u001b[1;33m)\u001b[0m\u001b[1;33m]\u001b[0m\u001b[1;33m\u001b[0m\u001b[0m\n",
      "\u001b[1;32mC:\\Anaconda\\lib\\site-packages\\pandas\\core\\index.pyc\u001b[0m in \u001b[0;36mget_loc\u001b[1;34m(self, key)\u001b[0m\n\u001b[0;32m   1400\u001b[0m         \u001b[0mloc\u001b[0m \u001b[1;33m:\u001b[0m \u001b[0mint\u001b[0m \u001b[1;32mif\u001b[0m \u001b[0munique\u001b[0m \u001b[0mindex\u001b[0m\u001b[1;33m,\u001b[0m \u001b[0mpossibly\u001b[0m \u001b[0mslice\u001b[0m \u001b[1;32mor\u001b[0m \u001b[0mmask\u001b[0m \u001b[1;32mif\u001b[0m \u001b[1;32mnot\u001b[0m\u001b[1;33m\u001b[0m\u001b[0m\n\u001b[0;32m   1401\u001b[0m         \"\"\"\n\u001b[1;32m-> 1402\u001b[1;33m         \u001b[1;32mreturn\u001b[0m \u001b[0mself\u001b[0m\u001b[1;33m.\u001b[0m\u001b[0m_engine\u001b[0m\u001b[1;33m.\u001b[0m\u001b[0mget_loc\u001b[0m\u001b[1;33m(\u001b[0m\u001b[0m_values_from_object\u001b[0m\u001b[1;33m(\u001b[0m\u001b[0mkey\u001b[0m\u001b[1;33m)\u001b[0m\u001b[1;33m)\u001b[0m\u001b[1;33m\u001b[0m\u001b[0m\n\u001b[0m\u001b[0;32m   1403\u001b[0m \u001b[1;33m\u001b[0m\u001b[0m\n\u001b[0;32m   1404\u001b[0m     \u001b[1;32mdef\u001b[0m \u001b[0mget_value\u001b[0m\u001b[1;33m(\u001b[0m\u001b[0mself\u001b[0m\u001b[1;33m,\u001b[0m \u001b[0mseries\u001b[0m\u001b[1;33m,\u001b[0m \u001b[0mkey\u001b[0m\u001b[1;33m)\u001b[0m\u001b[1;33m:\u001b[0m\u001b[1;33m\u001b[0m\u001b[0m\n",
      "\u001b[1;32mpandas\\index.pyx\u001b[0m in \u001b[0;36mpandas.index.IndexEngine.get_loc (pandas\\index.c:3820)\u001b[1;34m()\u001b[0m\n",
      "\u001b[1;32mpandas\\index.pyx\u001b[0m in \u001b[0;36mpandas.index.IndexEngine.get_loc (pandas\\index.c:3700)\u001b[1;34m()\u001b[0m\n",
      "\u001b[1;32mpandas\\hashtable.pyx\u001b[0m in \u001b[0;36mpandas.hashtable.PyObjectHashTable.get_item (pandas\\hashtable.c:12323)\u001b[1;34m()\u001b[0m\n",
      "\u001b[1;32mpandas\\hashtable.pyx\u001b[0m in \u001b[0;36mpandas.hashtable.PyObjectHashTable.get_item (pandas\\hashtable.c:12274)\u001b[1;34m()\u001b[0m\n",
      "\u001b[1;31mKeyError\u001b[0m: 'service_id'"
     ]
    }
   ],
   "source": [
    "pd.DataFrame(ft_out.groupby('service_id').count().index).to_clipboard()"
   ]
  },
  {
   "cell_type": "code",
   "execution_count": 119,
   "metadata": {
    "collapsed": false
   },
   "outputs": [],
   "source": [
    "# Route Lookup\n",
    "pd.DataFrame(obs.groupby('route').count().index).to_clipboard()"
   ]
  },
  {
   "cell_type": "code",
   "execution_count": 120,
   "metadata": {
    "collapsed": false
   },
   "outputs": [],
   "source": [
    "pd.DataFrame(ft_out.groupby('route_id').count().index).to_clipboard()"
   ]
  },
  {
   "cell_type": "code",
   "execution_count": 121,
   "metadata": {
    "collapsed": false,
    "scrolled": true
   },
   "outputs": [],
   "source": [
    "# Load lookup table (1-to-1 lookup, should probably be many-to-many)\n",
    "op_lookup = pd.read_csv(r'R:\\FastTrips\\lookup\\operator_lookup.csv')"
   ]
  },
  {
   "cell_type": "code",
   "execution_count": 131,
   "metadata": {
    "collapsed": false
   },
   "outputs": [
    {
     "data": {
      "text/plain": [
       "26640"
      ]
     },
     "execution_count": 131,
     "metadata": {},
     "output_type": "execute_result"
    }
   ],
   "source": [
    "len(obs)"
   ]
  },
  {
   "cell_type": "code",
   "execution_count": 132,
   "metadata": {
    "collapsed": false
   },
   "outputs": [],
   "source": [
    "df = pd.merge(obs,op_lookup,left_on='operator',right_on='obs')"
   ]
  },
  {
   "cell_type": "code",
   "execution_count": 133,
   "metadata": {
    "collapsed": false
   },
   "outputs": [
    {
     "data": {
      "text/plain": [
       "26640"
      ]
     },
     "execution_count": 133,
     "metadata": {},
     "output_type": "execute_result"
    }
   ],
   "source": [
    "len(df)"
   ]
  },
  {
   "cell_type": "code",
   "execution_count": 134,
   "metadata": {
    "collapsed": false
   },
   "outputs": [],
   "source": [
    "# df.groupby('operator').count()"
   ]
  },
  {
   "cell_type": "code",
   "execution_count": 135,
   "metadata": {
    "collapsed": false
   },
   "outputs": [
    {
     "data": {
      "text/plain": [
       "16"
      ]
     },
     "execution_count": 135,
     "metadata": {},
     "output_type": "execute_result"
    }
   ],
   "source": [
    "len(op_lookup)"
   ]
  },
  {
   "cell_type": "code",
   "execution_count": 149,
   "metadata": {
    "collapsed": false
   },
   "outputs": [
    {
     "data": {
      "text/plain": [
       "Index([u'iteration', u'service_id', u'route_id', u'trip_id', u'stop_sequence', u'stop_id', u'arrival_time', u'arrival_time_min', u'departure_time', u'departure_time_min', u'travel_time_sec', u'dwell_time_sec', u'capacity', u'boards', u'alights', u'onboard', u'standees', u'friction', u'overcap', u'msa_boards', u'msa_alights', u'msa_onboard', u'msa_standees', u'msa_friction', u'msa_overcap'], dtype='object')"
      ]
     },
     "execution_count": 149,
     "metadata": {},
     "output_type": "execute_result"
    }
   ],
   "source": [
    "ft_out.columns"
   ]
  },
  {
   "cell_type": "code",
   "execution_count": 145,
   "metadata": {
    "collapsed": false
   },
   "outputs": [
    {
     "data": {
      "text/html": [
       "<div style=\"max-height:1000px;max-width:1500px;overflow:auto;\">\n",
       "<table border=\"1\" class=\"dataframe\">\n",
       "  <thead>\n",
       "    <tr style=\"text-align: right;\">\n",
       "      <th></th>\n",
       "      <th>first_board_tech</th>\n",
       "      <th>last_alight_tech</th>\n",
       "      <th>path_line_haul</th>\n",
       "      <th>path_label</th>\n",
       "      <th>boardings</th>\n",
       "    </tr>\n",
       "  </thead>\n",
       "  <tbody>\n",
       "    <tr>\n",
       "      <th>0    </th>\n",
       "      <td> commuter rail</td>\n",
       "      <td> commuter rail</td>\n",
       "      <td> COM</td>\n",
       "      <td> D-COM-D</td>\n",
       "      <td> 1</td>\n",
       "    </tr>\n",
       "    <tr>\n",
       "      <th>1    </th>\n",
       "      <td> commuter rail</td>\n",
       "      <td> commuter rail</td>\n",
       "      <td> COM</td>\n",
       "      <td> D-COM-W</td>\n",
       "      <td> 1</td>\n",
       "    </tr>\n",
       "    <tr>\n",
       "      <th>2    </th>\n",
       "      <td> commuter rail</td>\n",
       "      <td> commuter rail</td>\n",
       "      <td> COM</td>\n",
       "      <td> W-COM-W</td>\n",
       "      <td> 1</td>\n",
       "    </tr>\n",
       "    <tr>\n",
       "      <th>3    </th>\n",
       "      <td>     local bus</td>\n",
       "      <td> commuter rail</td>\n",
       "      <td> COM</td>\n",
       "      <td> W-COM-W</td>\n",
       "      <td> 2</td>\n",
       "    </tr>\n",
       "    <tr>\n",
       "      <th>4    </th>\n",
       "      <td> commuter rail</td>\n",
       "      <td> commuter rail</td>\n",
       "      <td> COM</td>\n",
       "      <td> W-COM-D</td>\n",
       "      <td> 1</td>\n",
       "    </tr>\n",
       "    <tr>\n",
       "      <th>5    </th>\n",
       "      <td> commuter rail</td>\n",
       "      <td>    heavy rail</td>\n",
       "      <td> COM</td>\n",
       "      <td> W-COM-W</td>\n",
       "      <td> 2</td>\n",
       "    </tr>\n",
       "    <tr>\n",
       "      <th>6    </th>\n",
       "      <td>     local bus</td>\n",
       "      <td> commuter rail</td>\n",
       "      <td> COM</td>\n",
       "      <td> W-COM-D</td>\n",
       "      <td> 2</td>\n",
       "    </tr>\n",
       "    <tr>\n",
       "      <th>7    </th>\n",
       "      <td>     local bus</td>\n",
       "      <td>     local bus</td>\n",
       "      <td> COM</td>\n",
       "      <td> W-COM-W</td>\n",
       "      <td> 3</td>\n",
       "    </tr>\n",
       "    <tr>\n",
       "      <th>8    </th>\n",
       "      <td>     local bus</td>\n",
       "      <td>     local bus</td>\n",
       "      <td> NaN</td>\n",
       "      <td>  W-NA-W</td>\n",
       "      <td> 1</td>\n",
       "    </tr>\n",
       "    <tr>\n",
       "      <th>9    </th>\n",
       "      <td> commuter rail</td>\n",
       "      <td> commuter rail</td>\n",
       "      <td> COM</td>\n",
       "      <td> D-COM-D</td>\n",
       "      <td> 1</td>\n",
       "    </tr>\n",
       "    <tr>\n",
       "      <th>10   </th>\n",
       "      <td>     local bus</td>\n",
       "      <td>     local bus</td>\n",
       "      <td> NaN</td>\n",
       "      <td>  W-NA-W</td>\n",
       "      <td> 2</td>\n",
       "    </tr>\n",
       "    <tr>\n",
       "      <th>11   </th>\n",
       "      <td> commuter rail</td>\n",
       "      <td> commuter rail</td>\n",
       "      <td> COM</td>\n",
       "      <td> W-COM-D</td>\n",
       "      <td> 1</td>\n",
       "    </tr>\n",
       "    <tr>\n",
       "      <th>12   </th>\n",
       "      <td>     local bus</td>\n",
       "      <td>     local bus</td>\n",
       "      <td> NaN</td>\n",
       "      <td>  W-NA-W</td>\n",
       "      <td> 2</td>\n",
       "    </tr>\n",
       "    <tr>\n",
       "      <th>13   </th>\n",
       "      <td> commuter rail</td>\n",
       "      <td> commuter rail</td>\n",
       "      <td> COM</td>\n",
       "      <td> W-COM-D</td>\n",
       "      <td> 1</td>\n",
       "    </tr>\n",
       "    <tr>\n",
       "      <th>14   </th>\n",
       "      <td> commuter rail</td>\n",
       "      <td>     local bus</td>\n",
       "      <td> COM</td>\n",
       "      <td> D-COM-W</td>\n",
       "      <td> 2</td>\n",
       "    </tr>\n",
       "    <tr>\n",
       "      <th>15   </th>\n",
       "      <td>     local bus</td>\n",
       "      <td>     local bus</td>\n",
       "      <td> NaN</td>\n",
       "      <td>  W-NA-W</td>\n",
       "      <td> 1</td>\n",
       "    </tr>\n",
       "    <tr>\n",
       "      <th>16   </th>\n",
       "      <td> commuter rail</td>\n",
       "      <td> commuter rail</td>\n",
       "      <td> COM</td>\n",
       "      <td> D-COM-D</td>\n",
       "      <td> 1</td>\n",
       "    </tr>\n",
       "    <tr>\n",
       "      <th>17   </th>\n",
       "      <td>     local bus</td>\n",
       "      <td>     local bus</td>\n",
       "      <td> NaN</td>\n",
       "      <td>  W-NA-W</td>\n",
       "      <td> 1</td>\n",
       "    </tr>\n",
       "    <tr>\n",
       "      <th>18   </th>\n",
       "      <td> commuter rail</td>\n",
       "      <td> commuter rail</td>\n",
       "      <td> COM</td>\n",
       "      <td> D-COM-D</td>\n",
       "      <td> 1</td>\n",
       "    </tr>\n",
       "    <tr>\n",
       "      <th>19   </th>\n",
       "      <td>    light rail</td>\n",
       "      <td> commuter rail</td>\n",
       "      <td> COM</td>\n",
       "      <td> W-COM-D</td>\n",
       "      <td> 2</td>\n",
       "    </tr>\n",
       "    <tr>\n",
       "      <th>20   </th>\n",
       "      <td>     local bus</td>\n",
       "      <td>     local bus</td>\n",
       "      <td> NaN</td>\n",
       "      <td>  W-NA-W</td>\n",
       "      <td> 1</td>\n",
       "    </tr>\n",
       "    <tr>\n",
       "      <th>21   </th>\n",
       "      <td> commuter rail</td>\n",
       "      <td>     local bus</td>\n",
       "      <td> COM</td>\n",
       "      <td> D-COM-W</td>\n",
       "      <td> 2</td>\n",
       "    </tr>\n",
       "    <tr>\n",
       "      <th>22   </th>\n",
       "      <td>     local bus</td>\n",
       "      <td>     local bus</td>\n",
       "      <td> NaN</td>\n",
       "      <td>  D-NA-W</td>\n",
       "      <td> 1</td>\n",
       "    </tr>\n",
       "    <tr>\n",
       "      <th>23   </th>\n",
       "      <td> commuter rail</td>\n",
       "      <td> commuter rail</td>\n",
       "      <td> COM</td>\n",
       "      <td> D-COM-D</td>\n",
       "      <td> 1</td>\n",
       "    </tr>\n",
       "    <tr>\n",
       "      <th>24   </th>\n",
       "      <td>    light rail</td>\n",
       "      <td> commuter rail</td>\n",
       "      <td> COM</td>\n",
       "      <td> W-COM-D</td>\n",
       "      <td> 2</td>\n",
       "    </tr>\n",
       "    <tr>\n",
       "      <th>25   </th>\n",
       "      <td> commuter rail</td>\n",
       "      <td> commuter rail</td>\n",
       "      <td> COM</td>\n",
       "      <td> D-COM-W</td>\n",
       "      <td> 1</td>\n",
       "    </tr>\n",
       "    <tr>\n",
       "      <th>26   </th>\n",
       "      <td>     local bus</td>\n",
       "      <td>     local bus</td>\n",
       "      <td> NaN</td>\n",
       "      <td>  W-NA-W</td>\n",
       "      <td> 3</td>\n",
       "    </tr>\n",
       "    <tr>\n",
       "      <th>27   </th>\n",
       "      <td>    light rail</td>\n",
       "      <td> commuter rail</td>\n",
       "      <td> COM</td>\n",
       "      <td> W-COM-D</td>\n",
       "      <td> 2</td>\n",
       "    </tr>\n",
       "    <tr>\n",
       "      <th>28   </th>\n",
       "      <td>     local bus</td>\n",
       "      <td>     local bus</td>\n",
       "      <td> NaN</td>\n",
       "      <td>  D-NA-W</td>\n",
       "      <td> 2</td>\n",
       "    </tr>\n",
       "    <tr>\n",
       "      <th>29   </th>\n",
       "      <td> commuter rail</td>\n",
       "      <td> commuter rail</td>\n",
       "      <td> COM</td>\n",
       "      <td> D-COM-W</td>\n",
       "      <td> 1</td>\n",
       "    </tr>\n",
       "    <tr>\n",
       "      <th>...</th>\n",
       "      <td>...</td>\n",
       "      <td>...</td>\n",
       "      <td>...</td>\n",
       "      <td>...</td>\n",
       "      <td>...</td>\n",
       "    </tr>\n",
       "    <tr>\n",
       "      <th>26610</th>\n",
       "      <td> commuter rail</td>\n",
       "      <td> commuter rail</td>\n",
       "      <td> COM</td>\n",
       "      <td> D-COM-D</td>\n",
       "      <td> 1</td>\n",
       "    </tr>\n",
       "    <tr>\n",
       "      <th>26611</th>\n",
       "      <td> commuter rail</td>\n",
       "      <td> commuter rail</td>\n",
       "      <td> COM</td>\n",
       "      <td> D-COM-D</td>\n",
       "      <td> 1</td>\n",
       "    </tr>\n",
       "    <tr>\n",
       "      <th>26612</th>\n",
       "      <td> commuter rail</td>\n",
       "      <td> commuter rail</td>\n",
       "      <td> COM</td>\n",
       "      <td> W-COM-D</td>\n",
       "      <td> 1</td>\n",
       "    </tr>\n",
       "    <tr>\n",
       "      <th>26613</th>\n",
       "      <td> commuter rail</td>\n",
       "      <td> commuter rail</td>\n",
       "      <td> COM</td>\n",
       "      <td> D-COM-D</td>\n",
       "      <td> 1</td>\n",
       "    </tr>\n",
       "    <tr>\n",
       "      <th>26614</th>\n",
       "      <td>     local bus</td>\n",
       "      <td> commuter rail</td>\n",
       "      <td> COM</td>\n",
       "      <td> W-COM-D</td>\n",
       "      <td> 2</td>\n",
       "    </tr>\n",
       "    <tr>\n",
       "      <th>26615</th>\n",
       "      <td> commuter rail</td>\n",
       "      <td>     local bus</td>\n",
       "      <td> COM</td>\n",
       "      <td> D-COM-W</td>\n",
       "      <td> 2</td>\n",
       "    </tr>\n",
       "    <tr>\n",
       "      <th>26616</th>\n",
       "      <td>     local bus</td>\n",
       "      <td> commuter rail</td>\n",
       "      <td> COM</td>\n",
       "      <td> W-COM-D</td>\n",
       "      <td> 2</td>\n",
       "    </tr>\n",
       "    <tr>\n",
       "      <th>26617</th>\n",
       "      <td> commuter rail</td>\n",
       "      <td>     local bus</td>\n",
       "      <td> COM</td>\n",
       "      <td> D-COM-W</td>\n",
       "      <td> 3</td>\n",
       "    </tr>\n",
       "    <tr>\n",
       "      <th>26618</th>\n",
       "      <td> commuter rail</td>\n",
       "      <td> commuter rail</td>\n",
       "      <td> COM</td>\n",
       "      <td> D-COM-W</td>\n",
       "      <td> 2</td>\n",
       "    </tr>\n",
       "    <tr>\n",
       "      <th>26619</th>\n",
       "      <td> commuter rail</td>\n",
       "      <td> commuter rail</td>\n",
       "      <td> COM</td>\n",
       "      <td> D-COM-W</td>\n",
       "      <td> 1</td>\n",
       "    </tr>\n",
       "    <tr>\n",
       "      <th>26620</th>\n",
       "      <td> commuter rail</td>\n",
       "      <td>     local bus</td>\n",
       "      <td> COM</td>\n",
       "      <td> D-COM-W</td>\n",
       "      <td> 2</td>\n",
       "    </tr>\n",
       "    <tr>\n",
       "      <th>26621</th>\n",
       "      <td> commuter rail</td>\n",
       "      <td>     local bus</td>\n",
       "      <td> COM</td>\n",
       "      <td> D-COM-W</td>\n",
       "      <td> 2</td>\n",
       "    </tr>\n",
       "    <tr>\n",
       "      <th>26622</th>\n",
       "      <td> commuter rail</td>\n",
       "      <td>     local bus</td>\n",
       "      <td> COM</td>\n",
       "      <td> D-COM-W</td>\n",
       "      <td> 2</td>\n",
       "    </tr>\n",
       "    <tr>\n",
       "      <th>26623</th>\n",
       "      <td> commuter rail</td>\n",
       "      <td>     local bus</td>\n",
       "      <td> COM</td>\n",
       "      <td> D-COM-W</td>\n",
       "      <td> 2</td>\n",
       "    </tr>\n",
       "    <tr>\n",
       "      <th>26624</th>\n",
       "      <td> commuter rail</td>\n",
       "      <td>     local bus</td>\n",
       "      <td> COM</td>\n",
       "      <td> D-COM-W</td>\n",
       "      <td> 2</td>\n",
       "    </tr>\n",
       "    <tr>\n",
       "      <th>26625</th>\n",
       "      <td> commuter rail</td>\n",
       "      <td>     local bus</td>\n",
       "      <td> COM</td>\n",
       "      <td> D-COM-W</td>\n",
       "      <td> 2</td>\n",
       "    </tr>\n",
       "    <tr>\n",
       "      <th>26626</th>\n",
       "      <td>     local bus</td>\n",
       "      <td> commuter rail</td>\n",
       "      <td> COM</td>\n",
       "      <td> W-COM-D</td>\n",
       "      <td> 2</td>\n",
       "    </tr>\n",
       "    <tr>\n",
       "      <th>26627</th>\n",
       "      <td> commuter rail</td>\n",
       "      <td>     local bus</td>\n",
       "      <td> COM</td>\n",
       "      <td> D-COM-W</td>\n",
       "      <td> 2</td>\n",
       "    </tr>\n",
       "    <tr>\n",
       "      <th>26628</th>\n",
       "      <td>     local bus</td>\n",
       "      <td> commuter rail</td>\n",
       "      <td> COM</td>\n",
       "      <td> W-COM-D</td>\n",
       "      <td> 2</td>\n",
       "    </tr>\n",
       "    <tr>\n",
       "      <th>26629</th>\n",
       "      <td> commuter rail</td>\n",
       "      <td> commuter rail</td>\n",
       "      <td> COM</td>\n",
       "      <td> D-COM-D</td>\n",
       "      <td> 1</td>\n",
       "    </tr>\n",
       "    <tr>\n",
       "      <th>26630</th>\n",
       "      <td> commuter rail</td>\n",
       "      <td> commuter rail</td>\n",
       "      <td> COM</td>\n",
       "      <td> D-COM-D</td>\n",
       "      <td> 1</td>\n",
       "    </tr>\n",
       "    <tr>\n",
       "      <th>26631</th>\n",
       "      <td>     local bus</td>\n",
       "      <td> commuter rail</td>\n",
       "      <td> COM</td>\n",
       "      <td> W-COM-D</td>\n",
       "      <td> 2</td>\n",
       "    </tr>\n",
       "    <tr>\n",
       "      <th>26632</th>\n",
       "      <td> commuter rail</td>\n",
       "      <td>     local bus</td>\n",
       "      <td> COM</td>\n",
       "      <td> D-COM-W</td>\n",
       "      <td> 2</td>\n",
       "    </tr>\n",
       "    <tr>\n",
       "      <th>26633</th>\n",
       "      <td> commuter rail</td>\n",
       "      <td>     local bus</td>\n",
       "      <td> COM</td>\n",
       "      <td> D-COM-W</td>\n",
       "      <td> 2</td>\n",
       "    </tr>\n",
       "    <tr>\n",
       "      <th>26634</th>\n",
       "      <td> commuter rail</td>\n",
       "      <td> commuter rail</td>\n",
       "      <td> COM</td>\n",
       "      <td> D-COM-D</td>\n",
       "      <td> 1</td>\n",
       "    </tr>\n",
       "    <tr>\n",
       "      <th>26635</th>\n",
       "      <td> commuter rail</td>\n",
       "      <td>     local bus</td>\n",
       "      <td> COM</td>\n",
       "      <td> D-COM-W</td>\n",
       "      <td> 2</td>\n",
       "    </tr>\n",
       "    <tr>\n",
       "      <th>26636</th>\n",
       "      <td> commuter rail</td>\n",
       "      <td>     local bus</td>\n",
       "      <td> COM</td>\n",
       "      <td> D-COM-W</td>\n",
       "      <td> 2</td>\n",
       "    </tr>\n",
       "    <tr>\n",
       "      <th>26637</th>\n",
       "      <td>     local bus</td>\n",
       "      <td> commuter rail</td>\n",
       "      <td> COM</td>\n",
       "      <td> D-COM-D</td>\n",
       "      <td> 2</td>\n",
       "    </tr>\n",
       "    <tr>\n",
       "      <th>26638</th>\n",
       "      <td> commuter rail</td>\n",
       "      <td>     local bus</td>\n",
       "      <td> COM</td>\n",
       "      <td> D-COM-W</td>\n",
       "      <td> 2</td>\n",
       "    </tr>\n",
       "    <tr>\n",
       "      <th>26639</th>\n",
       "      <td> commuter rail</td>\n",
       "      <td> commuter rail</td>\n",
       "      <td> COM</td>\n",
       "      <td> D-COM-D</td>\n",
       "      <td> 1</td>\n",
       "    </tr>\n",
       "  </tbody>\n",
       "</table>\n",
       "<p>26640 rows × 5 columns</p>\n",
       "</div>"
      ],
      "text/plain": [
       "      first_board_tech last_alight_tech path_line_haul path_label  boardings\n",
       "0        commuter rail    commuter rail            COM    D-COM-D          1\n",
       "1        commuter rail    commuter rail            COM    D-COM-W          1\n",
       "2        commuter rail    commuter rail            COM    W-COM-W          1\n",
       "3            local bus    commuter rail            COM    W-COM-W          2\n",
       "4        commuter rail    commuter rail            COM    W-COM-D          1\n",
       "5        commuter rail       heavy rail            COM    W-COM-W          2\n",
       "6            local bus    commuter rail            COM    W-COM-D          2\n",
       "7            local bus        local bus            COM    W-COM-W          3\n",
       "8            local bus        local bus            NaN     W-NA-W          1\n",
       "9        commuter rail    commuter rail            COM    D-COM-D          1\n",
       "10           local bus        local bus            NaN     W-NA-W          2\n",
       "11       commuter rail    commuter rail            COM    W-COM-D          1\n",
       "12           local bus        local bus            NaN     W-NA-W          2\n",
       "13       commuter rail    commuter rail            COM    W-COM-D          1\n",
       "14       commuter rail        local bus            COM    D-COM-W          2\n",
       "15           local bus        local bus            NaN     W-NA-W          1\n",
       "16       commuter rail    commuter rail            COM    D-COM-D          1\n",
       "17           local bus        local bus            NaN     W-NA-W          1\n",
       "18       commuter rail    commuter rail            COM    D-COM-D          1\n",
       "19          light rail    commuter rail            COM    W-COM-D          2\n",
       "20           local bus        local bus            NaN     W-NA-W          1\n",
       "21       commuter rail        local bus            COM    D-COM-W          2\n",
       "22           local bus        local bus            NaN     D-NA-W          1\n",
       "23       commuter rail    commuter rail            COM    D-COM-D          1\n",
       "24          light rail    commuter rail            COM    W-COM-D          2\n",
       "25       commuter rail    commuter rail            COM    D-COM-W          1\n",
       "26           local bus        local bus            NaN     W-NA-W          3\n",
       "27          light rail    commuter rail            COM    W-COM-D          2\n",
       "28           local bus        local bus            NaN     D-NA-W          2\n",
       "29       commuter rail    commuter rail            COM    D-COM-W          1\n",
       "...                ...              ...            ...        ...        ...\n",
       "26610    commuter rail    commuter rail            COM    D-COM-D          1\n",
       "26611    commuter rail    commuter rail            COM    D-COM-D          1\n",
       "26612    commuter rail    commuter rail            COM    W-COM-D          1\n",
       "26613    commuter rail    commuter rail            COM    D-COM-D          1\n",
       "26614        local bus    commuter rail            COM    W-COM-D          2\n",
       "26615    commuter rail        local bus            COM    D-COM-W          2\n",
       "26616        local bus    commuter rail            COM    W-COM-D          2\n",
       "26617    commuter rail        local bus            COM    D-COM-W          3\n",
       "26618    commuter rail    commuter rail            COM    D-COM-W          2\n",
       "26619    commuter rail    commuter rail            COM    D-COM-W          1\n",
       "26620    commuter rail        local bus            COM    D-COM-W          2\n",
       "26621    commuter rail        local bus            COM    D-COM-W          2\n",
       "26622    commuter rail        local bus            COM    D-COM-W          2\n",
       "26623    commuter rail        local bus            COM    D-COM-W          2\n",
       "26624    commuter rail        local bus            COM    D-COM-W          2\n",
       "26625    commuter rail        local bus            COM    D-COM-W          2\n",
       "26626        local bus    commuter rail            COM    W-COM-D          2\n",
       "26627    commuter rail        local bus            COM    D-COM-W          2\n",
       "26628        local bus    commuter rail            COM    W-COM-D          2\n",
       "26629    commuter rail    commuter rail            COM    D-COM-D          1\n",
       "26630    commuter rail    commuter rail            COM    D-COM-D          1\n",
       "26631        local bus    commuter rail            COM    W-COM-D          2\n",
       "26632    commuter rail        local bus            COM    D-COM-W          2\n",
       "26633    commuter rail        local bus            COM    D-COM-W          2\n",
       "26634    commuter rail    commuter rail            COM    D-COM-D          1\n",
       "26635    commuter rail        local bus            COM    D-COM-W          2\n",
       "26636    commuter rail        local bus            COM    D-COM-W          2\n",
       "26637        local bus    commuter rail            COM    D-COM-D          2\n",
       "26638    commuter rail        local bus            COM    D-COM-W          2\n",
       "26639    commuter rail    commuter rail            COM    D-COM-D          1\n",
       "\n",
       "[26640 rows x 5 columns]"
      ]
     },
     "execution_count": 145,
     "metadata": {},
     "output_type": "execute_result"
    }
   ],
   "source": [
    "obs[['first_board_tech','last_alight_tech','path_line_haul','path_label','boardings']]"
   ]
  },
  {
   "cell_type": "code",
   "execution_count": null,
   "metadata": {
    "collapsed": true
   },
   "outputs": [],
   "source": []
  }
 ],
 "metadata": {
  "kernelspec": {
   "display_name": "Python 2",
   "language": "python",
   "name": "python2"
  },
  "language_info": {
   "codemirror_mode": {
    "name": "ipython",
    "version": 2
   },
   "file_extension": ".py",
   "mimetype": "text/x-python",
   "name": "python",
   "nbconvert_exporter": "python",
   "pygments_lexer": "ipython2",
   "version": "2.7.9"
  }
 },
 "nbformat": 4,
 "nbformat_minor": 0
}
