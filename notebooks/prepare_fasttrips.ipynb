{
 "cells": [
  {
   "cell_type": "code",
   "execution_count": 1,
   "metadata": {
    "collapsed": true
   },
   "outputs": [],
   "source": [
    "import pandas as pd\n",
    "import numpy as np\n",
    "\n",
    "# format sig figs\n",
    "pd.set_option('display.float_format', lambda x: '%.5f' % x)"
   ]
  },
  {
   "cell_type": "markdown",
   "metadata": {},
   "source": [
    "# Append Observed to Modeled (previously completed)\n",
    "## Add the script here..."
   ]
  },
  {
   "cell_type": "code",
   "execution_count": 2,
   "metadata": {
    "collapsed": false
   },
   "outputs": [],
   "source": [
    "#############################\n",
    "# Load the observed records\n",
    "# \n",
    "obs = pd.read_csv(r'R:\\FastTrips\\CHTS and OBS ft_output\\OBS_ft_output_w_stops.csv')\n",
    "obs.fillna('',inplace=True)\n",
    "obs['person_id'] = obs['person_id'].apply(lambda x: x.split(\"_\")[-1]).astype('str')\n",
    "obs['A_id_num'] = obs['A_id_num'].replace(\"\",0)\n",
    "obs['A_id_num'] = obs['A_id_num'].astype('int')\n",
    "obs = obs.drop('trip_list_id_num',axis=1)\n",
    "\n",
    "# ADD THE PROPER trip_list_id_num\n",
    "obsinput = pd.read_csv(r'J:\\Projects\\FasTrips\\obs\\input\\1.0\\OBS_fasttrips_demand_v1.0\\trip_list.txt')\n",
    "obsinput['person_id'] = obsinput['person_id'].astype('int').astype('str')\n",
    "\n",
    "obs = pd.merge(obs, obsinput[['person_id','trip_list_id_num']], on='person_id')\n",
    "obs.to_csv('R:\\FastTrips\\CHTS and OBS ft_output\\OBS_ft_output_w_stops_BN.csv')\n",
    "# Make sure observed matches modeled\n",
    "\n",
    "\n",
    "##########################\n",
    "# On Board Survey Results\n",
    "model = pd.read_csv(r'J:\\Projects\\FasTrips\\obs\\output\\OBS_fasttrips_demand_v1.0_stochastic_iter2_cap\\chosenpaths_links.csv')\n",
    "model['route_id'].fillna(\"\",inplace=True)\n",
    "# FOR NOW, assume we look at only the last iteration of path sets ?\n",
    "model = model[model['iteration'] == model['iteration'].max()]\n",
    "model['person_id'] = model['person_id'].astype('int').astype('str')\n",
    "\n",
    "\n",
    "#########################\n",
    "# Pathsets\n",
    "pathset_links = pd.read_csv(r'J:\\Projects\\FasTrips\\obs\\output\\OBS_fasttrips_demand_v1.0_stochastic_iter2_cap\\pathset_links.csv')\n",
    "pathset_links['route_id'].fillna(\"\",inplace=True)\n",
    "pathset_links = pathset_links[pathset_links['iteration'] == pathset_links['iteration'].max()]\n",
    "\n",
    "# For OBS\n",
    "pathset_paths = pd.read_csv(r'J:\\Projects\\FasTrips\\obs\\output\\OBS_fasttrips_demand_v1.0_stochastic_iter2_cap\\pathset_paths.csv')\n"
   ]
  },
  {
   "cell_type": "code",
   "execution_count": 123,
   "metadata": {
    "collapsed": true
   },
   "outputs": [],
   "source": [
    "# pathset_paths = pd.read_csv(r'J:\\Projects\\FasTrips\\obs\\output\\OBS_fasttrips_demand_v1.0_stochastic_iter2_cap\\pathset_paths.csv')"
   ]
  },
  {
   "cell_type": "code",
   "execution_count": 3,
   "metadata": {
    "collapsed": true
   },
   "outputs": [],
   "source": [
    "# Load data CHTS\n",
    "\n",
    "# # For testing, use a known list of trips, e.g., fast trips output\n",
    "# obs = pd.read_csv(r'J:\\Projects\\FasTrips\\chts\\output\\CHTS_fasttrips_demand_v0.1_stochastic_iter2_nocap\\chosenpaths_links.csv')\n",
    "# # Won't need to do this with real observed data\n",
    "# obs['route_id'].fillna(\"\",inplace=True)\n",
    "# obs = obs[obs['iteration'] == obs['iteration'].max()]\n",
    "\n",
    "# CHTS\n",
    "# Load the model records\n",
    "# model = pd.read_csv(r'J:\\Projects\\FasTrips\\chts\\output\\CHTS_fasttrips_demand_v0.1_stochastic_iter2_nocap\\chosenpaths_links.csv')\n",
    "# model['route_id'].fillna(\"\",inplace=True)\n",
    "# # FOR NOW, assume we look at only the last iteration of path sets ?\n",
    "# model = model[model['iteration'] == model['iteration'].max()]\n",
    "\n",
    "# Load pathset links\n",
    "## CHTS\n",
    "# pathset_links = pd.read_csv(r'J:\\Projects\\FasTrips\\tableau\\path-set\\pathset_links.csv')\n",
    "# pathset_links['route_id'].fillna(\"\",inplace=True)\n",
    "# pathset_links = pathset_links[pathset_links['iteration'] == pathset_links['iteration'].max()]"
   ]
  },
  {
   "cell_type": "markdown",
   "metadata": {},
   "source": [
    "# Reset Indeces"
   ]
  },
  {
   "cell_type": "code",
   "execution_count": 4,
   "metadata": {
    "collapsed": true
   },
   "outputs": [],
   "source": [
    "obs.reset_index(inplace=True)\n",
    "model.reset_index(inplace=True)\n",
    "pathset_links.reset_index(inplace=True)\n",
    "pathset_paths.reset_index(inplace=True)"
   ]
  },
  {
   "cell_type": "code",
   "execution_count": 5,
   "metadata": {
    "collapsed": false
   },
   "outputs": [],
   "source": [
    "# "
   ]
  },
  {
   "cell_type": "markdown",
   "metadata": {},
   "source": [
    "# Create Unique ID"
   ]
  },
  {
   "cell_type": "code",
   "execution_count": 6,
   "metadata": {
    "collapsed": false
   },
   "outputs": [],
   "source": [
    "obs['unique_id'] = obs['person_id'].astype('str') +\"_\"+obs['trip_list_id_num'].astype('str')\n",
    "model['unique_id'] = model['person_id'].astype('str') +\"_\"+model['trip_list_id_num'].astype('str')\n",
    "pathset_links['unique_id'] = pathset_links['person_id'].astype('int').astype('str') +\"_\"+pathset_links['trip_list_id_num'].astype('str')\n",
    "pathset_paths['unique_id'] = pathset_paths['person_id'].astype('str') +\"_\"+pathset_paths['trip_list_id_num'].astype('str')\n",
    "pathset_paths['person_id'] = pathset_paths['person_id'].astype('int').astype('str')\n",
    "pathset_paths['unique_id'] = pathset_paths['person_id'].astype('str') +\"_\"+ pathset_paths['trip_list_id_num'].astype('str')"
   ]
  },
  {
   "cell_type": "markdown",
   "metadata": {},
   "source": [
    "** each unique ID should exist within the observed and the model results **"
   ]
  },
  {
   "cell_type": "code",
   "execution_count": 7,
   "metadata": {
    "collapsed": false
   },
   "outputs": [
    {
     "name": "stdout",
     "output_type": "stream",
     "text": [
      "22951\n",
      "20836\n",
      "18131\n"
     ]
    }
   ],
   "source": [
    "# Compare the unique_id fields between each data set\n",
    "print len(obs.groupby('unique_id').count().index)\n",
    "print len(model.groupby('unique_id').count().index)\n",
    "print len(list(set((obs['unique_id'].values)).intersection((model['unique_id'].values))))"
   ]
  },
  {
   "cell_type": "markdown",
   "metadata": {},
   "source": [
    "Some observed trips were filtered out, but the number of modeled trips should be the same as the \n",
    "number of common unique_ids. For some reason it's less"
   ]
  },
  {
   "cell_type": "code",
   "execution_count": 8,
   "metadata": {
    "collapsed": false
   },
   "outputs": [],
   "source": [
    "# Use the common unique_ids to filter out the data\n",
    "model = model[model['unique_id'].isin(list(set((obs['unique_id'].values)).intersection((model['unique_id'].values))))]\n",
    "obs = obs[obs['unique_id'].isin(list(set((obs['unique_id'].values)).intersection((model['unique_id'].values))))]"
   ]
  },
  {
   "cell_type": "code",
   "execution_count": 9,
   "metadata": {
    "collapsed": false
   },
   "outputs": [
    {
     "name": "stdout",
     "output_type": "stream",
     "text": [
      "18131\n",
      "18131\n",
      "18131\n"
     ]
    }
   ],
   "source": [
    "print len(obs.groupby('unique_id').count().index)\n",
    "print len(model.groupby('unique_id').count().index)\n",
    "print len(list(set((obs['unique_id'].values)).intersection((model['unique_id'].values))))"
   ]
  },
  {
   "cell_type": "markdown",
   "metadata": {},
   "source": [
    "**Compare against the pathset links and paths files**"
   ]
  },
  {
   "cell_type": "code",
   "execution_count": 10,
   "metadata": {
    "collapsed": false
   },
   "outputs": [
    {
     "name": "stdout",
     "output_type": "stream",
     "text": [
      "18131\n",
      "25348\n",
      "18131\n"
     ]
    }
   ],
   "source": [
    "print len(obs.groupby('unique_id').count().index)\n",
    "print len(pathset_links.groupby('unique_id').count().index)\n",
    "print len(list(set((obs['unique_id'].values)).intersection((pathset_links['unique_id'].values))))\n",
    "obs = obs[obs['unique_id'].isin(list(set((obs['unique_id'].values)).intersection((model['unique_id'].values))))]\n",
    "pathset_links = pathset_links[pathset_links['unique_id'].isin(list(set((obs['unique_id'].values)).intersection((model['unique_id'].values))))]"
   ]
  },
  {
   "cell_type": "code",
   "execution_count": 11,
   "metadata": {
    "collapsed": false
   },
   "outputs": [
    {
     "name": "stdout",
     "output_type": "stream",
     "text": [
      "18131\n",
      "25441\n",
      "18131\n"
     ]
    }
   ],
   "source": [
    "print len(obs.groupby('unique_id').count().index)\n",
    "print len(pathset_paths.groupby('unique_id').count().index)\n",
    "print len(list(set((obs['unique_id'].values)).intersection((pathset_paths['unique_id'].values))))\n",
    "obs = obs[obs['unique_id'].isin(list(set((obs['unique_id'].values)).intersection((pathset_paths['unique_id'].values))))]\n",
    "pathset_paths = pathset_paths[pathset_paths['unique_id'].isin(list(set((obs['unique_id'].values)).intersection((pathset_paths['unique_id'].values))))]"
   ]
  },
  {
   "cell_type": "markdown",
   "metadata": {},
   "source": [
    "# Join correct transit route IDs to OBS data"
   ]
  },
  {
   "cell_type": "code",
   "execution_count": null,
   "metadata": {
    "collapsed": false
   },
   "outputs": [],
   "source": []
  },
  {
   "cell_type": "markdown",
   "metadata": {},
   "source": [
    "# Add a transit agency lookup too"
   ]
  },
  {
   "cell_type": "code",
   "execution_count": 12,
   "metadata": {
    "collapsed": false
   },
   "outputs": [],
   "source": [
    "def produce_path_fields(df, group):\n",
    "    '''\n",
    "    '''\n",
    "    # create \"path_routes\"\n",
    "    df['path_routes'] = df['route_id'].apply(lambda x: x.strip())\n",
    "    path_routes = pd.DataFrame(df.groupby(group)['path_routes'].apply(lambda x: \"%s\" % ' '.join(x).strip()))\n",
    "    \n",
    "    result_df = pd.DataFrame(index=path_routes.index)\n",
    "    result_df['path_routes'] = path_routes\n",
    "    \n",
    "    # create \"path_modes\"\n",
    "    df['path_modes'] = df['mode'].apply(lambda x: x.strip())\n",
    "    result_df['path_modes'] = pd.DataFrame(df.groupby(group)['mode'].apply(lambda x: \"%s\" % ' '.join(x).strip()))\n",
    "\n",
    "    # Create \"path_components\"\n",
    "    df['path_components'] = df['A_id'].astype('str')+\" \"+df['mode']+\" \"+df['route_id'] +\"_\"+ df['B_id'].astype('str')\n",
    "    df['path_components'] = df['path_components'].apply(lambda x: x.strip())\n",
    "    result_df['path_components'] = pd.DataFrame(df.groupby(group)['path_components'].apply(lambda x: \"%s\" % ' '.join(x).strip()))\n",
    "    \n",
    "    # Return ID field from index\n",
    "    result_df['unique_id'] = result_df.index.get_level_values(0).values\n",
    "    \n",
    "\n",
    "    return result_df"
   ]
  },
  {
   "cell_type": "markdown",
   "metadata": {},
   "source": [
    "# Produce joined fields from pathset link files "
   ]
  },
  {
   "cell_type": "code",
   "execution_count": 13,
   "metadata": {
    "collapsed": false
   },
   "outputs": [],
   "source": [
    "# Create caluclated joined fields for the observed, modeled, and pathset links file\n",
    "\n",
    "# Concatenate modes, route IDs, etc to produce unique trip identities\n",
    "# Do this for each set of trips in the oberved data, as well as for the modeled, since we don't have the field produced by FT\n",
    "observed_path = produce_path_fields(obs, group=['unique_id'])"
   ]
  },
  {
   "cell_type": "code",
   "execution_count": 14,
   "metadata": {
    "collapsed": true
   },
   "outputs": [],
   "source": [
    "modeled_path = produce_path_fields(model, group=['unique_id'])"
   ]
  },
  {
   "cell_type": "code",
   "execution_count": 15,
   "metadata": {
    "collapsed": false
   },
   "outputs": [],
   "source": [
    "# also process the detailed pathset_links files, so each path in the pathset has a unique trip identity\n",
    "new_pathset = produce_path_fields(pathset_links, group=['unique_id','pathnum'])"
   ]
  },
  {
   "cell_type": "markdown",
   "metadata": {},
   "source": [
    "### Weirdness with unique_id mismatch between model/obs and the pathset_links file"
   ]
  },
  {
   "cell_type": "code",
   "execution_count": 16,
   "metadata": {
    "collapsed": false
   },
   "outputs": [
    {
     "name": "stdout",
     "output_type": "stream",
     "text": [
      "305995\n",
      "94335\n",
      "70988\n"
     ]
    }
   ],
   "source": [
    "\n",
    "\n",
    "################################\n",
    "# For some reason there is not a smooth overlap between the modeled pathset_link unique_ids and the model/observed data\n",
    "# there are unique IDs missing from each, so I guess we just take an intersection of what's available for all of them?\n",
    "print len(new_pathset)\n",
    "print len(model)\n",
    "print len(obs)"
   ]
  },
  {
   "cell_type": "code",
   "execution_count": 250,
   "metadata": {
    "collapsed": false
   },
   "outputs": [],
   "source": [
    "# pathset_links['unique_id'] == ''"
   ]
  },
  {
   "cell_type": "code",
   "execution_count": 18,
   "metadata": {
    "collapsed": false
   },
   "outputs": [],
   "source": [
    "obs = obs[obs['unique_id'].isin(new_pathset['unique_id'].values)]\n",
    "model = model[model['unique_id'].isin(new_pathset['unique_id'].values)]\n",
    "new_pathset = new_pathset[new_pathset['unique_id'].isin(obs['unique_id'].values)]\n",
    "new_pathset = new_pathset[new_pathset['unique_id'].isin(model['unique_id'].values)]"
   ]
  },
  {
   "cell_type": "code",
   "execution_count": 19,
   "metadata": {
    "collapsed": false
   },
   "outputs": [
    {
     "name": "stdout",
     "output_type": "stream",
     "text": [
      "305995\n",
      "94335\n",
      "70988\n"
     ]
    }
   ],
   "source": [
    "print len(new_pathset)\n",
    "print len(model)\n",
    "print len(obs)"
   ]
  },
  {
   "cell_type": "markdown",
   "metadata": {
    "collapsed": false
   },
   "source": [
    "## Compare if modeled/observed trips match, completed or partially"
   ]
  },
  {
   "cell_type": "code",
   "execution_count": 259,
   "metadata": {
    "collapsed": false
   },
   "outputs": [],
   "source": [
    "# Join the observed and modeled fields\n",
    "df = pd.merge(observed_path, modeled_path, on='unique_id',suffixes=(\"_observed\",\"_model\"))"
   ]
  },
  {
   "cell_type": "code",
   "execution_count": 260,
   "metadata": {
    "collapsed": false
   },
   "outputs": [],
   "source": [
    "# Find rows with matching path routes\n",
    "complete_route_match = df[df['path_routes_observed'] == df['path_routes_model']]\n",
    "complete_mode_match = df[df['path_modes_observed'] == df['path_modes_model']]\n",
    "# Add complete_agency_match when available\n",
    "# complete_route_match = df[df['path_agency_observed'] == df['path_agency_model']]"
   ]
  },
  {
   "cell_type": "code",
   "execution_count": 261,
   "metadata": {
    "collapsed": false
   },
   "outputs": [],
   "source": [
    "## Extract order of transit routes taken\n",
    "df['model_path_route_list'] = df['path_routes_model'].apply(lambda x: x.split(\" \"))\n",
    "df['obs_path_route_list'] = df['path_routes_observed'].apply(lambda x: x.split(\" \"))\n",
    "\n",
    "df['model_path_mode_list'] = df['path_modes_model'].apply(lambda x: x.split(\" \"))\n",
    "df['obs_path_mode_list'] = df['path_modes_observed'].apply(lambda x: x.split(\" \"))"
   ]
  },
  {
   "cell_type": "code",
   "execution_count": 262,
   "metadata": {
    "collapsed": false
   },
   "outputs": [],
   "source": [
    "# Isolate transit modes only, because almost all trips have walk & transfer components\n",
    "non_transit_modes = ['transfer','walk_access','walk_egress','bike_access','bike_egress',\n",
    "                     'PNR_access','PNR_egress','KNR_access','KNR_egress']\n",
    "df['model_transit_modes'] = df['model_path_mode_list'].apply(\n",
    "    lambda row: [element for element in row if element not in non_transit_modes])\n",
    "df['obs_transit_modes'] = df['obs_path_mode_list'].apply(\n",
    "    lambda row: [element for element in row if element not in non_transit_modes])"
   ]
  },
  {
   "cell_type": "code",
   "execution_count": 263,
   "metadata": {
    "collapsed": false
   },
   "outputs": [],
   "source": [
    "\n",
    "# Find the intersection between the chosen model/observed paths using different criteria\n",
    "\n",
    "# transit route IDs only\n",
    "df.apply(lambda row: all(i in row['model_path_route_list'] for i in row['obs_path_route_list']), axis=1)\n",
    "df['routes_intersection'] = [list(set(a).intersection(set(b))) for a, b in zip(df['model_path_route_list'], df['obs_path_route_list'])]\n",
    "\n",
    "# All Modes (including transfer, access/egress)\n",
    "df.apply(lambda row: all(i in row['model_path_mode_list'] for i in row['obs_path_mode_list']), axis=1)\n",
    "df['all_modes_intersection'] = [list(set(a).intersection(set(b))) for a, b in zip(df['model_path_mode_list'], df['obs_path_mode_list'])]\n",
    "\n",
    "# Transit modes only (type of vehicle taken and number of boardings)\n",
    "df.apply(lambda row: all(i in row['model_path_mode_list'] for i in row['obs_path_mode_list']), axis=1)\n",
    "df['transit_modes_intersection'] = [list(set(a).intersection(set(b))) for a, b in zip(df['model_path_mode_list'], df['obs_path_mode_list'])]\n",
    "\n",
    "# Next steps: \n",
    "# Agency Intersection\n",
    "\n",
    "# All path components\n",
    "\n",
    "# Number of boardings?"
   ]
  },
  {
   "cell_type": "code",
   "execution_count": null,
   "metadata": {
    "collapsed": false
   },
   "outputs": [],
   "source": []
  },
  {
   "cell_type": "markdown",
   "metadata": {},
   "source": [
    "# Exact Match of Path Routes, Modes, Components"
   ]
  },
  {
   "cell_type": "code",
   "execution_count": null,
   "metadata": {
    "collapsed": false
   },
   "outputs": [],
   "source": []
  },
  {
   "cell_type": "code",
   "execution_count": 264,
   "metadata": {
    "collapsed": false
   },
   "outputs": [
    {
     "name": "stderr",
     "output_type": "stream",
     "text": [
      "C:\\Anaconda\\lib\\site-packages\\IPython\\kernel\\__main__.py:2: SettingWithCopyWarning: \n",
      "A value is trying to be set on a copy of a slice from a DataFrame.\n",
      "Try using .loc[row_indexer,col_indexer] = value instead\n",
      "\n",
      "See the the caveats in the documentation: http://pandas.pydata.org/pandas-docs/stable/indexing.html#indexing-view-versus-copy\n",
      "  from IPython.kernel.zmq import kernelapp as app\n"
     ]
    }
   ],
   "source": [
    "# Exact match of path modes\n",
    "complete_mode_match['complete_mode_match'] = 1\n",
    "df = pd.merge(df, complete_mode_match[['unique_id','complete_mode_match']], how='left', on='unique_id')\n",
    "df['complete_mode_match'].fillna(0,inplace=True)"
   ]
  },
  {
   "cell_type": "code",
   "execution_count": 265,
   "metadata": {
    "collapsed": false
   },
   "outputs": [],
   "source": [
    "complete_route_match['complete_route_match'] = 1"
   ]
  },
  {
   "cell_type": "code",
   "execution_count": 266,
   "metadata": {
    "collapsed": true
   },
   "outputs": [],
   "source": [
    "df = pd.merge(df, complete_route_match[['unique_id','complete_route_match']], how='left', on='unique_id')"
   ]
  },
  {
   "cell_type": "code",
   "execution_count": 267,
   "metadata": {
    "collapsed": false
   },
   "outputs": [],
   "source": [
    "df['complete_route_match'] = df['complete_route_match'].replace('nan',0)\n"
   ]
  },
  {
   "cell_type": "code",
   "execution_count": null,
   "metadata": {
    "collapsed": false
   },
   "outputs": [],
   "source": []
  },
  {
   "cell_type": "code",
   "execution_count": 268,
   "metadata": {
    "collapsed": false
   },
   "outputs": [
    {
     "data": {
      "text/plain": [
       "0.0"
      ]
     },
     "execution_count": 268,
     "metadata": {},
     "output_type": "execute_result"
    }
   ],
   "source": [
    "df['complete_route_match'].mean()"
   ]
  },
  {
   "cell_type": "code",
   "execution_count": 269,
   "metadata": {
    "collapsed": false
   },
   "outputs": [
    {
     "data": {
      "text/plain": [
       "0.2227124813854724"
      ]
     },
     "execution_count": 269,
     "metadata": {},
     "output_type": "execute_result"
    }
   ],
   "source": [
    "df['complete_mode_match'].mean()"
   ]
  },
  {
   "cell_type": "code",
   "execution_count": null,
   "metadata": {
    "collapsed": true
   },
   "outputs": [],
   "source": []
  },
  {
   "cell_type": "markdown",
   "metadata": {},
   "source": [
    "## Export fields to CSV for Tableau:\n",
    "- 'complete_route_match' 0/1\n",
    "- 'complete_mode_match' 0/1"
   ]
  },
  {
   "cell_type": "code",
   "execution_count": 274,
   "metadata": {
    "collapsed": false
   },
   "outputs": [
    {
     "data": {
      "text/plain": [
       "18131"
      ]
     },
     "execution_count": 274,
     "metadata": {},
     "output_type": "execute_result"
    }
   ],
   "source": [
    "len(df)"
   ]
  },
  {
   "cell_type": "markdown",
   "metadata": {},
   "source": [
    "# % trips with matching or partial matching routes"
   ]
  },
  {
   "cell_type": "code",
   "execution_count": 31,
   "metadata": {
    "collapsed": false
   },
   "outputs": [],
   "source": [
    "# Now we find the percent of trips with matching routes or partial matching routes\n",
    "# df.mean()[['complete_match','partial_match']]\n",
    "# Note, shuold be 100% when using the same data set, what's up??\n",
    "\n",
    "#############\n",
    "# Join the filtered data to the original results\n",
    "df['common_mode_count'] = [len(row) for row in df['all_modes_intersection']]\n",
    "df['common_transit_mode_count'] = [len(row) for row in df['transit_modes_intersection']]\n",
    "\n",
    "# How many rows have at least one mode in common?\n",
    "df['partial_mode_match'] = [1 if row > 0 else 0 for row in df['common_mode_count']]\n",
    "df['partial_transit_mode_match'] = [1 if row > 0 else 0 for row in df['common_transit_mode_count']]"
   ]
  },
  {
   "cell_type": "code",
   "execution_count": 32,
   "metadata": {
    "collapsed": false
   },
   "outputs": [
    {
     "data": {
      "text/plain": [
       "0.9986763002592245"
      ]
     },
     "execution_count": 32,
     "metadata": {},
     "output_type": "execute_result"
    }
   ],
   "source": [
    "\n",
    "df['partial_mode_match'].mean()"
   ]
  },
  {
   "cell_type": "code",
   "execution_count": 33,
   "metadata": {
    "collapsed": false
   },
   "outputs": [
    {
     "data": {
      "text/plain": [
       "0.9986763002592245"
      ]
     },
     "execution_count": 33,
     "metadata": {},
     "output_type": "execute_result"
    }
   ],
   "source": [
    "df['partial_transit_mode_match'].mean()"
   ]
  },
  {
   "cell_type": "markdown",
   "metadata": {},
   "source": [
    "## Export fields to CSV for Tableau:\n",
    "- 'partial_mode_match' 0/1\n",
    "- 'complete_mode_match' 0/1"
   ]
  },
  {
   "cell_type": "markdown",
   "metadata": {},
   "source": [
    "# Compare probability of observed path to pathset\n",
    "# & Check if path is in pathset\n"
   ]
  },
  {
   "cell_type": "code",
   "execution_count": 68,
   "metadata": {
    "collapsed": false
   },
   "outputs": [
    {
     "data": {
      "text/html": [
       "<div style=\"max-height:1000px;max-width:1500px;overflow:auto;\">\n",
       "<table border=\"1\" class=\"dataframe\">\n",
       "  <thead>\n",
       "    <tr style=\"text-align: right;\">\n",
       "      <th></th>\n",
       "      <th>path_routes</th>\n",
       "      <th>path_modes</th>\n",
       "      <th>path_components</th>\n",
       "      <th>unique_id</th>\n",
       "    </tr>\n",
       "    <tr>\n",
       "      <th>unique_id</th>\n",
       "      <th></th>\n",
       "      <th></th>\n",
       "      <th></th>\n",
       "      <th></th>\n",
       "    </tr>\n",
       "  </thead>\n",
       "  <tbody>\n",
       "    <tr>\n",
       "      <th>100066_15335</th>\n",
       "      <td>                                  Sonoma County_62</td>\n",
       "      <td>                 walk_access local_bus walk_egress</td>\n",
       "      <td> 2361.0 walk_access _ local_bus Sonoma County_6...</td>\n",
       "      <td> 100066_15335</td>\n",
       "    </tr>\n",
       "    <tr>\n",
       "      <th>1000_431</th>\n",
       "      <td> MUNI  Caltrain_San Francisco Burlingame   Tri-...</td>\n",
       "      <td> walk_access local_bus transfer commuter_rail w...</td>\n",
       "      <td> 930.0 walk_access _24893.0 24893.0 local_bus M...</td>\n",
       "      <td>     1000_431</td>\n",
       "    </tr>\n",
       "    <tr>\n",
       "      <th>1000_432</th>\n",
       "      <td> MUNI  Caltrain_San Francisco Burlingame   Tri-...</td>\n",
       "      <td> walk_access local_bus transfer commuter_rail w...</td>\n",
       "      <td> 930.0 walk_access _24893.0 24893.0 local_bus M...</td>\n",
       "      <td>     1000_432</td>\n",
       "    </tr>\n",
       "  </tbody>\n",
       "</table>\n",
       "</div>"
      ],
      "text/plain": [
       "                                                    path_routes  \\\n",
       "unique_id                                                         \n",
       "100066_15335                                   Sonoma County_62   \n",
       "1000_431      MUNI  Caltrain_San Francisco Burlingame   Tri-...   \n",
       "1000_432      MUNI  Caltrain_San Francisco Burlingame   Tri-...   \n",
       "\n",
       "                                                     path_modes  \\\n",
       "unique_id                                                         \n",
       "100066_15335                  walk_access local_bus walk_egress   \n",
       "1000_431      walk_access local_bus transfer commuter_rail w...   \n",
       "1000_432      walk_access local_bus transfer commuter_rail w...   \n",
       "\n",
       "                                                path_components     unique_id  \n",
       "unique_id                                                                      \n",
       "100066_15335  2361.0 walk_access _ local_bus Sonoma County_6...  100066_15335  \n",
       "1000_431      930.0 walk_access _24893.0 24893.0 local_bus M...      1000_431  \n",
       "1000_432      930.0 walk_access _24893.0 24893.0 local_bus M...      1000_432  "
      ]
     },
     "execution_count": 68,
     "metadata": {},
     "output_type": "execute_result"
    }
   ],
   "source": [
    "observed_path.head(3)"
   ]
  },
  {
   "cell_type": "code",
   "execution_count": 110,
   "metadata": {
    "collapsed": false
   },
   "outputs": [
    {
     "data": {
      "text/html": [
       "<div style=\"max-height:1000px;max-width:1500px;overflow:auto;\">\n",
       "<table border=\"1\" class=\"dataframe\">\n",
       "  <thead>\n",
       "    <tr style=\"text-align: right;\">\n",
       "      <th></th>\n",
       "      <th></th>\n",
       "      <th>path_routes</th>\n",
       "      <th>path_modes</th>\n",
       "      <th>path_components</th>\n",
       "      <th>unique_id</th>\n",
       "      <th>pathnum</th>\n",
       "    </tr>\n",
       "    <tr>\n",
       "      <th>unique_id</th>\n",
       "      <th>pathnum</th>\n",
       "      <th></th>\n",
       "      <th></th>\n",
       "      <th></th>\n",
       "      <th></th>\n",
       "      <th></th>\n",
       "    </tr>\n",
       "  </thead>\n",
       "  <tbody>\n",
       "    <tr>\n",
       "      <th rowspan=\"3\" valign=\"top\">100066_15335</th>\n",
       "      <th>0</th>\n",
       "      <td> 76_14MNO</td>\n",
       "      <td> walk_access local_bus walk_egress</td>\n",
       "      <td> 2361 walk_access _9376 9376 local_bus 76_14MNO...</td>\n",
       "      <td> 100066_15335</td>\n",
       "      <td> 0</td>\n",
       "    </tr>\n",
       "    <tr>\n",
       "      <th>1</th>\n",
       "      <td> 74_44NBL</td>\n",
       "      <td> walk_access local_bus walk_egress</td>\n",
       "      <td> 2361 walk_access _9376 9376 local_bus 74_44NBL...</td>\n",
       "      <td> 100066_15335</td>\n",
       "      <td> 1</td>\n",
       "    </tr>\n",
       "    <tr>\n",
       "      <th>2</th>\n",
       "      <td> 74_62NBL</td>\n",
       "      <td> walk_access local_bus walk_egress</td>\n",
       "      <td> 2361 walk_access _9376 9376 local_bus 74_62NBL...</td>\n",
       "      <td> 100066_15335</td>\n",
       "      <td> 2</td>\n",
       "    </tr>\n",
       "  </tbody>\n",
       "</table>\n",
       "</div>"
      ],
      "text/plain": [
       "                     path_routes                         path_modes  \\\n",
       "unique_id    pathnum                                                  \n",
       "100066_15335 0          76_14MNO  walk_access local_bus walk_egress   \n",
       "             1          74_44NBL  walk_access local_bus walk_egress   \n",
       "             2          74_62NBL  walk_access local_bus walk_egress   \n",
       "\n",
       "                                                        path_components  \\\n",
       "unique_id    pathnum                                                      \n",
       "100066_15335 0        2361 walk_access _9376 9376 local_bus 76_14MNO...   \n",
       "             1        2361 walk_access _9376 9376 local_bus 74_44NBL...   \n",
       "             2        2361 walk_access _9376 9376 local_bus 74_62NBL...   \n",
       "\n",
       "                         unique_id  pathnum  \n",
       "unique_id    pathnum                         \n",
       "100066_15335 0        100066_15335        0  \n",
       "             1        100066_15335        1  \n",
       "             2        100066_15335        2  "
      ]
     },
     "execution_count": 110,
     "metadata": {},
     "output_type": "execute_result"
    }
   ],
   "source": [
    "new_pathset.head(3)"
   ]
  },
  {
   "cell_type": "code",
   "execution_count": 78,
   "metadata": {
    "collapsed": false
   },
   "outputs": [],
   "source": [
    "## Add a field to the new_pathset that lists the pathnum\n",
    "new_pathset['pathnum'] = new_pathset.index.get_level_values(1)"
   ]
  },
  {
   "cell_type": "code",
   "execution_count": 79,
   "metadata": {
    "collapsed": true
   },
   "outputs": [],
   "source": [
    "# Do this with a merge?\n",
    "\n",
    "df = pd.merge(observed_path, new_pathset, how='left',\n",
    "              left_on=['unique_id','path_modes'],right_on=['unique_id','path_modes'], suffixes=['_obs','_pathset'])"
   ]
  },
  {
   "cell_type": "code",
   "execution_count": 80,
   "metadata": {
    "collapsed": false
   },
   "outputs": [
    {
     "name": "stdout",
     "output_type": "stream",
     "text": [
      "46866\n",
      "18131\n",
      "305995\n"
     ]
    }
   ],
   "source": [
    "print len(df)\n",
    "print len(observed_path)\n",
    "print len(new_pathset)"
   ]
  },
  {
   "cell_type": "code",
   "execution_count": 98,
   "metadata": {
    "collapsed": false
   },
   "outputs": [
    {
     "data": {
      "text/plain": [
       "0.28141936585157684"
      ]
     },
     "execution_count": 98,
     "metadata": {},
     "output_type": "execute_result"
    }
   ],
   "source": [
    "# How many unique ID's don't have a pathset attacheds\n",
    "len(df[df['pathnum'].isnull()])/float(len(df))"
   ]
  },
  {
   "cell_type": "code",
   "execution_count": 107,
   "metadata": {
    "collapsed": false
   },
   "outputs": [
    {
     "data": {
      "text/html": [
       "<div style=\"max-height:1000px;max-width:1500px;overflow:auto;\">\n",
       "<table border=\"1\" class=\"dataframe\">\n",
       "  <thead>\n",
       "    <tr style=\"text-align: right;\">\n",
       "      <th></th>\n",
       "      <th>path_routes_obs</th>\n",
       "      <th>path_modes</th>\n",
       "      <th>path_components_obs</th>\n",
       "      <th>unique_id</th>\n",
       "      <th>path_routes_pathset</th>\n",
       "      <th>path_components_pathset</th>\n",
       "      <th>pathnum</th>\n",
       "    </tr>\n",
       "  </thead>\n",
       "  <tbody>\n",
       "    <tr>\n",
       "      <th>0</th>\n",
       "      <td> Sonoma County_62</td>\n",
       "      <td> walk_access local_bus walk_egress</td>\n",
       "      <td> 2361.0 walk_access _ local_bus Sonoma County_6...</td>\n",
       "      <td> 100066_15335</td>\n",
       "      <td> 76_14MNO</td>\n",
       "      <td> 2361 walk_access _9376 9376 local_bus 76_14MNO...</td>\n",
       "      <td>0.00000</td>\n",
       "    </tr>\n",
       "    <tr>\n",
       "      <th>1</th>\n",
       "      <td> Sonoma County_62</td>\n",
       "      <td> walk_access local_bus walk_egress</td>\n",
       "      <td> 2361.0 walk_access _ local_bus Sonoma County_6...</td>\n",
       "      <td> 100066_15335</td>\n",
       "      <td> 74_44NBL</td>\n",
       "      <td> 2361 walk_access _9376 9376 local_bus 74_44NBL...</td>\n",
       "      <td>1.00000</td>\n",
       "    </tr>\n",
       "    <tr>\n",
       "      <th>2</th>\n",
       "      <td> Sonoma County_62</td>\n",
       "      <td> walk_access local_bus walk_egress</td>\n",
       "      <td> 2361.0 walk_access _ local_bus Sonoma County_6...</td>\n",
       "      <td> 100066_15335</td>\n",
       "      <td> 74_62NBL</td>\n",
       "      <td> 2361 walk_access _9376 9376 local_bus 74_62NBL...</td>\n",
       "      <td>2.00000</td>\n",
       "    </tr>\n",
       "  </tbody>\n",
       "</table>\n",
       "</div>"
      ],
      "text/plain": [
       "    path_routes_obs                         path_modes  \\\n",
       "0  Sonoma County_62  walk_access local_bus walk_egress   \n",
       "1  Sonoma County_62  walk_access local_bus walk_egress   \n",
       "2  Sonoma County_62  walk_access local_bus walk_egress   \n",
       "\n",
       "                                 path_components_obs     unique_id  \\\n",
       "0  2361.0 walk_access _ local_bus Sonoma County_6...  100066_15335   \n",
       "1  2361.0 walk_access _ local_bus Sonoma County_6...  100066_15335   \n",
       "2  2361.0 walk_access _ local_bus Sonoma County_6...  100066_15335   \n",
       "\n",
       "  path_routes_pathset                            path_components_pathset  \\\n",
       "0            76_14MNO  2361 walk_access _9376 9376 local_bus 76_14MNO...   \n",
       "1            74_44NBL  2361 walk_access _9376 9376 local_bus 74_44NBL...   \n",
       "2            74_62NBL  2361 walk_access _9376 9376 local_bus 74_62NBL...   \n",
       "\n",
       "   pathnum  \n",
       "0  0.00000  \n",
       "1  1.00000  \n",
       "2  2.00000  "
      ]
     },
     "execution_count": 107,
     "metadata": {},
     "output_type": "execute_result"
    }
   ],
   "source": [
    "df.head(3)"
   ]
  },
  {
   "cell_type": "code",
   "execution_count": 116,
   "metadata": {
    "collapsed": true
   },
   "outputs": [],
   "source": [
    "df['pathnum'] = df['pathnum'].fillna(0)\n",
    "df['pathnum'] = df['pathnum'].astype('int')"
   ]
  },
  {
   "cell_type": "code",
   "execution_count": 131,
   "metadata": {
    "collapsed": false
   },
   "outputs": [],
   "source": [
    "# Do we already have a unique ID? Try it anyway\n",
    "pathset_paths['unique_id'] = pathset_paths['person_id'].astype('int').astype('str')+\"_\"+pathset_paths['trip_list_id_num'].astype('int').astype('str')"
   ]
  },
  {
   "cell_type": "code",
   "execution_count": 138,
   "metadata": {
    "collapsed": true
   },
   "outputs": [],
   "source": [
    "# Now look up the probability of each path between new_pathset and pathset_paths\n",
    "newdf = pd.merge(df,pathset_paths,left_on=['unique_id','pathnum'], right_on=['unique_id','pathnum'])"
   ]
  },
  {
   "cell_type": "code",
   "execution_count": 140,
   "metadata": {
    "collapsed": false
   },
   "outputs": [],
   "source": [
    "newdf['probability'] = newdf['probability'].fillna('no_match')"
   ]
  },
  {
   "cell_type": "code",
   "execution_count": 145,
   "metadata": {
    "collapsed": false
   },
   "outputs": [],
   "source": [
    "max_prob = newdf.groupby('unique_id').max()['probability']\n",
    "\n",
    "# to take the mean, need to do some filtering\n",
    "# mean_prob = newdf.groupby('unique_id').()['probability']\n",
    "min_prob = newdf.groupby('unique_id').min()['probability']"
   ]
  },
  {
   "cell_type": "code",
   "execution_count": 229,
   "metadata": {
    "collapsed": false
   },
   "outputs": [],
   "source": [
    "#Create indicator for paths that exist\n",
    "# New dataframe that has prob matching record for each unique ID\n",
    "prob_export = pd.DataFrame([max_prob,min_prob]).T\n",
    "prob_export.columns = ['max_prob','min_prob']"
   ]
  },
  {
   "cell_type": "code",
   "execution_count": 230,
   "metadata": {
    "collapsed": false
   },
   "outputs": [],
   "source": [
    "# Pull binary data for each person\n",
    "prob_export['path_exists'] = prob_export['max_prob'].apply(lambda row_value: 0 if row_value == 'no_match' else 1)"
   ]
  },
  {
   "cell_type": "code",
   "execution_count": 231,
   "metadata": {
    "collapsed": false
   },
   "outputs": [
    {
     "data": {
      "text/plain": [
       "0.7417682422370525"
      ]
     },
     "execution_count": 231,
     "metadata": {},
     "output_type": "execute_result"
    }
   ],
   "source": [
    "prob_export['path_exists'].mean()"
   ]
  },
  {
   "cell_type": "code",
   "execution_count": 181,
   "metadata": {
    "collapsed": false
   },
   "outputs": [],
   "source": [
    "# Path exists in the pathset, based on mode strings, for 25% of all trips"
   ]
  },
  {
   "cell_type": "code",
   "execution_count": 240,
   "metadata": {
    "collapsed": false
   },
   "outputs": [],
   "source": [
    "# Is the max probability above a defined threshold?\n",
    "threshold = 0.3\n",
    "# Mark no_match_records\n",
    "prob_export.ix[prob_export['max_prob'] >= threshold, 'above_threshold'] = 1\n",
    "prob_export.ix[prob_export['max_prob'] < threshold, 'above_threshold'] = 0\n",
    "prob_export.ix[prob_export['max_prob'] == 'no_match', 'above_threshold'] = 'no_match'"
   ]
  },
  {
   "cell_type": "code",
   "execution_count": 246,
   "metadata": {
    "collapsed": false
   },
   "outputs": [
    {
     "data": {
      "text/plain": [
       "max_prob          0.48796\n",
       "min_prob          0.29901\n",
       "path_exists       1.00000\n",
       "above_threshold   0.63953\n",
       "dtype: float64"
      ]
     },
     "execution_count": 246,
     "metadata": {},
     "output_type": "execute_result"
    }
   ],
   "source": [
    "# Percent of trips above a threshold\n",
    "prob_export[prob_export['above_threshold'] != \"no_match\"].mean()"
   ]
  },
  {
   "cell_type": "code",
   "execution_count": 247,
   "metadata": {
    "collapsed": false
   },
   "outputs": [],
   "source": [
    "###\n",
    "# 63% of observed paths have a max pathest probability greather than a threshold of 0.3\n"
   ]
  },
  {
   "cell_type": "markdown",
   "metadata": {},
   "source": [
    "## Export the trip-based (unique_id) records as a new input for Tableau"
   ]
  },
  {
   "cell_type": "code",
   "execution_count": 249,
   "metadata": {
    "collapsed": false
   },
   "outputs": [],
   "source": []
  },
  {
   "cell_type": "markdown",
   "metadata": {
    "collapsed": true
   },
   "source": [
    "# Join all relevant columns & export to csv"
   ]
  },
  {
   "cell_type": "code",
   "execution_count": 278,
   "metadata": {
    "collapsed": false
   },
   "outputs": [],
   "source": [
    "prob_export['unique_id'] = prob_export.index"
   ]
  },
  {
   "cell_type": "code",
   "execution_count": 280,
   "metadata": {
    "collapsed": false
   },
   "outputs": [],
   "source": [
    "export_df = pd.merge(df, prob_export, on='unique_id')"
   ]
  },
  {
   "cell_type": "code",
   "execution_count": 282,
   "metadata": {
    "collapsed": false
   },
   "outputs": [
    {
     "data": {
      "text/plain": [
       "True"
      ]
     },
     "execution_count": 282,
     "metadata": {},
     "output_type": "execute_result"
    }
   ],
   "source": [
    "len(export_df) == len(df) == len(prob_export)"
   ]
  },
  {
   "cell_type": "code",
   "execution_count": 284,
   "metadata": {
    "collapsed": false
   },
   "outputs": [
    {
     "data": {
      "text/plain": [
       "Index([u'path_routes_observed', u'path_modes_observed', u'path_components_observed', u'unique_id', u'path_routes_model', u'path_modes_model', u'path_components_model', u'model_path_route_list', u'obs_path_route_list', u'model_path_mode_list', u'obs_path_mode_list', u'model_transit_modes', u'obs_transit_modes', u'routes_intersection', u'all_modes_intersection', u'transit_modes_intersection', u'complete_mode_match', u'complete_route_match', u'max_prob', u'min_prob', u'path_exists', u'above_threshold'], dtype='object')"
      ]
     },
     "execution_count": 284,
     "metadata": {},
     "output_type": "execute_result"
    }
   ],
   "source": [
    "# We can consider dropping columns if needed\n",
    "export_df.columns"
   ]
  },
  {
   "cell_type": "code",
   "execution_count": 285,
   "metadata": {
    "collapsed": true
   },
   "outputs": [],
   "source": [
    "export_df.to_csv('path_comparison.csv')"
   ]
  },
  {
   "cell_type": "code",
   "execution_count": null,
   "metadata": {
    "collapsed": true
   },
   "outputs": [],
   "source": []
  }
 ],
 "metadata": {
  "kernelspec": {
   "display_name": "Python 2",
   "language": "python",
   "name": "python2"
  },
  "language_info": {
   "codemirror_mode": {
    "name": "ipython",
    "version": 2
   },
   "file_extension": ".py",
   "mimetype": "text/x-python",
   "name": "python",
   "nbconvert_exporter": "python",
   "pygments_lexer": "ipython2",
   "version": "2.7.9"
  }
 },
 "nbformat": 4,
 "nbformat_minor": 0
}
