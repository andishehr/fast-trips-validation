{
 "cells": [
  {
   "cell_type": "code",
   "execution_count": 1,
   "metadata": {
    "collapsed": true
   },
   "outputs": [],
   "source": [
    "import pandas as pd\n",
    "import numpy as np"
   ]
  },
  {
   "cell_type": "markdown",
   "metadata": {},
   "source": [
    "# Append Observed to Modeld (previously completed)"
   ]
  },
  {
   "cell_type": "code",
   "execution_count": 104,
   "metadata": {
    "collapsed": false
   },
   "outputs": [],
   "source": [
    "# Load the observed records\n",
    "# \n",
    "# obs = pd.read_csv(r'R:\\FastTrips\\CHTS and OBS ft_output\\OBS_ft_output_w_stops.csv')\n",
    "# obs.fillna('',inplace=True)\n",
    "# obs['person_id'] = obs['person_id'].apply(lambda x: x.split(\"_\")[-1])\n",
    "# obs['A_id_num'] = obs['A_id_num'].replace(\"\",0)\n",
    "# obs['A_id_num'] = obs['A_id_num'].astype('int')\n",
    "\n",
    "# For testing, use a known list of trips, e.g., fast trips output\n",
    "obs = pd.read_csv(r'J:\\Projects\\FasTrips\\chts\\output\\CHTS_fasttrips_demand_v0.1_stochastic_iter2_nocap\\chosenpaths_links.csv')\n",
    "# Won't need to do this with real observed data\n",
    "obs['route_id'].fillna(\"\",inplace=True)\n",
    "obs = obs[obs['iteration'] == obs['iteration'].max()]\n",
    "\n",
    "\n",
    "\n",
    "\n",
    "# Load the model records\n",
    "model = pd.read_csv(r'J:\\Projects\\FasTrips\\chts\\output\\CHTS_fasttrips_demand_v0.1_stochastic_iter2_nocap\\chosenpaths_links.csv')\n",
    "model['route_id'].fillna(\"\",inplace=True)\n",
    "# FOR NOW, assume we look at only the last iteration of path sets ?\n",
    "model = model[model['iteration'] == model['iteration'].max()]\n",
    "\n",
    "\n",
    "# Load pathset links\n",
    "pathset_links = pd.read_csv(r'J:\\Projects\\FasTrips\\tableau\\path-set\\pathset_links.csv')\n",
    "pathset_links['route_id'].fillna(\"\",inplace=True)\n",
    "pathset_links = pathset_links[pathset_links['iteration'] == pathset_links['iteration'].max()]"
   ]
  },
  {
   "cell_type": "code",
   "execution_count": 175,
   "metadata": {
    "collapsed": false
   },
   "outputs": [],
   "source": [
    "def produce_path_fields(df, group):\n",
    "    '''\n",
    "    '''\n",
    "    # create \"path_routes\"\n",
    "    df['path_routes'] = df['route_id'].apply(lambda x: x.strip())\n",
    "    path_routes = pd.DataFrame(df.groupby(group)['path_routes'].apply(lambda x: \"%s\" % ' '.join(x).strip()))\n",
    "    \n",
    "    result_df = pd.DataFrame(index=path_routes.index)\n",
    "    result_df['path_routes'] = path_routes\n",
    "    \n",
    "    # create \"path_modes\"\n",
    "    df['path_modes'] = df['mode'].apply(lambda x: x.strip())\n",
    "    result_df['path_modes'] = pd.DataFrame(df.groupby(group)['mode'].apply(lambda x: \"%s\" % ' '.join(x).strip()))\n",
    "\n",
    "    # Create \"path_components\"\n",
    "    df['path_components'] = df['A_id'].astype('str')+\" \"+df['mode']+\" \"+df['route_id']\n",
    "    df['path_components'] = df['path_components'].apply(lambda x: x.strip())\n",
    "    result_df['path_components'] = pd.DataFrame(df.groupby(['person_id','trip_list_id_num'])['path_components'].apply(lambda x: \"%s\" % ' '.join(x).strip()))\n",
    "    \n",
    "    # Return ID field from index\n",
    "    result_df['id'] = result_df.index.get_level_values(0).values\n",
    "    \n",
    "\n",
    "    return result_df"
   ]
  },
  {
   "cell_type": "markdown",
   "metadata": {},
   "source": [
    "# Produce joined fields from pathset link files "
   ]
  },
  {
   "cell_type": "code",
   "execution_count": 176,
   "metadata": {
    "collapsed": false
   },
   "outputs": [],
   "source": [
    "# Create caluclated joined fields for the obsserved, modeled, and pathset links file\n",
    "observed_path = produce_path_fields(obs, group=['person_id','trip_list_id_num'])\n",
    "modeled_path = produce_path_fields(model, group=['person_id','trip_list_id_num'])\n",
    "new_pathset = produce_path_fields(pathset_links, group=['person_id','trip_list_id_num','pathnum'])"
   ]
  },
  {
   "cell_type": "code",
   "execution_count": null,
   "metadata": {
    "collapsed": false
   },
   "outputs": [],
   "source": []
  },
  {
   "cell_type": "code",
   "execution_count": 113,
   "metadata": {
    "collapsed": false
   },
   "outputs": [],
   "source": [
    "# Join the observed and modeled fields\n",
    "df = pd.merge(observed_path, modeled_path, on='id',suffixes=(\"_observed\",\"_model\"))"
   ]
  },
  {
   "cell_type": "code",
   "execution_count": 114,
   "metadata": {
    "collapsed": false
   },
   "outputs": [],
   "source": [
    "### Do this the dumb way for now\n",
    "df['common_routes'] = np.zeros(len(df))\n",
    "df['complete_match'] = np.zeros(len(df))\n",
    "df['partial_match'] = np.zeros(len(df))\n",
    "for i in xrange(len(df)):\n",
    "    obs_list = filter(None,df['path_routes_observed'].iloc[i].split(\" \"))\n",
    "    model_list = filter(None,df['path_routes_model'].iloc[i].split(\" \"))\n",
    "    common = list(set(obs_list).intersection(model_list))\n",
    "    df['common_routes'].iloc[i] = common\n",
    "    \n",
    "    # complete match field\n",
    "    if abs(len(obs_list) - len(model_list)) == 0:\n",
    "        df['complete_match'].iloc[i] = 1\n",
    "    else:\n",
    "        df['complete_match'].iloc[i] = 0\n",
    "    \n",
    "    if (len(common) > 0) & (len(obs_list) != len(model_list)):\n",
    "        df['partial_match'].iloc[i] = 1\n",
    "    else:\n",
    "        df['partial_match'].iloc[i] = 0\n",
    "    \n",
    "    \n",
    "#     print common"
   ]
  },
  {
   "cell_type": "code",
   "execution_count": 115,
   "metadata": {
    "collapsed": true
   },
   "outputs": [],
   "source": [
    "# SOMETHING LOOKS WRONG WITH THIS OUTPUT..."
   ]
  },
  {
   "cell_type": "markdown",
   "metadata": {},
   "source": [
    "# % trips with matching or partial matching routes"
   ]
  },
  {
   "cell_type": "code",
   "execution_count": 116,
   "metadata": {
    "collapsed": false
   },
   "outputs": [
    {
     "data": {
      "text/plain": [
       "complete_match    0.775401\n",
       "partial_match     0.021390\n",
       "dtype: float64"
      ]
     },
     "execution_count": 116,
     "metadata": {},
     "output_type": "execute_result"
    }
   ],
   "source": [
    "# Now we find the percent of trips with matching routes or partial matching routes\n",
    "df.mean()[['complete_match','partial_match']]\n",
    "# Note, shuold be 100% when using the same data set, what's up??"
   ]
  },
  {
   "cell_type": "markdown",
   "metadata": {},
   "source": [
    "# Compare probability of observed path to pathset\n"
   ]
  },
  {
   "cell_type": "code",
   "execution_count": 117,
   "metadata": {
    "collapsed": true
   },
   "outputs": [],
   "source": [
    "# Load the model pathset paths\n",
    "pathset_paths = pd.read_csv(r'J:\\Projects\\FasTrips\\tableau\\path-set\\pathset_paths.csv')"
   ]
  },
  {
   "cell_type": "code",
   "execution_count": null,
   "metadata": {
    "collapsed": false
   },
   "outputs": [],
   "source": []
  },
  {
   "cell_type": "code",
   "execution_count": 118,
   "metadata": {
    "collapsed": false
   },
   "outputs": [],
   "source": []
  },
  {
   "cell_type": "markdown",
   "metadata": {},
   "source": [
    "## Check if path exists in the pathset"
   ]
  },
  {
   "cell_type": "code",
   "execution_count": 119,
   "metadata": {
    "collapsed": true
   },
   "outputs": [],
   "source": [
    "def check_path_existence(row, pathset_df, unique_id, lookup_field):\n",
    "    \"\"\"\n",
    "    Compare field contents from chosen paths vs entire path set,\n",
    "    Return 1 if chosen path exists in pathset, 0 otherwise\n",
    "    \"\"\"\n",
    "    \n",
    "    if len(pathset_df[(pathset_df[unique_id] == row[unique_id]) & \\\n",
    "                        (pathset_df[lookup_field] == row[lookup_field])]) > 0:\n",
    "        return 1\n",
    "    else:\n",
    "        return 0"
   ]
  },
  {
   "cell_type": "code",
   "execution_count": null,
   "metadata": {
    "collapsed": false
   },
   "outputs": [],
   "source": []
  },
  {
   "cell_type": "code",
   "execution_count": 178,
   "metadata": {
    "collapsed": false
   },
   "outputs": [],
   "source": [
    "route_match = observed_path.apply(check_path_existence, pathset_df=new_pathset, unique_id='id', lookup_field='path_routes', axis=1)\n",
    "mode_match = observed_path.apply(check_path_existence, pathset_df=new_pathset, unique_id='id', lookup_field='path_modes', axis=1)\n",
    "total_match = observed_path.apply(check_path_existence, pathset_df=new_pathset, unique_id='id', lookup_field='path_components', axis=1)"
   ]
  },
  {
   "cell_type": "code",
   "execution_count": 179,
   "metadata": {
    "collapsed": false
   },
   "outputs": [],
   "source": [
    "df = pd.DataFrame([route_match,mode_match,total_match]).T\n",
    "df['id'] = df.index.get_level_values(0).values\n",
    "df.columns = ['route_match','mode_match','total_match','id']"
   ]
  },
  {
   "cell_type": "code",
   "execution_count": null,
   "metadata": {
    "collapsed": false
   },
   "outputs": [],
   "source": []
  },
  {
   "cell_type": "code",
   "execution_count": 160,
   "metadata": {
    "collapsed": false
   },
   "outputs": [],
   "source": [
    "# Join those results back into the observed path file\n",
    "df = pd.merge(observed_path, df)"
   ]
  },
  {
   "cell_type": "code",
   "execution_count": 162,
   "metadata": {
    "collapsed": false
   },
   "outputs": [
    {
     "data": {
      "text/plain": [
       "route_match    1\n",
       "mode_match     1\n",
       "total_match    0\n",
       "dtype: float64"
      ]
     },
     "execution_count": 162,
     "metadata": {},
     "output_type": "execute_result"
    }
   ],
   "source": [
    "# Percent of the observed trips that are found in the pathset, based on matching routes, modes, and everything\n",
    "df.mean()"
   ]
  },
  {
   "cell_type": "markdown",
   "metadata": {},
   "source": [
    "# Get the probability of the corresponding path from the pathset"
   ]
  },
  {
   "cell_type": "code",
   "execution_count": 165,
   "metadata": {
    "collapsed": false
   },
   "outputs": [],
   "source": [
    "def get_path_attribute(row, pathset_df, unique_id, lookup_field, value_field):\n",
    "    \"\"\"\n",
    "    For a chosen path, return parameter from path set.\n",
    "    E.g., return path probability (value_field) for observed path, based on matching path description (lookup_field)\n",
    "    \"\"\"\n",
    "    \n",
    "    if len(pathset_paths[(pathset_df[unique_id] == row[unique_id]) & \\\n",
    "                        (pathset_df[lookup_field] == row[lookup_field])]) > 0:\n",
    "        try:\n",
    "            return pathset_paths[(pathset_df[unique_id] == row[unique_id]) &  \\\n",
    "                             (pathset_df[lookup_field] == row[lookup_field])][value_field].values[0]\n",
    "        except:\n",
    "            return 0\n",
    "    else:\n",
    "        return 0"
   ]
  },
  {
   "cell_type": "code",
   "execution_count": null,
   "metadata": {
    "collapsed": false
   },
   "outputs": [],
   "source": []
  },
  {
   "cell_type": "code",
   "execution_count": 199,
   "metadata": {
    "collapsed": false
   },
   "outputs": [],
   "source": [
    "new_pathset['pathnum'] = new_pathset.index.get_level_values(2)\n",
    "new_pathset['trip_list_id_num'] = new_pathset.index.get_level_values(1)"
   ]
  },
  {
   "cell_type": "code",
   "execution_count": null,
   "metadata": {
    "collapsed": false
   },
   "outputs": [],
   "source": []
  },
  {
   "cell_type": "code",
   "execution_count": 203,
   "metadata": {
    "collapsed": false
   },
   "outputs": [],
   "source": [
    "# Join the probability to the new_pathset file\n",
    "newest_pathset = pd.merge(new_pathset,pathset_paths,left_on=['id','trip_list_id_num','pathnum'], right_on=['person_id','trip_list_id_num','pathnum'])"
   ]
  },
  {
   "cell_type": "code",
   "execution_count": 204,
   "metadata": {
    "collapsed": false
   },
   "outputs": [],
   "source": [
    "route_based = observed_path.apply(get_path_attribute, pathset_df=newest_pathset, unique_id='id', lookup_field='path_routes', value_field='pf_probability', axis=1)"
   ]
  },
  {
   "cell_type": "code",
   "execution_count": 206,
   "metadata": {
    "collapsed": false
   },
   "outputs": [
    {
     "data": {
      "text/plain": [
       "0.03736854441659149"
      ]
     },
     "execution_count": 206,
     "metadata": {},
     "output_type": "execute_result"
    }
   ],
   "source": [
    "route_based.mean()"
   ]
  },
  {
   "cell_type": "code",
   "execution_count": null,
   "metadata": {
    "collapsed": true
   },
   "outputs": [],
   "source": []
  },
  {
   "cell_type": "code",
   "execution_count": null,
   "metadata": {
    "collapsed": true
   },
   "outputs": [],
   "source": []
  },
  {
   "cell_type": "code",
   "execution_count": null,
   "metadata": {
    "collapsed": true
   },
   "outputs": [],
   "source": []
  },
  {
   "cell_type": "code",
   "execution_count": 10,
   "metadata": {
    "collapsed": false
   },
   "outputs": [],
   "source": [
    "# Convert fields to list\n",
    "df['path_routes_observed_list'] = df['path_routes_observed'].apply(lambda x: filter(None,x.split(\" \")))\n",
    "df['path_routes_model_list'] = df['path_routes_model'].apply(lambda x: filter(None,x.split(\" \")))"
   ]
  },
  {
   "cell_type": "code",
   "execution_count": 11,
   "metadata": {
    "collapsed": false
   },
   "outputs": [
    {
     "ename": "TypeError",
     "evalue": "'numpy.ndarray' object is not callable",
     "output_type": "error",
     "traceback": [
      "\u001b[1;31m---------------------------------------------------------------------------\u001b[0m",
      "\u001b[1;31mTypeError\u001b[0m                                 Traceback (most recent call last)",
      "\u001b[1;32m<ipython-input-11-d9db1421d150>\u001b[0m in \u001b[0;36m<module>\u001b[1;34m()\u001b[0m\n\u001b[1;32m----> 1\u001b[1;33m \u001b[0mdf\u001b[0m\u001b[1;33m[\u001b[0m\u001b[1;34m'path_routes_observed_list'\u001b[0m\u001b[1;33m]\u001b[0m\u001b[1;33m.\u001b[0m\u001b[0misin\u001b[0m\u001b[1;33m(\u001b[0m\u001b[0mdf\u001b[0m\u001b[1;33m[\u001b[0m\u001b[1;34m'path_routes_model_list'\u001b[0m\u001b[1;33m]\u001b[0m\u001b[1;33m.\u001b[0m\u001b[0mvalues\u001b[0m\u001b[1;33m(\u001b[0m\u001b[1;33m)\u001b[0m\u001b[1;33m)\u001b[0m\u001b[1;33m\u001b[0m\u001b[0m\n\u001b[0m",
      "\u001b[1;31mTypeError\u001b[0m: 'numpy.ndarray' object is not callable"
     ]
    }
   ],
   "source": [
    "df['path_routes_observed_list'].isin(df['path_routes_model_list'].values())"
   ]
  },
  {
   "cell_type": "code",
   "execution_count": null,
   "metadata": {
    "collapsed": false
   },
   "outputs": [],
   "source": [
    "df['path_routes_model_list'].values()"
   ]
  },
  {
   "cell_type": "code",
   "execution_count": null,
   "metadata": {
    "collapsed": false
   },
   "outputs": [],
   "source": [
    "# Store the output in a new file\n",
    "\n",
    "\n",
    "# Create \"path routes\"\n",
    "obs['path_routes'] = obs['route_id'].apply(lambda x: x.strip())\n",
    "obs_path_routes = pd.DataFrame(obs.groupby(['person_id','trip_list_id_num'])['path_routes'].apply(lambda x: \"%s\" % ' '.join(x).strip()))\n",
    "# observed_paths.index = obs_path_routes.index\n",
    "# observed_paths = pd.DataFrame(index=obs_path_routes.index)\n",
    "# observed_paths['path_routes'] = obs_path_routes"
   ]
  },
  {
   "cell_type": "code",
   "execution_count": null,
   "metadata": {
    "collapsed": false
   },
   "outputs": [],
   "source": []
  },
  {
   "cell_type": "code",
   "execution_count": null,
   "metadata": {
    "collapsed": false
   },
   "outputs": [],
   "source": [
    "# produce observed_paths file\n",
    "\n"
   ]
  },
  {
   "cell_type": "code",
   "execution_count": null,
   "metadata": {
    "collapsed": false
   },
   "outputs": [],
   "source": [
    "# Store the output in a new file\n",
    "observed_paths = pd.DataFrame()\n",
    "\n",
    "# Create \"path routes\"\n",
    "obs['path_routes'] = obs['route_id'].apply(lambda x: x.strip())\n",
    "obs_path_routes = pd.DataFrame(obs.groupby(['person_id','trip_list_id_num'])['path_routes'].apply(lambda x: \"%s\" % ' '.join(x).strip()))\n",
    "observed_paths.index = obs_path_routes.index\n",
    "observed_paths['path_routes'] = obs_path_routes"
   ]
  },
  {
   "cell_type": "code",
   "execution_count": null,
   "metadata": {
    "collapsed": false
   },
   "outputs": [],
   "source": [
    "# Create \"path_modes\"\n",
    "obs['path_modes'] = obs['mode'].apply(lambda x: x.strip())\n",
    "obs_path_modes = pd.DataFrame(obs.groupby(['person_id','trip_list_id_num'])['mode'].apply(lambda x: \"%s\" % ' '.join(x).strip()))\n",
    "observed_paths['path_modes'] = obs_path_modes"
   ]
  },
  {
   "cell_type": "code",
   "execution_count": null,
   "metadata": {
    "collapsed": false
   },
   "outputs": [],
   "source": [
    "# Create \"path_components\"\n",
    "obs['path_components'] = obs['A_id_num'].astype('str')+\" \"+obs['mode']+\" \"+obs['route_id']\n",
    "obs['path_components'] = obs['path_components'].apply(lambda x: x.strip())\n",
    "obs_path_components = pd.DataFrame(obs.groupby(['person_id','trip_list_id_num'])['path_components'].apply(lambda x: \"%s\" % ' '.join(x).strip()))\n",
    "observed_paths['path_components'] = obs_path_components"
   ]
  },
  {
   "cell_type": "code",
   "execution_count": null,
   "metadata": {
    "collapsed": false
   },
   "outputs": [],
   "source": [
    "# We need similar fields to compare against in the modeled data\n"
   ]
  },
  {
   "cell_type": "code",
   "execution_count": null,
   "metadata": {
    "collapsed": true
   },
   "outputs": [],
   "source": []
  }
 ],
 "metadata": {
  "kernelspec": {
   "display_name": "Python 2",
   "language": "python",
   "name": "python2"
  },
  "language_info": {
   "codemirror_mode": {
    "name": "ipython",
    "version": 2
   },
   "file_extension": ".py",
   "mimetype": "text/x-python",
   "name": "python",
   "nbconvert_exporter": "python",
   "pygments_lexer": "ipython2",
   "version": "2.7.9"
  }
 },
 "nbformat": 4,
 "nbformat_minor": 0
}
