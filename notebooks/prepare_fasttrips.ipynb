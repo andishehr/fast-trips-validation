{
 "cells": [
  {
   "cell_type": "code",
   "execution_count": 1,
   "metadata": {
    "collapsed": true
   },
   "outputs": [],
   "source": [
    "import pandas as pd\n",
    "import numpy as np\n",
    "\n",
    "# format sig figs\n",
    "pd.set_option('display.float_format', lambda x: '%.5f' % x)"
   ]
  },
  {
   "cell_type": "markdown",
   "metadata": {},
   "source": [
    "# Append Observed to Modeled (previously completed)\n",
    "## Add the script here..."
   ]
  },
  {
   "cell_type": "code",
   "execution_count": 2,
   "metadata": {
    "collapsed": false
   },
   "outputs": [],
   "source": [
    "#############################\n",
    "# Load the observed records\n",
    "# \n",
    "obs = pd.read_csv(r'R:\\FastTrips\\CHTS and OBS ft_output\\OBS_ft_output_w_stops.csv')\n",
    "obs.fillna('',inplace=True)\n",
    "obs['person_id'] = obs['person_id'].apply(lambda x: x.split(\"_\")[-1]).astype('str')\n",
    "obs['A_id_num'] = obs['A_id_num'].replace(\"\",0)\n",
    "obs['A_id_num'] = obs['A_id_num'].astype('int')\n",
    "obs = obs.drop('trip_list_id_num',axis=1)\n",
    "\n",
    "# ADD THE PROPER trip_list_id_num\n",
    "obsinput = pd.read_csv(r'J:\\Projects\\FasTrips\\obs\\input\\1.0\\OBS_fasttrips_demand_v1.0\\trip_list.txt')\n",
    "obsinput['person_id'] = obsinput['person_id'].astype('int').astype('str')\n",
    "\n",
    "obs = pd.merge(obs, obsinput[['person_id','trip_list_id_num']], on='person_id')\n",
    "\n",
    "# Make sure observed matches modeled\n",
    "\n",
    "\n",
    "##########################\n",
    "# On Board Survey Results\n",
    "model = pd.read_csv(r'J:\\Projects\\FasTrips\\obs\\output\\OBS_fasttrips_demand_v1.0_stochastic_iter2_cap\\chosenpaths_links.csv')\n",
    "model['route_id'].fillna(\"\",inplace=True)\n",
    "# FOR NOW, assume we look at only the last iteration of path sets ?\n",
    "model = model[model['iteration'] == model['iteration'].max()]\n",
    "model['person_id'] = model['person_id'].astype('int').astype('str')\n",
    "\n",
    "\n",
    "#########################\n",
    "# Pathsets\n",
    "pathset_links = pd.read_csv(r'J:\\Projects\\FasTrips\\obs\\output\\OBS_fasttrips_demand_v1.0_stochastic_iter2_cap\\pathset_links.csv')\n",
    "pathset_links['route_id'].fillna(\"\",inplace=True)\n",
    "pathset_links = pathset_links[pathset_links['iteration'] == pathset_links['iteration'].max()]\n",
    "pathset_links['person_id'] = pathset_links['person_id'].astype('int').astype('str')\n",
    "pathset_links['unique_id'] = pathset_links['person_id']\n",
    "\n",
    "# For OBS\n",
    "pathset_paths = pd.read_csv(r'J:\\Projects\\FasTrips\\obs\\output\\OBS_fasttrips_demand_v1.0_stochastic_iter2_cap\\pathset_paths.csv')\n",
    "pathset_paths['person_id'] = pathset_paths['person_id'].astype('int').astype('str')\n",
    "pathset_paths['unique_id'] = pathset_paths['person_id'].astype('str') +\"_\"+ pathset_paths['trip_list_id_num'].astype('str')"
   ]
  },
  {
   "cell_type": "code",
   "execution_count": 80,
   "metadata": {
    "collapsed": true
   },
   "outputs": [],
   "source": [
    "# Load data CHTS\n",
    "\n",
    "# # For testing, use a known list of trips, e.g., fast trips output\n",
    "# obs = pd.read_csv(r'J:\\Projects\\FasTrips\\chts\\output\\CHTS_fasttrips_demand_v0.1_stochastic_iter2_nocap\\chosenpaths_links.csv')\n",
    "# # Won't need to do this with real observed data\n",
    "# obs['route_id'].fillna(\"\",inplace=True)\n",
    "# obs = obs[obs['iteration'] == obs['iteration'].max()]\n",
    "\n",
    "# CHTS\n",
    "# Load the model records\n",
    "# model = pd.read_csv(r'J:\\Projects\\FasTrips\\chts\\output\\CHTS_fasttrips_demand_v0.1_stochastic_iter2_nocap\\chosenpaths_links.csv')\n",
    "# model['route_id'].fillna(\"\",inplace=True)\n",
    "# # FOR NOW, assume we look at only the last iteration of path sets ?\n",
    "# model = model[model['iteration'] == model['iteration'].max()]\n",
    "\n",
    "# Load pathset links\n",
    "## CHTS\n",
    "# pathset_links = pd.read_csv(r'J:\\Projects\\FasTrips\\tableau\\path-set\\pathset_links.csv')\n",
    "# pathset_links['route_id'].fillna(\"\",inplace=True)\n",
    "# pathset_links = pathset_links[pathset_links['iteration'] == pathset_links['iteration'].max()]"
   ]
  },
  {
   "cell_type": "markdown",
   "metadata": {},
   "source": [
    "# Create Unique ID"
   ]
  },
  {
   "cell_type": "code",
   "execution_count": 13,
   "metadata": {
    "collapsed": false
   },
   "outputs": [],
   "source": [
    "obs['unique_id'] = obs['person_id'].astype('str') +\"_\"+obs['trip_list_id_num'].astype('str')\n",
    "model['unique_id'] = model['person_id'].astype('str') +\"_\"+model['trip_list_id_num'].astype('str')\n",
    "pathset_links['unique_id'] = pathset_links['person_id'].astype('int').astype('str') +\"_\"+pathset_links['trip_list_id_num'].astype('str')\n",
    "# pathset_paths['unique_id'] = pathset_paths['person_id'].astype('str') +\"_\"+pathset_paths['trip_list_id_num'].astype('str')"
   ]
  },
  {
   "cell_type": "code",
   "execution_count": null,
   "metadata": {
    "collapsed": false
   },
   "outputs": [],
   "source": []
  },
  {
   "cell_type": "markdown",
   "metadata": {},
   "source": [
    "# Trim Data"
   ]
  },
  {
   "cell_type": "code",
   "execution_count": 14,
   "metadata": {
    "collapsed": false
   },
   "outputs": [],
   "source": [
    "pathset_links = pathset_links[pathset_links['pf_iteration'] == pathset_links['pf_iteration'].max()]"
   ]
  },
  {
   "cell_type": "code",
   "execution_count": 15,
   "metadata": {
    "collapsed": false
   },
   "outputs": [],
   "source": [
    "pathset_paths = pathset_paths[pathset_paths['pf_iteration'] == pathset_paths['pf_iteration'].max()]"
   ]
  },
  {
   "cell_type": "code",
   "execution_count": 16,
   "metadata": {
    "collapsed": false
   },
   "outputs": [],
   "source": [
    "# Make sure we only compare observed data that matched the output, in terms of trips\n",
    "# Some trips were trimmed\n",
    "obs = obs[obs['unique_id'].isin(model['unique_id'].values)]"
   ]
  },
  {
   "cell_type": "code",
   "execution_count": 24,
   "metadata": {
    "collapsed": false
   },
   "outputs": [
    {
     "data": {
      "text/plain": [
       "70988"
      ]
     },
     "execution_count": 24,
     "metadata": {},
     "output_type": "execute_result"
    }
   ],
   "source": [
    "# Since we modeled only a subset of trips, we can trim the pathset so that it includes\n",
    "# only the modeled trips\n",
    "# len(obs['unique_id'].isin(pathset_paths['unique_id'].values))\n",
    "\n"
   ]
  },
  {
   "cell_type": "code",
   "execution_count": 26,
   "metadata": {
    "collapsed": false
   },
   "outputs": [],
   "source": [
    "# len(obs)"
   ]
  },
  {
   "cell_type": "markdown",
   "metadata": {},
   "source": [
    "# Join correct transit route IDs to OBS data"
   ]
  },
  {
   "cell_type": "code",
   "execution_count": null,
   "metadata": {
    "collapsed": false
   },
   "outputs": [],
   "source": []
  },
  {
   "cell_type": "markdown",
   "metadata": {},
   "source": [
    "# Add a transit agency lookup too"
   ]
  },
  {
   "cell_type": "code",
   "execution_count": null,
   "metadata": {
    "collapsed": false
   },
   "outputs": [],
   "source": []
  },
  {
   "cell_type": "code",
   "execution_count": 22,
   "metadata": {
    "collapsed": true
   },
   "outputs": [],
   "source": []
  },
  {
   "cell_type": "code",
   "execution_count": 21,
   "metadata": {
    "collapsed": false
   },
   "outputs": [
    {
     "name": "stderr",
     "output_type": "stream",
     "text": [
      "C:\\Anaconda\\lib\\site-packages\\IPython\\kernel\\__main__.py:3: SettingWithCopyWarning: \n",
      "A value is trying to be set on a copy of a slice from a DataFrame.\n",
      "Try using .loc[row_indexer,col_indexer] = value instead\n",
      "\n",
      "See the the caveats in the documentation: http://pandas.pydata.org/pandas-docs/stable/indexing.html#indexing-view-versus-copy\n",
      "  app.launch_new_instance()\n"
     ]
    }
   ],
   "source": []
  },
  {
   "cell_type": "code",
   "execution_count": 5,
   "metadata": {
    "collapsed": false
   },
   "outputs": [],
   "source": []
  },
  {
   "cell_type": "code",
   "execution_count": 96,
   "metadata": {
    "collapsed": false
   },
   "outputs": [],
   "source": [
    "def produce_path_fields(df, group):\n",
    "    '''\n",
    "    '''\n",
    "    # create \"path_routes\"\n",
    "    df['path_routes'] = df['route_id'].apply(lambda x: x.strip())\n",
    "    path_routes = pd.DataFrame(df.groupby(group)['path_routes'].apply(lambda x: \"%s\" % ' '.join(x).strip()))\n",
    "    \n",
    "    result_df = pd.DataFrame(index=path_routes.index)\n",
    "    result_df['path_routes'] = path_routes\n",
    "    \n",
    "    # create \"path_modes\"\n",
    "    df['path_modes'] = df['mode'].apply(lambda x: x.strip())\n",
    "    result_df['path_modes'] = pd.DataFrame(df.groupby(group)['mode'].apply(lambda x: \"%s\" % ' '.join(x).strip()))\n",
    "\n",
    "    # Create \"path_components\"\n",
    "    df['path_components'] = df['A_id'].astype('str')+\" \"+df['mode']+\" \"+df['route_id'] +\"_\"+ df['B_id'].astype('str')\n",
    "    df['path_components'] = df['path_components'].apply(lambda x: x.strip())\n",
    "    result_df['path_components'] = pd.DataFrame(df.groupby(group)['path_components'].apply(lambda x: \"%s\" % ' '.join(x).strip()))\n",
    "    \n",
    "    # Return ID field from index\n",
    "    result_df['unique_id'] = result_df.index.get_level_values(0).values\n",
    "    \n",
    "\n",
    "    return result_df"
   ]
  },
  {
   "cell_type": "markdown",
   "metadata": {},
   "source": [
    "# Produce joined fields from pathset link files "
   ]
  },
  {
   "cell_type": "code",
   "execution_count": 97,
   "metadata": {
    "collapsed": false
   },
   "outputs": [],
   "source": [
    "# Create caluclated joined fields for the observed, modeled, and pathset links file\n",
    "\n",
    "# Concatenate modes, route IDs, etc to produce unique trip identities\n",
    "# Do this for each set of trips in the oberved data, as well as for the modeled, since we don't have the field produced by FT\n",
    "observed_path = produce_path_fields(obs, group=['unique_id'])"
   ]
  },
  {
   "cell_type": "code",
   "execution_count": 29,
   "metadata": {
    "collapsed": true
   },
   "outputs": [],
   "source": [
    "modeled_path = produce_path_fields(model, group=['unique_id'])"
   ]
  },
  {
   "cell_type": "markdown",
   "metadata": {},
   "source": [
    "### Weirdness with unique_id mismatch between model/obs and the pathset_links file"
   ]
  },
  {
   "cell_type": "code",
   "execution_count": 64,
   "metadata": {
    "collapsed": false
   },
   "outputs": [
    {
     "name": "stdout",
     "output_type": "stream",
     "text": [
      "170530\n",
      "111070\n",
      "70988\n"
     ]
    }
   ],
   "source": [
    "# also process the detailed pathset_links files, so each path in the pathset has a unique trip identity\n",
    "new_pathset = produce_path_fields(pathset_links, group=['unique_id','pathnum'])\n",
    "\n",
    "################################\n",
    "# For some reason there is not a smooth overlap between the modeled pathset_link unique_ids and the model/observed data\n",
    "# there are unique IDs missing from each, so I guess we just take an intersection of what's available for all of them?\n",
    "print len(new_pathset)\n",
    "print len(model)\n",
    "print len(obs)"
   ]
  },
  {
   "cell_type": "code",
   "execution_count": 65,
   "metadata": {
    "collapsed": false
   },
   "outputs": [],
   "source": [
    "obs = obs[obs['unique_id'].isin(new_pathset['unique_id'].values)]\n",
    "model = model[model['unique_id'].isin(new_pathset['unique_id'].values)]\n",
    "new_pathset = new_pathset[new_pathset['unique_id'].isin(obs['unique_id'].values)]\n",
    "new_pathset = new_pathset[new_pathset['unique_id'].isin(model['unique_id'].values)]"
   ]
  },
  {
   "cell_type": "code",
   "execution_count": 66,
   "metadata": {
    "collapsed": false
   },
   "outputs": [
    {
     "name": "stdout",
     "output_type": "stream",
     "text": [
      "85723\n",
      "42995\n",
      "18669\n"
     ]
    }
   ],
   "source": [
    "print len(new_pathset)\n",
    "print len(model)\n",
    "print len(obs)"
   ]
  },
  {
   "cell_type": "markdown",
   "metadata": {
    "collapsed": false
   },
   "source": [
    "## Compare if modeled/observed trips match, completed or partially"
   ]
  },
  {
   "cell_type": "code",
   "execution_count": 9,
   "metadata": {
    "collapsed": false
   },
   "outputs": [],
   "source": [
    "# Join the observed and modeled fields\n",
    "df = pd.merge(observed_path, modeled_path, on='unique_id',suffixes=(\"_observed\",\"_model\"))"
   ]
  },
  {
   "cell_type": "code",
   "execution_count": 10,
   "metadata": {
    "collapsed": false
   },
   "outputs": [],
   "source": [
    "# Find rows with matching path routes\n",
    "complete_route_match = df[df['path_routes_observed'] == df['path_routes_model']]\n",
    "complete_mode_match = df[df['path_modes_observed'] == df['path_modes_model']]\n",
    "# Add complete_agency_match when available\n",
    "# complete_route_match = df[df['path_agency_observed'] == df['path_agency_model']]"
   ]
  },
  {
   "cell_type": "code",
   "execution_count": 11,
   "metadata": {
    "collapsed": false
   },
   "outputs": [],
   "source": [
    "## Extract order of transit routes taken\n",
    "df['model_path_route_list'] = df['path_routes_model'].apply(lambda x: x.split(\" \"))\n",
    "df['obs_path_route_list'] = df['path_routes_observed'].apply(lambda x: x.split(\" \"))\n",
    "\n",
    "df['model_path_mode_list'] = df['path_modes_model'].apply(lambda x: x.split(\" \"))\n",
    "df['obs_path_mode_list'] = df['path_modes_observed'].apply(lambda x: x.split(\" \"))"
   ]
  },
  {
   "cell_type": "code",
   "execution_count": 12,
   "metadata": {
    "collapsed": false
   },
   "outputs": [],
   "source": [
    "# Isolate transit modes only, because almost all trips have walk & transfer components\n",
    "non_transit_modes = ['transfer','walk_access','walk_egress','bike_access','bike_egress',\n",
    "                     'PNR_access','PNR_egress','KNR_access','KNR_egress']\n",
    "df['model_transit_modes'] = df['model_path_mode_list'].apply(\n",
    "    lambda row: [element for element in row if element not in non_transit_modes])\n",
    "df['obs_transit_modes'] = df['obs_path_mode_list'].apply(\n",
    "    lambda row: [element for element in row if element not in non_transit_modes])"
   ]
  },
  {
   "cell_type": "code",
   "execution_count": 13,
   "metadata": {
    "collapsed": false
   },
   "outputs": [],
   "source": [
    "# df['routes_in_path'].apply(lambda x: len(x.split(\" \")))\n",
    "\n",
    "# Get a \n",
    "\n",
    "# Routes\n",
    "df.apply(lambda row: all(i in row['model_path_route_list'] for i in row['obs_path_route_list']), axis=1)\n",
    "df['routes_intersection'] = [list(set(a).intersection(set(b))) for a, b in zip(df['model_path_route_list'], df['obs_path_route_list'])]\n",
    "\n",
    "# All Modes\n",
    "df.apply(lambda row: all(i in row['model_path_mode_list'] for i in row['obs_path_mode_list']), axis=1)\n",
    "df['all_modes_intersection'] = [list(set(a).intersection(set(b))) for a, b in zip(df['model_path_mode_list'], df['obs_path_mode_list'])]\n",
    "\n",
    "# Transit modes only\n",
    "df.apply(lambda row: all(i in row['model_path_mode_list'] for i in row['obs_path_mode_list']), axis=1)\n",
    "df['transit_modes_intersection'] = [list(set(a).intersection(set(b))) for a, b in zip(df['model_path_mode_list'], df['obs_path_mode_list'])]\n",
    "\n",
    "\n",
    "# Agency Intersection\n",
    "\n",
    "# All path components\n"
   ]
  },
  {
   "cell_type": "markdown",
   "metadata": {},
   "source": [
    "# Exact Match of Path Routes, Modes, Components"
   ]
  },
  {
   "cell_type": "code",
   "execution_count": null,
   "metadata": {
    "collapsed": false
   },
   "outputs": [],
   "source": []
  },
  {
   "cell_type": "code",
   "execution_count": 14,
   "metadata": {
    "collapsed": false
   },
   "outputs": [
    {
     "name": "stderr",
     "output_type": "stream",
     "text": [
      "C:\\Anaconda\\lib\\site-packages\\IPython\\kernel\\__main__.py:6: SettingWithCopyWarning: \n",
      "A value is trying to be set on a copy of a slice from a DataFrame.\n",
      "Try using .loc[row_indexer,col_indexer] = value instead\n",
      "\n",
      "See the the caveats in the documentation: http://pandas.pydata.org/pandas-docs/stable/indexing.html#indexing-view-versus-copy\n"
     ]
    }
   ],
   "source": [
    "# Exact match of path modes\n",
    "complete_mode_match['complete_mode_match'] = 1\n",
    "df = pd.merge(df, complete_mode_match[['unique_id','complete_mode_match']], how='left', on='unique_id')\n",
    "df['complete_mode_match'].fillna(0,inplace=True)"
   ]
  },
  {
   "cell_type": "code",
   "execution_count": 15,
   "metadata": {
    "collapsed": false
   },
   "outputs": [],
   "source": [
    "complete_route_match['complete_route_match'] = 1"
   ]
  },
  {
   "cell_type": "code",
   "execution_count": 16,
   "metadata": {
    "collapsed": true
   },
   "outputs": [],
   "source": [
    "df = pd.merge(df, complete_route_match[['unique_id','complete_route_match']], how='left', on='unique_id')"
   ]
  },
  {
   "cell_type": "code",
   "execution_count": 17,
   "metadata": {
    "collapsed": false
   },
   "outputs": [],
   "source": [
    "df['complete_route_match'] = df['complete_route_match'].replace('nan',0)\n"
   ]
  },
  {
   "cell_type": "code",
   "execution_count": null,
   "metadata": {
    "collapsed": false
   },
   "outputs": [],
   "source": []
  },
  {
   "cell_type": "code",
   "execution_count": 18,
   "metadata": {
    "collapsed": false
   },
   "outputs": [
    {
     "data": {
      "text/plain": [
       "0.0"
      ]
     },
     "execution_count": 18,
     "metadata": {},
     "output_type": "execute_result"
    }
   ],
   "source": [
    "df['complete_route_match'].mean()"
   ]
  },
  {
   "cell_type": "code",
   "execution_count": 19,
   "metadata": {
    "collapsed": false
   },
   "outputs": [
    {
     "data": {
      "text/plain": [
       "0.2227124813854724"
      ]
     },
     "execution_count": 19,
     "metadata": {},
     "output_type": "execute_result"
    }
   ],
   "source": [
    "df['complete_mode_match'].mean()"
   ]
  },
  {
   "cell_type": "markdown",
   "metadata": {},
   "source": [
    "## Export fields to CSV for Tableau:\n",
    "- 'complete_route_match' 0/1\n",
    "- 'complete_mode_match' 0/1"
   ]
  },
  {
   "cell_type": "markdown",
   "metadata": {},
   "source": [
    "# % trips with matching or partial matching routes"
   ]
  },
  {
   "cell_type": "code",
   "execution_count": 21,
   "metadata": {
    "collapsed": false
   },
   "outputs": [],
   "source": [
    "# Now we find the percent of trips with matching routes or partial matching routes\n",
    "# df.mean()[['complete_match','partial_match']]\n",
    "# Note, shuold be 100% when using the same data set, what's up??\n",
    "\n",
    "#############\n",
    "# Join the filtered data to the original results\n",
    "df['common_mode_count'] = [len(row) for row in df['all_modes_intersection']]\n",
    "df['common_transit_mode_count'] = [len(row) for row in df['transit_modes_intersection']]\n",
    "\n",
    "# How many rows have at least one mode in common?\n",
    "df['partial_mode_match'] = [1 if row > 0 else 0 for row in df['common_mode_count']]\n",
    "df['partial_transit_mode_match'] = [1 if row > 0 else 0 for row in df['common_transit_mode_count']]"
   ]
  },
  {
   "cell_type": "code",
   "execution_count": 22,
   "metadata": {
    "collapsed": false
   },
   "outputs": [
    {
     "data": {
      "text/plain": [
       "0.9986763002592245"
      ]
     },
     "execution_count": 22,
     "metadata": {},
     "output_type": "execute_result"
    }
   ],
   "source": [
    "\n",
    "df['partial_mode_match'].mean()"
   ]
  },
  {
   "cell_type": "code",
   "execution_count": 23,
   "metadata": {
    "collapsed": false
   },
   "outputs": [
    {
     "data": {
      "text/plain": [
       "0.9986763002592245"
      ]
     },
     "execution_count": 23,
     "metadata": {},
     "output_type": "execute_result"
    }
   ],
   "source": [
    "df['partial_transit_mode_match'].mean()"
   ]
  },
  {
   "cell_type": "markdown",
   "metadata": {},
   "source": [
    "## Export fields to CSV for Tableau:\n",
    "- 'partial_mode_match' 0/1\n",
    "- 'complete_mode_match' 0/1"
   ]
  },
  {
   "cell_type": "markdown",
   "metadata": {},
   "source": [
    "# Compare probability of observed path to pathset\n"
   ]
  },
  {
   "cell_type": "code",
   "execution_count": null,
   "metadata": {
    "collapsed": true
   },
   "outputs": [],
   "source": []
  },
  {
   "cell_type": "code",
   "execution_count": null,
   "metadata": {
    "collapsed": false
   },
   "outputs": [],
   "source": []
  },
  {
   "cell_type": "markdown",
   "metadata": {},
   "source": [
    "## Check if path exists in the pathset"
   ]
  },
  {
   "cell_type": "code",
   "execution_count": 67,
   "metadata": {
    "collapsed": true
   },
   "outputs": [],
   "source": [
    "def check_path_existence(row, pathset_df, unique_id, lookup_field):\n",
    "    \"\"\"\n",
    "    Compare field contents from chosen paths vs entire path set,\n",
    "    Return 1 if chosen path exists in pathset, 0 otherwise\n",
    "    \"\"\"\n",
    "    \n",
    "    if len(pathset_df[(pathset_df[unique_id] == row[unique_id]) & \\\n",
    "                        (pathset_df[lookup_field] == row[lookup_field])]) > 0:\n",
    "        return 1\n",
    "    else:\n",
    "        return 0"
   ]
  },
  {
   "cell_type": "code",
   "execution_count": 72,
   "metadata": {
    "collapsed": false
   },
   "outputs": [],
   "source": [
    "route_match = observed_path.apply(check_path_existence, pathset_df=new_pathset, unique_id='unique_id', lookup_field='path_routes', axis=1)"
   ]
  },
  {
   "cell_type": "code",
   "execution_count": 73,
   "metadata": {
    "collapsed": true
   },
   "outputs": [],
   "source": [
    "mode_match = observed_path.apply(check_path_existence, pathset_df=new_pathset, unique_id='unique_id', lookup_field='path_modes', axis=1)"
   ]
  },
  {
   "cell_type": "markdown",
   "metadata": {},
   "source": [
    "## To add: stop based data, origin, destination, and transfers, unique set of those?"
   ]
  },
  {
   "cell_type": "code",
   "execution_count": 82,
   "metadata": {
    "collapsed": false
   },
   "outputs": [
    {
     "data": {
      "text/plain": [
       "1L"
      ]
     },
     "execution_count": 82,
     "metadata": {},
     "output_type": "execute_result"
    }
   ],
   "source": [
    "# Mode match is the only one that should match right now because the transit route IDs aren't attached\n",
    "mode_match.max()"
   ]
  },
  {
   "cell_type": "code",
   "execution_count": 83,
   "metadata": {
    "collapsed": false
   },
   "outputs": [
    {
     "data": {
      "text/plain": [
       "0.018586950526722188"
      ]
     },
     "execution_count": 83,
     "metadata": {},
     "output_type": "execute_result"
    }
   ],
   "source": [
    "mode_match.mean()"
   ]
  },
  {
   "cell_type": "code",
   "execution_count": 88,
   "metadata": {
    "collapsed": false
   },
   "outputs": [
    {
     "data": {
      "text/html": [
       "<div style=\"max-height:1000px;max-width:1500px;overflow:auto;\">\n",
       "<table border=\"1\" class=\"dataframe\">\n",
       "  <thead>\n",
       "    <tr style=\"text-align: right;\">\n",
       "      <th></th>\n",
       "      <th>path_routes</th>\n",
       "      <th>path_modes</th>\n",
       "      <th>path_components</th>\n",
       "      <th>unique_id</th>\n",
       "    </tr>\n",
       "    <tr>\n",
       "      <th>unique_id</th>\n",
       "      <th></th>\n",
       "      <th></th>\n",
       "      <th></th>\n",
       "      <th></th>\n",
       "    </tr>\n",
       "  </thead>\n",
       "  <tbody>\n",
       "    <tr>\n",
       "      <th>10036_3621</th>\n",
       "      <td> BART_1 28</td>\n",
       "      <td> walk_access heavy_rail walk_egress</td>\n",
       "      <td> 2059.0 walk_access _16520.0 16520.0 heavy_rail...</td>\n",
       "      <td> 10036_3621</td>\n",
       "    </tr>\n",
       "  </tbody>\n",
       "</table>\n",
       "</div>"
      ],
      "text/plain": [
       "           path_routes                          path_modes  \\\n",
       "unique_id                                                    \n",
       "10036_3621   BART_1 28  walk_access heavy_rail walk_egress   \n",
       "\n",
       "                                              path_components   unique_id  \n",
       "unique_id                                                                  \n",
       "10036_3621  2059.0 walk_access _16520.0 16520.0 heavy_rail...  10036_3621  "
      ]
     },
     "execution_count": 88,
     "metadata": {},
     "output_type": "execute_result"
    }
   ],
   "source": [
    "observed_path[observed_path['unique_id'] == '10036_3621']"
   ]
  },
  {
   "cell_type": "code",
   "execution_count": 87,
   "metadata": {
    "collapsed": false
   },
   "outputs": [
    {
     "data": {
      "text/html": [
       "<div style=\"max-height:1000px;max-width:1500px;overflow:auto;\">\n",
       "<table border=\"1\" class=\"dataframe\">\n",
       "  <thead>\n",
       "    <tr style=\"text-align: right;\">\n",
       "      <th></th>\n",
       "      <th></th>\n",
       "      <th>path_routes</th>\n",
       "      <th>path_modes</th>\n",
       "      <th>path_components</th>\n",
       "      <th>unique_id</th>\n",
       "    </tr>\n",
       "    <tr>\n",
       "      <th>unique_id</th>\n",
       "      <th>pathnum</th>\n",
       "      <th></th>\n",
       "      <th></th>\n",
       "      <th></th>\n",
       "      <th></th>\n",
       "    </tr>\n",
       "  </thead>\n",
       "  <tbody>\n",
       "    <tr>\n",
       "      <th rowspan=\"19\" valign=\"top\">10036_3621</th>\n",
       "      <th>0 </th>\n",
       "      <td>       38_74AC  38_70AC  56_JRNB  37_LAWB  30_292S</td>\n",
       "      <td> walk_access local_bus transfer local_bus trans...</td>\n",
       "      <td> 2059 walk_access _12574 12574 local_bus 38_74A...</td>\n",
       "      <td> 10036_3621</td>\n",
       "    </tr>\n",
       "    <tr>\n",
       "      <th>1 </th>\n",
       "      <td>      38_74AC  38_70AC  56_JPXNB  37_LAWB  30_292S</td>\n",
       "      <td> walk_access local_bus transfer local_bus trans...</td>\n",
       "      <td> 2059 walk_access _12574 12574 local_bus 38_74A...</td>\n",
       "      <td> 10036_3621</td>\n",
       "    </tr>\n",
       "    <tr>\n",
       "      <th>2 </th>\n",
       "      <td> 38_74AC  38_70AC  56_JPXNB  38_71SBAC  37_LAWB...</td>\n",
       "      <td> walk_access local_bus transfer local_bus trans...</td>\n",
       "      <td> 2059 walk_access _12574 12574 local_bus 38_74A...</td>\n",
       "      <td> 10036_3621</td>\n",
       "    </tr>\n",
       "    <tr>\n",
       "      <th>3 </th>\n",
       "      <td> 38_74AC  38_70AC  38_70AC  56_JPXNB  37_LAWB  ...</td>\n",
       "      <td> walk_access local_bus transfer local_bus trans...</td>\n",
       "      <td> 2059 walk_access _12574 12574 local_bus 38_74A...</td>\n",
       "      <td> 10036_3621</td>\n",
       "    </tr>\n",
       "    <tr>\n",
       "      <th>4 </th>\n",
       "      <td> 38_74AC  38_74AC  38_70AC  56_JPXNB  37_LAWB  ...</td>\n",
       "      <td> walk_access local_bus transfer local_bus trans...</td>\n",
       "      <td> 2059 walk_access _12574 12574 local_bus 38_74A...</td>\n",
       "      <td> 10036_3621</td>\n",
       "    </tr>\n",
       "    <tr>\n",
       "      <th>5 </th>\n",
       "      <td> 38_74AC  38_74AC  38_70AC  56_JPXNB  37_LAWB  ...</td>\n",
       "      <td> walk_access local_bus transfer local_bus trans...</td>\n",
       "      <td> 2059 walk_access _12574 12574 local_bus 38_74A...</td>\n",
       "      <td> 10036_3621</td>\n",
       "    </tr>\n",
       "    <tr>\n",
       "      <th>6 </th>\n",
       "      <td> 38_74AC  38_74AC  38_70AC  56_JPXNB  37_LAWB  ...</td>\n",
       "      <td> walk_access local_bus transfer local_bus trans...</td>\n",
       "      <td> 2059 walk_access _12574 12574 local_bus 38_74A...</td>\n",
       "      <td> 10036_3621</td>\n",
       "    </tr>\n",
       "    <tr>\n",
       "      <th>7 </th>\n",
       "      <td> 38_74AC  38_70AC  38_70AC  56_JPXNB  37_LAWB  ...</td>\n",
       "      <td> walk_access local_bus transfer local_bus trans...</td>\n",
       "      <td> 2059 walk_access _12574 12574 local_bus 38_74A...</td>\n",
       "      <td> 10036_3621</td>\n",
       "    </tr>\n",
       "    <tr>\n",
       "      <th>8 </th>\n",
       "      <td> 38_74AC  38_74AC  38_70AC  56_JPXNB  37_LAWB  ...</td>\n",
       "      <td> walk_access local_bus transfer local_bus trans...</td>\n",
       "      <td> 2059 walk_access _12574 12574 local_bus 38_74A...</td>\n",
       "      <td> 10036_3621</td>\n",
       "    </tr>\n",
       "    <tr>\n",
       "      <th>9 </th>\n",
       "      <td> 38_74AC  38_70AC  38_70AC  56_JPXNB  37_LAWB  ...</td>\n",
       "      <td> walk_access local_bus transfer local_bus trans...</td>\n",
       "      <td> 2059 walk_access _12574 12574 local_bus 38_74A...</td>\n",
       "      <td> 10036_3621</td>\n",
       "    </tr>\n",
       "    <tr>\n",
       "      <th>10</th>\n",
       "      <td> 38_74AC  38_74AC  38_70AC  56_JPXNB  37_LAWB  ...</td>\n",
       "      <td> walk_access local_bus transfer local_bus trans...</td>\n",
       "      <td> 2059 walk_access _12574 12574 local_bus 38_74A...</td>\n",
       "      <td> 10036_3621</td>\n",
       "    </tr>\n",
       "    <tr>\n",
       "      <th>11</th>\n",
       "      <td>      38_74AC  38_76AC  56_JPXNB  37_LAWB  30_292S</td>\n",
       "      <td> walk_access local_bus transfer local_bus trans...</td>\n",
       "      <td> 2059 walk_access _12574 12574 local_bus 38_74A...</td>\n",
       "      <td> 10036_3621</td>\n",
       "    </tr>\n",
       "    <tr>\n",
       "      <th>12</th>\n",
       "      <td>      38_74AC  38_76AC  56_JPXNB  37_LAWB  30_292S</td>\n",
       "      <td> walk_access local_bus transfer local_bus trans...</td>\n",
       "      <td> 2059 walk_access _12574 12574 local_bus 38_74A...</td>\n",
       "      <td> 10036_3621</td>\n",
       "    </tr>\n",
       "    <tr>\n",
       "      <th>13</th>\n",
       "      <td>      38_74AC  38_76AC  56_JPXNB  37_LAWB  30_292S</td>\n",
       "      <td> walk_access local_bus transfer local_bus trans...</td>\n",
       "      <td> 2059 walk_access _12574 12574 local_bus 38_74A...</td>\n",
       "      <td> 10036_3621</td>\n",
       "    </tr>\n",
       "    <tr>\n",
       "      <th>14</th>\n",
       "      <td>      38_74AC  38_76AC  56_JPXNB  37_LAWB  30_292S</td>\n",
       "      <td> walk_access local_bus transfer local_bus trans...</td>\n",
       "      <td> 2059 walk_access _12574 12574 local_bus 38_74A...</td>\n",
       "      <td> 10036_3621</td>\n",
       "    </tr>\n",
       "    <tr>\n",
       "      <th>15</th>\n",
       "      <td> 38_74AC  38_76AC  56_JPXNB  38_71SBAC  37_LAWB...</td>\n",
       "      <td> walk_access local_bus transfer local_bus trans...</td>\n",
       "      <td> 2059 walk_access _12574 12574 local_bus 38_74A...</td>\n",
       "      <td> 10036_3621</td>\n",
       "    </tr>\n",
       "    <tr>\n",
       "      <th>16</th>\n",
       "      <td> 38_74AC  38_76AC  56_JPXNB  38_71SBAC  37_LAWB...</td>\n",
       "      <td> walk_access local_bus transfer local_bus trans...</td>\n",
       "      <td> 2059 walk_access _12574 12574 local_bus 38_74A...</td>\n",
       "      <td> 10036_3621</td>\n",
       "    </tr>\n",
       "    <tr>\n",
       "      <th>17</th>\n",
       "      <td> 38_74AC  38_76AC  56_JPXNB  38_71SBAC  37_LAWB...</td>\n",
       "      <td> walk_access local_bus transfer local_bus trans...</td>\n",
       "      <td> 2059 walk_access _12574 12574 local_bus 38_74A...</td>\n",
       "      <td> 10036_3621</td>\n",
       "    </tr>\n",
       "    <tr>\n",
       "      <th>18</th>\n",
       "      <td> 38_74AC  38_76AC  56_JPXNB  38_71SBAC  37_LAWB...</td>\n",
       "      <td> walk_access local_bus transfer local_bus trans...</td>\n",
       "      <td> 2059 walk_access _12574 12574 local_bus 38_74A...</td>\n",
       "      <td> 10036_3621</td>\n",
       "    </tr>\n",
       "  </tbody>\n",
       "</table>\n",
       "</div>"
      ],
      "text/plain": [
       "                                                          path_routes  \\\n",
       "unique_id  pathnum                                                      \n",
       "10036_3621 0              38_74AC  38_70AC  56_JRNB  37_LAWB  30_292S   \n",
       "           1             38_74AC  38_70AC  56_JPXNB  37_LAWB  30_292S   \n",
       "           2        38_74AC  38_70AC  56_JPXNB  38_71SBAC  37_LAWB...   \n",
       "           3        38_74AC  38_70AC  38_70AC  56_JPXNB  37_LAWB  ...   \n",
       "           4        38_74AC  38_74AC  38_70AC  56_JPXNB  37_LAWB  ...   \n",
       "           5        38_74AC  38_74AC  38_70AC  56_JPXNB  37_LAWB  ...   \n",
       "           6        38_74AC  38_74AC  38_70AC  56_JPXNB  37_LAWB  ...   \n",
       "           7        38_74AC  38_70AC  38_70AC  56_JPXNB  37_LAWB  ...   \n",
       "           8        38_74AC  38_74AC  38_70AC  56_JPXNB  37_LAWB  ...   \n",
       "           9        38_74AC  38_70AC  38_70AC  56_JPXNB  37_LAWB  ...   \n",
       "           10       38_74AC  38_74AC  38_70AC  56_JPXNB  37_LAWB  ...   \n",
       "           11            38_74AC  38_76AC  56_JPXNB  37_LAWB  30_292S   \n",
       "           12            38_74AC  38_76AC  56_JPXNB  37_LAWB  30_292S   \n",
       "           13            38_74AC  38_76AC  56_JPXNB  37_LAWB  30_292S   \n",
       "           14            38_74AC  38_76AC  56_JPXNB  37_LAWB  30_292S   \n",
       "           15       38_74AC  38_76AC  56_JPXNB  38_71SBAC  37_LAWB...   \n",
       "           16       38_74AC  38_76AC  56_JPXNB  38_71SBAC  37_LAWB...   \n",
       "           17       38_74AC  38_76AC  56_JPXNB  38_71SBAC  37_LAWB...   \n",
       "           18       38_74AC  38_76AC  56_JPXNB  38_71SBAC  37_LAWB...   \n",
       "\n",
       "                                                           path_modes  \\\n",
       "unique_id  pathnum                                                      \n",
       "10036_3621 0        walk_access local_bus transfer local_bus trans...   \n",
       "           1        walk_access local_bus transfer local_bus trans...   \n",
       "           2        walk_access local_bus transfer local_bus trans...   \n",
       "           3        walk_access local_bus transfer local_bus trans...   \n",
       "           4        walk_access local_bus transfer local_bus trans...   \n",
       "           5        walk_access local_bus transfer local_bus trans...   \n",
       "           6        walk_access local_bus transfer local_bus trans...   \n",
       "           7        walk_access local_bus transfer local_bus trans...   \n",
       "           8        walk_access local_bus transfer local_bus trans...   \n",
       "           9        walk_access local_bus transfer local_bus trans...   \n",
       "           10       walk_access local_bus transfer local_bus trans...   \n",
       "           11       walk_access local_bus transfer local_bus trans...   \n",
       "           12       walk_access local_bus transfer local_bus trans...   \n",
       "           13       walk_access local_bus transfer local_bus trans...   \n",
       "           14       walk_access local_bus transfer local_bus trans...   \n",
       "           15       walk_access local_bus transfer local_bus trans...   \n",
       "           16       walk_access local_bus transfer local_bus trans...   \n",
       "           17       walk_access local_bus transfer local_bus trans...   \n",
       "           18       walk_access local_bus transfer local_bus trans...   \n",
       "\n",
       "                                                      path_components  \\\n",
       "unique_id  pathnum                                                      \n",
       "10036_3621 0        2059 walk_access _12574 12574 local_bus 38_74A...   \n",
       "           1        2059 walk_access _12574 12574 local_bus 38_74A...   \n",
       "           2        2059 walk_access _12574 12574 local_bus 38_74A...   \n",
       "           3        2059 walk_access _12574 12574 local_bus 38_74A...   \n",
       "           4        2059 walk_access _12574 12574 local_bus 38_74A...   \n",
       "           5        2059 walk_access _12574 12574 local_bus 38_74A...   \n",
       "           6        2059 walk_access _12574 12574 local_bus 38_74A...   \n",
       "           7        2059 walk_access _12574 12574 local_bus 38_74A...   \n",
       "           8        2059 walk_access _12574 12574 local_bus 38_74A...   \n",
       "           9        2059 walk_access _12574 12574 local_bus 38_74A...   \n",
       "           10       2059 walk_access _12574 12574 local_bus 38_74A...   \n",
       "           11       2059 walk_access _12574 12574 local_bus 38_74A...   \n",
       "           12       2059 walk_access _12574 12574 local_bus 38_74A...   \n",
       "           13       2059 walk_access _12574 12574 local_bus 38_74A...   \n",
       "           14       2059 walk_access _12574 12574 local_bus 38_74A...   \n",
       "           15       2059 walk_access _12574 12574 local_bus 38_74A...   \n",
       "           16       2059 walk_access _12574 12574 local_bus 38_74A...   \n",
       "           17       2059 walk_access _12574 12574 local_bus 38_74A...   \n",
       "           18       2059 walk_access _12574 12574 local_bus 38_74A...   \n",
       "\n",
       "                     unique_id  \n",
       "unique_id  pathnum              \n",
       "10036_3621 0        10036_3621  \n",
       "           1        10036_3621  \n",
       "           2        10036_3621  \n",
       "           3        10036_3621  \n",
       "           4        10036_3621  \n",
       "           5        10036_3621  \n",
       "           6        10036_3621  \n",
       "           7        10036_3621  \n",
       "           8        10036_3621  \n",
       "           9        10036_3621  \n",
       "           10       10036_3621  \n",
       "           11       10036_3621  \n",
       "           12       10036_3621  \n",
       "           13       10036_3621  \n",
       "           14       10036_3621  \n",
       "           15       10036_3621  \n",
       "           16       10036_3621  \n",
       "           17       10036_3621  \n",
       "           18       10036_3621  "
      ]
     },
     "execution_count": 87,
     "metadata": {},
     "output_type": "execute_result"
    }
   ],
   "source": [
    "new_pathset[new_pathset['unique_id'] == '10036_3621']"
   ]
  },
  {
   "cell_type": "code",
   "execution_count": null,
   "metadata": {
    "collapsed": true
   },
   "outputs": [],
   "source": []
  },
  {
   "cell_type": "code",
   "execution_count": null,
   "metadata": {
    "collapsed": true
   },
   "outputs": [],
   "source": [
    "total_match = observed_path.apply(check_path_existence, pathset_df=new_pathset, unique_id='unique_id', lookup_field='path_components', axis=1)"
   ]
  },
  {
   "cell_type": "code",
   "execution_count": null,
   "metadata": {
    "collapsed": false
   },
   "outputs": [],
   "source": [
    "df = pd.DataFrame([route_match,mode_match,total_match]).T\n",
    "df['id'] = df.index.get_level_values(0).values\n",
    "df.columns = ['route_match','mode_match','total_match','unique_id']"
   ]
  },
  {
   "cell_type": "code",
   "execution_count": null,
   "metadata": {
    "collapsed": false
   },
   "outputs": [],
   "source": []
  },
  {
   "cell_type": "code",
   "execution_count": null,
   "metadata": {
    "collapsed": false
   },
   "outputs": [],
   "source": [
    "# Join those results back into the observed path file\n",
    "df = pd.merge(observed_path, df)"
   ]
  },
  {
   "cell_type": "code",
   "execution_count": null,
   "metadata": {
    "collapsed": false
   },
   "outputs": [],
   "source": [
    "# Percent of the observed trips that are found in the pathset, based on matching routes, modes, and everything\n",
    "df.mean()"
   ]
  },
  {
   "cell_type": "code",
   "execution_count": null,
   "metadata": {
    "collapsed": false
   },
   "outputs": [],
   "source": []
  },
  {
   "cell_type": "markdown",
   "metadata": {},
   "source": [
    "# Get the probability of the corresponding path from the pathset"
   ]
  },
  {
   "cell_type": "code",
   "execution_count": 19,
   "metadata": {
    "collapsed": false
   },
   "outputs": [],
   "source": [
    "def get_path_attribute(row, pathset_df, unique_id, lookup_field, value_field):\n",
    "    \"\"\"\n",
    "    For a chosen path, return parameter from path set.\n",
    "    E.g., return path probability (value_field) for observed path, based on matching path description (lookup_field)\n",
    "    \n",
    "    Note: if multiple paths match parameters, return the max value from the matching set\n",
    "    \"\"\"\n",
    "    \n",
    "    if len(pathset_paths[(pathset_df[unique_id] == row[unique_id]) & \\\n",
    "                        (pathset_df[lookup_field] == row[lookup_field])]) > 0:\n",
    "        try:\n",
    "            return pathset_paths[(pathset_df[unique_id] == row[unique_id]) &  \\\n",
    "                             (pathset_df[lookup_field] == row[lookup_field])][value_field].values.max().index\n",
    "        except:\n",
    "            return 0\n",
    "    else:\n",
    "        return 0"
   ]
  },
  {
   "cell_type": "code",
   "execution_count": null,
   "metadata": {
    "collapsed": false
   },
   "outputs": [],
   "source": []
  },
  {
   "cell_type": "code",
   "execution_count": 20,
   "metadata": {
    "collapsed": false
   },
   "outputs": [],
   "source": [
    "# new_pathset['pathnum'] = new_pathset.index.get_level_values(1).values\n",
    "# new_pathset['unique_id'] = new_pathset.index.get_level_values(0).values\n",
    "# new_pathset = new_pathset.reset_index(drop=True)"
   ]
  },
  {
   "cell_type": "code",
   "execution_count": null,
   "metadata": {
    "collapsed": false
   },
   "outputs": [],
   "source": []
  },
  {
   "cell_type": "code",
   "execution_count": 10,
   "metadata": {
    "collapsed": false
   },
   "outputs": [
    {
     "ename": "KeyError",
     "evalue": "'unique_id'",
     "output_type": "error",
     "traceback": [
      "\u001b[1;31m---------------------------------------------------------------------------\u001b[0m",
      "\u001b[1;31mKeyError\u001b[0m                                  Traceback (most recent call last)",
      "\u001b[1;32m<ipython-input-10-c96193293b89>\u001b[0m in \u001b[0;36m<module>\u001b[1;34m()\u001b[0m\n\u001b[0;32m      1\u001b[0m \u001b[1;31m# Join the probability to the new_pathset file\u001b[0m\u001b[1;33m\u001b[0m\u001b[1;33m\u001b[0m\u001b[0m\n\u001b[1;32m----> 2\u001b[1;33m \u001b[0mnewest_pathset\u001b[0m \u001b[1;33m=\u001b[0m \u001b[0mpd\u001b[0m\u001b[1;33m.\u001b[0m\u001b[0mmerge\u001b[0m\u001b[1;33m(\u001b[0m\u001b[0mnew_pathset\u001b[0m\u001b[1;33m,\u001b[0m\u001b[0mpathset_paths\u001b[0m\u001b[1;33m,\u001b[0m\u001b[0mleft_on\u001b[0m\u001b[1;33m=\u001b[0m\u001b[1;33m[\u001b[0m\u001b[1;34m'unique_id'\u001b[0m\u001b[1;33m,\u001b[0m\u001b[1;34m'pathnum'\u001b[0m\u001b[1;33m]\u001b[0m\u001b[1;33m,\u001b[0m \u001b[0mright_on\u001b[0m\u001b[1;33m=\u001b[0m\u001b[1;33m[\u001b[0m\u001b[1;34m'unique_id'\u001b[0m\u001b[1;33m,\u001b[0m\u001b[1;34m'pathnum'\u001b[0m\u001b[1;33m]\u001b[0m\u001b[1;33m)\u001b[0m\u001b[1;33m\u001b[0m\u001b[0m\n\u001b[0m",
      "\u001b[1;32mC:\\Anaconda\\lib\\site-packages\\pandas\\tools\\merge.pyc\u001b[0m in \u001b[0;36mmerge\u001b[1;34m(left, right, how, on, left_on, right_on, left_index, right_index, sort, suffixes, copy)\u001b[0m\n\u001b[0;32m     36\u001b[0m                          \u001b[0mright_on\u001b[0m\u001b[1;33m=\u001b[0m\u001b[0mright_on\u001b[0m\u001b[1;33m,\u001b[0m \u001b[0mleft_index\u001b[0m\u001b[1;33m=\u001b[0m\u001b[0mleft_index\u001b[0m\u001b[1;33m,\u001b[0m\u001b[1;33m\u001b[0m\u001b[0m\n\u001b[0;32m     37\u001b[0m                          \u001b[0mright_index\u001b[0m\u001b[1;33m=\u001b[0m\u001b[0mright_index\u001b[0m\u001b[1;33m,\u001b[0m \u001b[0msort\u001b[0m\u001b[1;33m=\u001b[0m\u001b[0msort\u001b[0m\u001b[1;33m,\u001b[0m \u001b[0msuffixes\u001b[0m\u001b[1;33m=\u001b[0m\u001b[0msuffixes\u001b[0m\u001b[1;33m,\u001b[0m\u001b[1;33m\u001b[0m\u001b[0m\n\u001b[1;32m---> 38\u001b[1;33m                          copy=copy)\n\u001b[0m\u001b[0;32m     39\u001b[0m     \u001b[1;32mreturn\u001b[0m \u001b[0mop\u001b[0m\u001b[1;33m.\u001b[0m\u001b[0mget_result\u001b[0m\u001b[1;33m(\u001b[0m\u001b[1;33m)\u001b[0m\u001b[1;33m\u001b[0m\u001b[0m\n\u001b[0;32m     40\u001b[0m \u001b[1;32mif\u001b[0m \u001b[0m__debug__\u001b[0m\u001b[1;33m:\u001b[0m\u001b[1;33m\u001b[0m\u001b[0m\n",
      "\u001b[1;32mC:\\Anaconda\\lib\\site-packages\\pandas\\tools\\merge.pyc\u001b[0m in \u001b[0;36m__init__\u001b[1;34m(self, left, right, how, on, left_on, right_on, axis, left_index, right_index, sort, suffixes, copy)\u001b[0m\n\u001b[0;32m    182\u001b[0m         (self.left_join_keys,\n\u001b[0;32m    183\u001b[0m          \u001b[0mself\u001b[0m\u001b[1;33m.\u001b[0m\u001b[0mright_join_keys\u001b[0m\u001b[1;33m,\u001b[0m\u001b[1;33m\u001b[0m\u001b[0m\n\u001b[1;32m--> 184\u001b[1;33m          self.join_names) = self._get_merge_keys()\n\u001b[0m\u001b[0;32m    185\u001b[0m \u001b[1;33m\u001b[0m\u001b[0m\n\u001b[0;32m    186\u001b[0m     \u001b[1;32mdef\u001b[0m \u001b[0mget_result\u001b[0m\u001b[1;33m(\u001b[0m\u001b[0mself\u001b[0m\u001b[1;33m)\u001b[0m\u001b[1;33m:\u001b[0m\u001b[1;33m\u001b[0m\u001b[0m\n",
      "\u001b[1;32mC:\\Anaconda\\lib\\site-packages\\pandas\\tools\\merge.pyc\u001b[0m in \u001b[0;36m_get_merge_keys\u001b[1;34m(self)\u001b[0m\n\u001b[0;32m    342\u001b[0m                 \u001b[1;32melse\u001b[0m\u001b[1;33m:\u001b[0m\u001b[1;33m\u001b[0m\u001b[0m\n\u001b[0;32m    343\u001b[0m                     \u001b[1;32mif\u001b[0m \u001b[1;32mnot\u001b[0m \u001b[0mis_rkey\u001b[0m\u001b[1;33m(\u001b[0m\u001b[0mrk\u001b[0m\u001b[1;33m)\u001b[0m\u001b[1;33m:\u001b[0m\u001b[1;33m\u001b[0m\u001b[0m\n\u001b[1;32m--> 344\u001b[1;33m                         \u001b[0mright_keys\u001b[0m\u001b[1;33m.\u001b[0m\u001b[0mappend\u001b[0m\u001b[1;33m(\u001b[0m\u001b[0mright\u001b[0m\u001b[1;33m[\u001b[0m\u001b[0mrk\u001b[0m\u001b[1;33m]\u001b[0m\u001b[1;33m.\u001b[0m\u001b[0mvalues\u001b[0m\u001b[1;33m)\u001b[0m\u001b[1;33m\u001b[0m\u001b[0m\n\u001b[0m\u001b[0;32m    345\u001b[0m                         \u001b[1;32mif\u001b[0m \u001b[0mlk\u001b[0m \u001b[1;33m==\u001b[0m \u001b[0mrk\u001b[0m\u001b[1;33m:\u001b[0m\u001b[1;33m\u001b[0m\u001b[0m\n\u001b[0;32m    346\u001b[0m                             \u001b[1;31m# avoid key upcast in corner case (length-0)\u001b[0m\u001b[1;33m\u001b[0m\u001b[1;33m\u001b[0m\u001b[0m\n",
      "\u001b[1;32mC:\\Anaconda\\lib\\site-packages\\pandas\\core\\frame.pyc\u001b[0m in \u001b[0;36m__getitem__\u001b[1;34m(self, key)\u001b[0m\n\u001b[0;32m   1778\u001b[0m             \u001b[1;32mreturn\u001b[0m \u001b[0mself\u001b[0m\u001b[1;33m.\u001b[0m\u001b[0m_getitem_multilevel\u001b[0m\u001b[1;33m(\u001b[0m\u001b[0mkey\u001b[0m\u001b[1;33m)\u001b[0m\u001b[1;33m\u001b[0m\u001b[0m\n\u001b[0;32m   1779\u001b[0m         \u001b[1;32melse\u001b[0m\u001b[1;33m:\u001b[0m\u001b[1;33m\u001b[0m\u001b[0m\n\u001b[1;32m-> 1780\u001b[1;33m             \u001b[1;32mreturn\u001b[0m \u001b[0mself\u001b[0m\u001b[1;33m.\u001b[0m\u001b[0m_getitem_column\u001b[0m\u001b[1;33m(\u001b[0m\u001b[0mkey\u001b[0m\u001b[1;33m)\u001b[0m\u001b[1;33m\u001b[0m\u001b[0m\n\u001b[0m\u001b[0;32m   1781\u001b[0m \u001b[1;33m\u001b[0m\u001b[0m\n\u001b[0;32m   1782\u001b[0m     \u001b[1;32mdef\u001b[0m \u001b[0m_getitem_column\u001b[0m\u001b[1;33m(\u001b[0m\u001b[0mself\u001b[0m\u001b[1;33m,\u001b[0m \u001b[0mkey\u001b[0m\u001b[1;33m)\u001b[0m\u001b[1;33m:\u001b[0m\u001b[1;33m\u001b[0m\u001b[0m\n",
      "\u001b[1;32mC:\\Anaconda\\lib\\site-packages\\pandas\\core\\frame.pyc\u001b[0m in \u001b[0;36m_getitem_column\u001b[1;34m(self, key)\u001b[0m\n\u001b[0;32m   1785\u001b[0m         \u001b[1;31m# get column\u001b[0m\u001b[1;33m\u001b[0m\u001b[1;33m\u001b[0m\u001b[0m\n\u001b[0;32m   1786\u001b[0m         \u001b[1;32mif\u001b[0m \u001b[0mself\u001b[0m\u001b[1;33m.\u001b[0m\u001b[0mcolumns\u001b[0m\u001b[1;33m.\u001b[0m\u001b[0mis_unique\u001b[0m\u001b[1;33m:\u001b[0m\u001b[1;33m\u001b[0m\u001b[0m\n\u001b[1;32m-> 1787\u001b[1;33m             \u001b[1;32mreturn\u001b[0m \u001b[0mself\u001b[0m\u001b[1;33m.\u001b[0m\u001b[0m_get_item_cache\u001b[0m\u001b[1;33m(\u001b[0m\u001b[0mkey\u001b[0m\u001b[1;33m)\u001b[0m\u001b[1;33m\u001b[0m\u001b[0m\n\u001b[0m\u001b[0;32m   1788\u001b[0m \u001b[1;33m\u001b[0m\u001b[0m\n\u001b[0;32m   1789\u001b[0m         \u001b[1;31m# duplicate columns & possible reduce dimensionaility\u001b[0m\u001b[1;33m\u001b[0m\u001b[1;33m\u001b[0m\u001b[0m\n",
      "\u001b[1;32mC:\\Anaconda\\lib\\site-packages\\pandas\\core\\generic.pyc\u001b[0m in \u001b[0;36m_get_item_cache\u001b[1;34m(self, item)\u001b[0m\n\u001b[0;32m   1066\u001b[0m         \u001b[0mres\u001b[0m \u001b[1;33m=\u001b[0m \u001b[0mcache\u001b[0m\u001b[1;33m.\u001b[0m\u001b[0mget\u001b[0m\u001b[1;33m(\u001b[0m\u001b[0mitem\u001b[0m\u001b[1;33m)\u001b[0m\u001b[1;33m\u001b[0m\u001b[0m\n\u001b[0;32m   1067\u001b[0m         \u001b[1;32mif\u001b[0m \u001b[0mres\u001b[0m \u001b[1;32mis\u001b[0m \u001b[0mNone\u001b[0m\u001b[1;33m:\u001b[0m\u001b[1;33m\u001b[0m\u001b[0m\n\u001b[1;32m-> 1068\u001b[1;33m             \u001b[0mvalues\u001b[0m \u001b[1;33m=\u001b[0m \u001b[0mself\u001b[0m\u001b[1;33m.\u001b[0m\u001b[0m_data\u001b[0m\u001b[1;33m.\u001b[0m\u001b[0mget\u001b[0m\u001b[1;33m(\u001b[0m\u001b[0mitem\u001b[0m\u001b[1;33m)\u001b[0m\u001b[1;33m\u001b[0m\u001b[0m\n\u001b[0m\u001b[0;32m   1069\u001b[0m             \u001b[0mres\u001b[0m \u001b[1;33m=\u001b[0m \u001b[0mself\u001b[0m\u001b[1;33m.\u001b[0m\u001b[0m_box_item_values\u001b[0m\u001b[1;33m(\u001b[0m\u001b[0mitem\u001b[0m\u001b[1;33m,\u001b[0m \u001b[0mvalues\u001b[0m\u001b[1;33m)\u001b[0m\u001b[1;33m\u001b[0m\u001b[0m\n\u001b[0;32m   1070\u001b[0m             \u001b[0mcache\u001b[0m\u001b[1;33m[\u001b[0m\u001b[0mitem\u001b[0m\u001b[1;33m]\u001b[0m \u001b[1;33m=\u001b[0m \u001b[0mres\u001b[0m\u001b[1;33m\u001b[0m\u001b[0m\n",
      "\u001b[1;32mC:\\Anaconda\\lib\\site-packages\\pandas\\core\\internals.pyc\u001b[0m in \u001b[0;36mget\u001b[1;34m(self, item, fastpath)\u001b[0m\n\u001b[0;32m   2847\u001b[0m \u001b[1;33m\u001b[0m\u001b[0m\n\u001b[0;32m   2848\u001b[0m             \u001b[1;32mif\u001b[0m \u001b[1;32mnot\u001b[0m \u001b[0misnull\u001b[0m\u001b[1;33m(\u001b[0m\u001b[0mitem\u001b[0m\u001b[1;33m)\u001b[0m\u001b[1;33m:\u001b[0m\u001b[1;33m\u001b[0m\u001b[0m\n\u001b[1;32m-> 2849\u001b[1;33m                 \u001b[0mloc\u001b[0m \u001b[1;33m=\u001b[0m \u001b[0mself\u001b[0m\u001b[1;33m.\u001b[0m\u001b[0mitems\u001b[0m\u001b[1;33m.\u001b[0m\u001b[0mget_loc\u001b[0m\u001b[1;33m(\u001b[0m\u001b[0mitem\u001b[0m\u001b[1;33m)\u001b[0m\u001b[1;33m\u001b[0m\u001b[0m\n\u001b[0m\u001b[0;32m   2850\u001b[0m             \u001b[1;32melse\u001b[0m\u001b[1;33m:\u001b[0m\u001b[1;33m\u001b[0m\u001b[0m\n\u001b[0;32m   2851\u001b[0m                 \u001b[0mindexer\u001b[0m \u001b[1;33m=\u001b[0m \u001b[0mnp\u001b[0m\u001b[1;33m.\u001b[0m\u001b[0marange\u001b[0m\u001b[1;33m(\u001b[0m\u001b[0mlen\u001b[0m\u001b[1;33m(\u001b[0m\u001b[0mself\u001b[0m\u001b[1;33m.\u001b[0m\u001b[0mitems\u001b[0m\u001b[1;33m)\u001b[0m\u001b[1;33m)\u001b[0m\u001b[1;33m[\u001b[0m\u001b[0misnull\u001b[0m\u001b[1;33m(\u001b[0m\u001b[0mself\u001b[0m\u001b[1;33m.\u001b[0m\u001b[0mitems\u001b[0m\u001b[1;33m)\u001b[0m\u001b[1;33m]\u001b[0m\u001b[1;33m\u001b[0m\u001b[0m\n",
      "\u001b[1;32mC:\\Anaconda\\lib\\site-packages\\pandas\\core\\index.pyc\u001b[0m in \u001b[0;36mget_loc\u001b[1;34m(self, key)\u001b[0m\n\u001b[0;32m   1400\u001b[0m         \u001b[0mloc\u001b[0m \u001b[1;33m:\u001b[0m \u001b[0mint\u001b[0m \u001b[1;32mif\u001b[0m \u001b[0munique\u001b[0m \u001b[0mindex\u001b[0m\u001b[1;33m,\u001b[0m \u001b[0mpossibly\u001b[0m \u001b[0mslice\u001b[0m \u001b[1;32mor\u001b[0m \u001b[0mmask\u001b[0m \u001b[1;32mif\u001b[0m \u001b[1;32mnot\u001b[0m\u001b[1;33m\u001b[0m\u001b[0m\n\u001b[0;32m   1401\u001b[0m         \"\"\"\n\u001b[1;32m-> 1402\u001b[1;33m         \u001b[1;32mreturn\u001b[0m \u001b[0mself\u001b[0m\u001b[1;33m.\u001b[0m\u001b[0m_engine\u001b[0m\u001b[1;33m.\u001b[0m\u001b[0mget_loc\u001b[0m\u001b[1;33m(\u001b[0m\u001b[0m_values_from_object\u001b[0m\u001b[1;33m(\u001b[0m\u001b[0mkey\u001b[0m\u001b[1;33m)\u001b[0m\u001b[1;33m)\u001b[0m\u001b[1;33m\u001b[0m\u001b[0m\n\u001b[0m\u001b[0;32m   1403\u001b[0m \u001b[1;33m\u001b[0m\u001b[0m\n\u001b[0;32m   1404\u001b[0m     \u001b[1;32mdef\u001b[0m \u001b[0mget_value\u001b[0m\u001b[1;33m(\u001b[0m\u001b[0mself\u001b[0m\u001b[1;33m,\u001b[0m \u001b[0mseries\u001b[0m\u001b[1;33m,\u001b[0m \u001b[0mkey\u001b[0m\u001b[1;33m)\u001b[0m\u001b[1;33m:\u001b[0m\u001b[1;33m\u001b[0m\u001b[0m\n",
      "\u001b[1;32mpandas\\index.pyx\u001b[0m in \u001b[0;36mpandas.index.IndexEngine.get_loc (pandas\\index.c:3820)\u001b[1;34m()\u001b[0m\n",
      "\u001b[1;32mpandas\\index.pyx\u001b[0m in \u001b[0;36mpandas.index.IndexEngine.get_loc (pandas\\index.c:3700)\u001b[1;34m()\u001b[0m\n",
      "\u001b[1;32mpandas\\hashtable.pyx\u001b[0m in \u001b[0;36mpandas.hashtable.PyObjectHashTable.get_item (pandas\\hashtable.c:12323)\u001b[1;34m()\u001b[0m\n",
      "\u001b[1;32mpandas\\hashtable.pyx\u001b[0m in \u001b[0;36mpandas.hashtable.PyObjectHashTable.get_item (pandas\\hashtable.c:12274)\u001b[1;34m()\u001b[0m\n",
      "\u001b[1;31mKeyError\u001b[0m: 'unique_id'"
     ]
    }
   ],
   "source": [
    "# Join the probability to the new_pathset file\n",
    "newest_pathset = pd.merge(new_pathset,pathset_paths,left_on=['unique_id','pathnum'], right_on=['unique_id','pathnum'])"
   ]
  },
  {
   "cell_type": "code",
   "execution_count": null,
   "metadata": {
    "collapsed": false
   },
   "outputs": [],
   "source": [
    "route_based = observed_path.apply(get_path_attribute, pathset_df=newest_pathset, unique_id='unique_id', \n",
    "                                  lookup_field='path_routes', value_field='pf_probability', axis=1)"
   ]
  },
  {
   "cell_type": "code",
   "execution_count": null,
   "metadata": {
    "collapsed": false
   },
   "outputs": [],
   "source": [
    "entire_path = observed_path.apply(get_path_attribute, pathset_df=newest_pathset, unique_id='unique_id', \n",
    "                                  lookup_field='path_components', value_field='pf_probability', axis=1)"
   ]
  },
  {
   "cell_type": "code",
   "execution_count": null,
   "metadata": {
    "collapsed": false
   },
   "outputs": [],
   "source": [
    "a = observed_path[(observed_path['unique_id'] == '1095531_3_1')]['path_components'].values"
   ]
  },
  {
   "cell_type": "code",
   "execution_count": null,
   "metadata": {
    "collapsed": false
   },
   "outputs": [],
   "source": [
    "b = modeled_path[(modeled_path['unique_id'] == '1095531_3_1')]['path_components'].values[0]"
   ]
  },
  {
   "cell_type": "code",
   "execution_count": null,
   "metadata": {
    "collapsed": false
   },
   "outputs": [],
   "source": [
    "newest_pathset[newest_pathset['path_components'] == b].to_csv('test.csv')"
   ]
  },
  {
   "cell_type": "code",
   "execution_count": null,
   "metadata": {
    "collapsed": false
   },
   "outputs": [],
   "source": [
    "# newest_pathset[observed_path['path_components'] == observed_path[(observed_path['unique_id'] == '1095531_3_1')]['path_components'].values[0]]"
   ]
  },
  {
   "cell_type": "code",
   "execution_count": null,
   "metadata": {
    "collapsed": false
   },
   "outputs": [],
   "source": [
    "route_based[route_based.index == '1095531_3_1']"
   ]
  },
  {
   "cell_type": "code",
   "execution_count": null,
   "metadata": {
    "collapsed": false
   },
   "outputs": [],
   "source": [
    "pathset_paths[pathset_paths['chosen'] == 1]"
   ]
  },
  {
   "cell_type": "code",
   "execution_count": null,
   "metadata": {
    "collapsed": false
   },
   "outputs": [],
   "source": []
  },
  {
   "cell_type": "code",
   "execution_count": null,
   "metadata": {
    "collapsed": true
   },
   "outputs": [],
   "source": []
  },
  {
   "cell_type": "code",
   "execution_count": null,
   "metadata": {
    "collapsed": false
   },
   "outputs": [],
   "source": [
    "# Convert fields to list\n",
    "df['path_routes_observed_list'] = df['path_routes_observed'].apply(lambda x: filter(None,x.split(\" \")))\n",
    "df['path_routes_model_list'] = df['path_routes_model'].apply(lambda x: filter(None,x.split(\" \")))"
   ]
  },
  {
   "cell_type": "code",
   "execution_count": null,
   "metadata": {
    "collapsed": false
   },
   "outputs": [],
   "source": [
    "df['path_routes_observed_list'].isin(df['path_routes_model_list'].values())"
   ]
  },
  {
   "cell_type": "code",
   "execution_count": null,
   "metadata": {
    "collapsed": false
   },
   "outputs": [],
   "source": [
    "df['path_routes_model_list'].values()"
   ]
  },
  {
   "cell_type": "code",
   "execution_count": null,
   "metadata": {
    "collapsed": false
   },
   "outputs": [],
   "source": [
    "# Store the output in a new file\n",
    "\n",
    "\n",
    "# Create \"path routes\"\n",
    "obs['path_routes'] = obs['route_id'].apply(lambda x: x.strip())\n",
    "obs_path_routes = pd.DataFrame(obs.groupby(['person_id','trip_list_id_num'])['path_routes'].apply(lambda x: \"%s\" % ' '.join(x).strip()))\n",
    "# observed_paths.index = obs_path_routes.index\n",
    "# observed_paths = pd.DataFrame(index=obs_path_routes.index)\n",
    "# observed_paths['path_routes'] = obs_path_routes"
   ]
  },
  {
   "cell_type": "code",
   "execution_count": null,
   "metadata": {
    "collapsed": false
   },
   "outputs": [],
   "source": []
  },
  {
   "cell_type": "code",
   "execution_count": null,
   "metadata": {
    "collapsed": false
   },
   "outputs": [],
   "source": [
    "# produce observed_paths file\n",
    "\n"
   ]
  },
  {
   "cell_type": "code",
   "execution_count": null,
   "metadata": {
    "collapsed": false
   },
   "outputs": [],
   "source": [
    "# Store the output in a new file\n",
    "observed_paths = pd.DataFrame()\n",
    "\n",
    "# Create \"path routes\"\n",
    "obs['path_routes'] = obs['route_id'].apply(lambda x: x.strip())\n",
    "obs_path_routes = pd.DataFrame(obs.groupby(['person_id','trip_list_id_num'])['path_routes'].apply(lambda x: \"%s\" % ' '.join(x).strip()))\n",
    "observed_paths.index = obs_path_routes.index\n",
    "observed_paths['path_routes'] = obs_path_routes"
   ]
  },
  {
   "cell_type": "code",
   "execution_count": null,
   "metadata": {
    "collapsed": false
   },
   "outputs": [],
   "source": [
    "# Create \"path_modes\"\n",
    "obs['path_modes'] = obs['mode'].apply(lambda x: x.strip())\n",
    "obs_path_modes = pd.DataFrame(obs.groupby(['person_id','trip_list_id_num'])['mode'].apply(lambda x: \"%s\" % ' '.join(x).strip()))\n",
    "observed_paths['path_modes'] = obs_path_modes"
   ]
  },
  {
   "cell_type": "code",
   "execution_count": null,
   "metadata": {
    "collapsed": false
   },
   "outputs": [],
   "source": [
    "# Create \"path_components\"\n",
    "obs['path_components'] = obs['A_id_num'].astype('str')+\" \"+obs['mode']+\" \"+obs['route_id']\n",
    "obs['path_components'] = obs['path_components'].apply(lambda x: x.strip())\n",
    "obs_path_components = pd.DataFrame(obs.groupby(['person_id','trip_list_id_num'])['path_components'].apply(lambda x: \"%s\" % ' '.join(x).strip()))\n",
    "observed_paths['path_components'] = obs_path_components"
   ]
  },
  {
   "cell_type": "code",
   "execution_count": null,
   "metadata": {
    "collapsed": false
   },
   "outputs": [],
   "source": [
    "# We need similar fields to compare against in the modeled data\n"
   ]
  },
  {
   "cell_type": "code",
   "execution_count": null,
   "metadata": {
    "collapsed": true
   },
   "outputs": [],
   "source": []
  }
 ],
 "metadata": {
  "kernelspec": {
   "display_name": "Python 2",
   "language": "python",
   "name": "python2"
  },
  "language_info": {
   "codemirror_mode": {
    "name": "ipython",
    "version": 2
   },
   "file_extension": ".py",
   "mimetype": "text/x-python",
   "name": "python",
   "nbconvert_exporter": "python",
   "pygments_lexer": "ipython2",
   "version": "2.7.9"
  }
 },
 "nbformat": 4,
 "nbformat_minor": 0
}
