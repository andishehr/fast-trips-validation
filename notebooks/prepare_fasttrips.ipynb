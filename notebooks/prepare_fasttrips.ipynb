{
 "cells": [
  {
   "cell_type": "code",
   "execution_count": 1,
   "metadata": {
    "collapsed": true
   },
   "outputs": [],
   "source": [
    "import pandas as pd\n",
    "import numpy as np\n",
    "\n",
    "# format sig figs\n",
    "pd.set_option('display.float_format', lambda x: '%.5f' % x)"
   ]
  },
  {
   "cell_type": "markdown",
   "metadata": {},
   "source": [
    "# Append Observed to Modeled (previously completed)\n",
    "## Add the script here..."
   ]
  },
  {
   "cell_type": "code",
   "execution_count": 2,
   "metadata": {
    "collapsed": false
   },
   "outputs": [],
   "source": [
    "#############################\n",
    "# Load the observed records\n",
    "# \n",
    "obs = pd.read_csv(r'R:\\FastTrips\\CHTS and OBS ft_output\\OBS_ft_output_w_stops.csv')\n",
    "obs.fillna('',inplace=True)\n",
    "obs['person_id'] = obs['person_id'].apply(lambda x: x.split(\"_\")[-1]).astype('str')\n",
    "obs['A_id_num'] = obs['A_id_num'].replace(\"\",0)\n",
    "obs['A_id_num'] = obs['A_id_num'].astype('int')\n",
    "obs = obs.drop('trip_list_id_num',axis=1)\n",
    "\n",
    "# ADD THE PROPER trip_list_id_num\n",
    "obsinput = pd.read_csv(r'J:\\Projects\\FasTrips\\obs\\input\\1.0\\OBS_fasttrips_demand_v1.0\\trip_list.txt')\n",
    "obsinput['person_id'] = obsinput['person_id'].astype('int').astype('str')\n",
    "\n",
    "obs = pd.merge(obs, obsinput[['person_id','trip_list_id_num']], on='person_id')\n",
    "obs.to_csv('R:\\FastTrips\\CHTS and OBS ft_output\\OBS_ft_output_w_stops_BN.csv')\n",
    "# Make sure observed matches modeled\n",
    "\n",
    "\n",
    "##########################\n",
    "# On Board Survey Results\n",
    "model = pd.read_csv(r'J:\\Projects\\FasTrips\\obs\\output\\OBS_fasttrips_demand_v1.0_stochastic_iter2_cap\\chosenpaths_links.csv')\n",
    "model['route_id'].fillna(\"\",inplace=True)\n",
    "# FOR NOW, assume we look at only the last iteration of path sets ?\n",
    "model = model[model['iteration'] == model['iteration'].max()]\n",
    "model['person_id'] = model['person_id'].astype('int').astype('str')\n",
    "\n",
    "\n",
    "#########################\n",
    "# Pathsets\n",
    "pathset_links = pd.read_csv(r'J:\\Projects\\FasTrips\\obs\\output\\OBS_fasttrips_demand_v1.0_stochastic_iter2_cap\\pathset_links.csv')\n",
    "pathset_links['route_id'].fillna(\"\",inplace=True)\n",
    "pathset_links = pathset_links[pathset_links['iteration'] == pathset_links['iteration'].max()]\n",
    "\n",
    "# For OBS\n",
    "pathset_paths = pd.read_csv(r'J:\\Projects\\FasTrips\\obs\\output\\OBS_fasttrips_demand_v1.0_stochastic_iter2_cap\\pathset_paths.csv')\n"
   ]
  },
  {
   "cell_type": "code",
   "execution_count": 3,
   "metadata": {
    "collapsed": true
   },
   "outputs": [],
   "source": [
    "# Load data CHTS\n",
    "\n",
    "# # For testing, use a known list of trips, e.g., fast trips output\n",
    "# obs = pd.read_csv(r'J:\\Projects\\FasTrips\\chts\\output\\CHTS_fasttrips_demand_v0.1_stochastic_iter2_nocap\\chosenpaths_links.csv')\n",
    "# # Won't need to do this with real observed data\n",
    "# obs['route_id'].fillna(\"\",inplace=True)\n",
    "# obs = obs[obs['iteration'] == obs['iteration'].max()]\n",
    "\n",
    "# CHTS\n",
    "# Load the model records\n",
    "# model = pd.read_csv(r'J:\\Projects\\FasTrips\\chts\\output\\CHTS_fasttrips_demand_v0.1_stochastic_iter2_nocap\\chosenpaths_links.csv')\n",
    "# model['route_id'].fillna(\"\",inplace=True)\n",
    "# # FOR NOW, assume we look at only the last iteration of path sets ?\n",
    "# model = model[model['iteration'] == model['iteration'].max()]\n",
    "\n",
    "# Load pathset links\n",
    "## CHTS\n",
    "# pathset_links = pd.read_csv(r'J:\\Projects\\FasTrips\\tableau\\path-set\\pathset_links.csv')\n",
    "# pathset_links['route_id'].fillna(\"\",inplace=True)\n",
    "# pathset_links = pathset_links[pathset_links['iteration'] == pathset_links['iteration'].max()]"
   ]
  },
  {
   "cell_type": "markdown",
   "metadata": {},
   "source": [
    "# Reset Indeces"
   ]
  },
  {
   "cell_type": "code",
   "execution_count": 4,
   "metadata": {
    "collapsed": true
   },
   "outputs": [],
   "source": [
    "obs.reset_index(inplace=True)\n",
    "model.reset_index(inplace=True)\n",
    "pathset_links.reset_index(inplace=True)\n",
    "pathset_paths.reset_index(inplace=True)"
   ]
  },
  {
   "cell_type": "code",
   "execution_count": 5,
   "metadata": {
    "collapsed": false
   },
   "outputs": [],
   "source": [
    "# "
   ]
  },
  {
   "cell_type": "markdown",
   "metadata": {},
   "source": [
    "# Create Unique ID"
   ]
  },
  {
   "cell_type": "code",
   "execution_count": 6,
   "metadata": {
    "collapsed": false
   },
   "outputs": [],
   "source": [
    "obs['unique_id'] = obs['person_id'].astype('str') +\"_\"+obs['trip_list_id_num'].astype('str')\n",
    "model['unique_id'] = model['person_id'].astype('str') +\"_\"+model['trip_list_id_num'].astype('str')\n",
    "pathset_links['unique_id'] = pathset_links['person_id'].astype('int').astype('str') +\"_\"+pathset_links['trip_list_id_num'].astype('str')\n",
    "pathset_paths['unique_id'] = pathset_paths['person_id'].astype('str') +\"_\"+pathset_paths['trip_list_id_num'].astype('str')\n",
    "pathset_paths['person_id'] = pathset_paths['person_id'].astype('int').astype('str')\n",
    "pathset_paths['unique_id'] = pathset_paths['person_id'].astype('str') +\"_\"+ pathset_paths['trip_list_id_num'].astype('str')"
   ]
  },
  {
   "cell_type": "markdown",
   "metadata": {},
   "source": [
    "** each unique ID should exist within the observed and the model results **"
   ]
  },
  {
   "cell_type": "code",
   "execution_count": 7,
   "metadata": {
    "collapsed": false
   },
   "outputs": [
    {
     "name": "stdout",
     "output_type": "stream",
     "text": [
      "22951\n",
      "20836\n",
      "18131\n"
     ]
    }
   ],
   "source": [
    "# Compare the unique_id fields between each data set\n",
    "print len(obs.groupby('unique_id').count().index)\n",
    "print len(model.groupby('unique_id').count().index)\n",
    "print len(list(set((obs['unique_id'].values)).intersection((model['unique_id'].values))))"
   ]
  },
  {
   "cell_type": "markdown",
   "metadata": {},
   "source": [
    "Some observed trips were filtered out, but the number of modeled trips should be the same as the \n",
    "number of common unique_ids. For some reason it's less"
   ]
  },
  {
   "cell_type": "code",
   "execution_count": 8,
   "metadata": {
    "collapsed": false
   },
   "outputs": [],
   "source": [
    "# Use the common unique_ids to filter out the data\n",
    "model = model[model['unique_id'].isin(list(set((obs['unique_id'].values)).intersection((model['unique_id'].values))))]\n",
    "obs = obs[obs['unique_id'].isin(list(set((obs['unique_id'].values)).intersection((model['unique_id'].values))))]"
   ]
  },
  {
   "cell_type": "code",
   "execution_count": 9,
   "metadata": {
    "collapsed": false
   },
   "outputs": [
    {
     "name": "stdout",
     "output_type": "stream",
     "text": [
      "18131\n",
      "18131\n",
      "18131\n"
     ]
    }
   ],
   "source": [
    "print len(obs.groupby('unique_id').count().index)\n",
    "print len(model.groupby('unique_id').count().index)\n",
    "print len(list(set((obs['unique_id'].values)).intersection((model['unique_id'].values))))"
   ]
  },
  {
   "cell_type": "markdown",
   "metadata": {},
   "source": [
    "**Compare against the pathset links and paths files**"
   ]
  },
  {
   "cell_type": "code",
   "execution_count": 10,
   "metadata": {
    "collapsed": false
   },
   "outputs": [
    {
     "name": "stdout",
     "output_type": "stream",
     "text": [
      "18131\n",
      "25348\n",
      "18131\n"
     ]
    }
   ],
   "source": [
    "print len(obs.groupby('unique_id').count().index)\n",
    "print len(pathset_links.groupby('unique_id').count().index)\n",
    "print len(list(set((obs['unique_id'].values)).intersection((pathset_links['unique_id'].values))))\n",
    "obs = obs[obs['unique_id'].isin(list(set((obs['unique_id'].values)).intersection((model['unique_id'].values))))]\n",
    "pathset_links = pathset_links[pathset_links['unique_id'].isin(list(set((obs['unique_id'].values)).intersection((model['unique_id'].values))))]"
   ]
  },
  {
   "cell_type": "code",
   "execution_count": 11,
   "metadata": {
    "collapsed": false
   },
   "outputs": [
    {
     "name": "stdout",
     "output_type": "stream",
     "text": [
      "18131\n",
      "25441\n",
      "18131\n"
     ]
    }
   ],
   "source": [
    "print len(obs.groupby('unique_id').count().index)\n",
    "print len(pathset_paths.groupby('unique_id').count().index)\n",
    "print len(list(set((obs['unique_id'].values)).intersection((pathset_paths['unique_id'].values))))\n",
    "obs = obs[obs['unique_id'].isin(list(set((obs['unique_id'].values)).intersection((pathset_paths['unique_id'].values))))]\n",
    "pathset_paths = pathset_paths[pathset_paths['unique_id'].isin(list(set((obs['unique_id'].values)).intersection((pathset_paths['unique_id'].values))))]"
   ]
  },
  {
   "cell_type": "markdown",
   "metadata": {},
   "source": [
    "# Join correct transit route IDs to OBS data"
   ]
  },
  {
   "cell_type": "code",
   "execution_count": null,
   "metadata": {
    "collapsed": false
   },
   "outputs": [],
   "source": []
  },
  {
   "cell_type": "markdown",
   "metadata": {},
   "source": [
    "# Add a transit agency lookup too"
   ]
  },
  {
   "cell_type": "code",
   "execution_count": null,
   "metadata": {
    "collapsed": false
   },
   "outputs": [],
   "source": []
  },
  {
   "cell_type": "code",
   "execution_count": null,
   "metadata": {
    "collapsed": true
   },
   "outputs": [],
   "source": []
  },
  {
   "cell_type": "code",
   "execution_count": null,
   "metadata": {
    "collapsed": false
   },
   "outputs": [],
   "source": []
  },
  {
   "cell_type": "code",
   "execution_count": null,
   "metadata": {
    "collapsed": false
   },
   "outputs": [],
   "source": []
  },
  {
   "cell_type": "code",
   "execution_count": 12,
   "metadata": {
    "collapsed": false
   },
   "outputs": [],
   "source": [
    "def produce_path_fields(df, group):\n",
    "    '''\n",
    "    '''\n",
    "    # create \"path_routes\"\n",
    "    df['path_routes'] = df['route_id'].apply(lambda x: x.strip())\n",
    "    path_routes = pd.DataFrame(df.groupby(group)['path_routes'].apply(lambda x: \"%s\" % ' '.join(x).strip()))\n",
    "    \n",
    "    result_df = pd.DataFrame(index=path_routes.index)\n",
    "    result_df['path_routes'] = path_routes\n",
    "    \n",
    "    # create \"path_modes\"\n",
    "    df['path_modes'] = df['mode'].apply(lambda x: x.strip())\n",
    "    result_df['path_modes'] = pd.DataFrame(df.groupby(group)['mode'].apply(lambda x: \"%s\" % ' '.join(x).strip()))\n",
    "\n",
    "    # Create \"path_components\"\n",
    "    df['path_components'] = df['A_id'].astype('str')+\" \"+df['mode']+\" \"+df['route_id'] +\"_\"+ df['B_id'].astype('str')\n",
    "    df['path_components'] = df['path_components'].apply(lambda x: x.strip())\n",
    "    result_df['path_components'] = pd.DataFrame(df.groupby(group)['path_components'].apply(lambda x: \"%s\" % ' '.join(x).strip()))\n",
    "    \n",
    "    # Return ID field from index\n",
    "    result_df['unique_id'] = result_df.index.get_level_values(0).values\n",
    "    \n",
    "\n",
    "    return result_df"
   ]
  },
  {
   "cell_type": "markdown",
   "metadata": {},
   "source": [
    "# Produce joined fields from pathset link files "
   ]
  },
  {
   "cell_type": "code",
   "execution_count": 13,
   "metadata": {
    "collapsed": false
   },
   "outputs": [],
   "source": [
    "# Create caluclated joined fields for the observed, modeled, and pathset links file\n",
    "\n",
    "# Concatenate modes, route IDs, etc to produce unique trip identities\n",
    "# Do this for each set of trips in the oberved data, as well as for the modeled, since we don't have the field produced by FT\n",
    "observed_path = produce_path_fields(obs, group=['unique_id'])"
   ]
  },
  {
   "cell_type": "code",
   "execution_count": 14,
   "metadata": {
    "collapsed": true
   },
   "outputs": [],
   "source": [
    "modeled_path = produce_path_fields(model, group=['unique_id'])"
   ]
  },
  {
   "cell_type": "code",
   "execution_count": 15,
   "metadata": {
    "collapsed": false
   },
   "outputs": [],
   "source": [
    "# also process the detailed pathset_links files, so each path in the pathset has a unique trip identity\n",
    "new_pathset = produce_path_fields(pathset_links, group=['unique_id','pathnum'])"
   ]
  },
  {
   "cell_type": "markdown",
   "metadata": {},
   "source": [
    "### Weirdness with unique_id mismatch between model/obs and the pathset_links file"
   ]
  },
  {
   "cell_type": "code",
   "execution_count": null,
   "metadata": {
    "collapsed": true
   },
   "outputs": [],
   "source": []
  },
  {
   "cell_type": "code",
   "execution_count": 16,
   "metadata": {
    "collapsed": false
   },
   "outputs": [
    {
     "name": "stdout",
     "output_type": "stream",
     "text": [
      "305995\n",
      "94335\n",
      "70988\n"
     ]
    }
   ],
   "source": [
    "\n",
    "\n",
    "################################\n",
    "# For some reason there is not a smooth overlap between the modeled pathset_link unique_ids and the model/observed data\n",
    "# there are unique IDs missing from each, so I guess we just take an intersection of what's available for all of them?\n",
    "print len(new_pathset)\n",
    "print len(model)\n",
    "print len(obs)"
   ]
  },
  {
   "cell_type": "code",
   "execution_count": 17,
   "metadata": {
    "collapsed": false
   },
   "outputs": [
    {
     "data": {
      "text/plain": [
       "0     False\n",
       "1     False\n",
       "2     False\n",
       "3     False\n",
       "4     False\n",
       "5     False\n",
       "6     False\n",
       "7     False\n",
       "8     False\n",
       "9     False\n",
       "10    False\n",
       "11    False\n",
       "12    False\n",
       "13    False\n",
       "14    False\n",
       "...\n",
       "3533767    False\n",
       "3533768    False\n",
       "3533769    False\n",
       "3533770    False\n",
       "3533771    False\n",
       "3533772    False\n",
       "3533773    False\n",
       "3533774    False\n",
       "3533775    False\n",
       "3533776    False\n",
       "3533777    False\n",
       "3533778    False\n",
       "3533779    False\n",
       "3533780    False\n",
       "3533781    False\n",
       "Name: unique_id, Length: 2196541, dtype: bool"
      ]
     },
     "execution_count": 17,
     "metadata": {},
     "output_type": "execute_result"
    }
   ],
   "source": [
    "pathset_links['unique_id'] == ''"
   ]
  },
  {
   "cell_type": "code",
   "execution_count": 18,
   "metadata": {
    "collapsed": false
   },
   "outputs": [],
   "source": [
    "obs = obs[obs['unique_id'].isin(new_pathset['unique_id'].values)]\n",
    "model = model[model['unique_id'].isin(new_pathset['unique_id'].values)]\n",
    "new_pathset = new_pathset[new_pathset['unique_id'].isin(obs['unique_id'].values)]\n",
    "new_pathset = new_pathset[new_pathset['unique_id'].isin(model['unique_id'].values)]"
   ]
  },
  {
   "cell_type": "code",
   "execution_count": 19,
   "metadata": {
    "collapsed": false
   },
   "outputs": [
    {
     "name": "stdout",
     "output_type": "stream",
     "text": [
      "305995\n",
      "94335\n",
      "70988\n"
     ]
    }
   ],
   "source": [
    "print len(new_pathset)\n",
    "print len(model)\n",
    "print len(obs)"
   ]
  },
  {
   "cell_type": "markdown",
   "metadata": {
    "collapsed": false
   },
   "source": [
    "## Compare if modeled/observed trips match, completed or partially"
   ]
  },
  {
   "cell_type": "code",
   "execution_count": 20,
   "metadata": {
    "collapsed": false
   },
   "outputs": [],
   "source": [
    "# Join the observed and modeled fields\n",
    "df = pd.merge(observed_path, modeled_path, on='unique_id',suffixes=(\"_observed\",\"_model\"))"
   ]
  },
  {
   "cell_type": "code",
   "execution_count": 21,
   "metadata": {
    "collapsed": false
   },
   "outputs": [],
   "source": [
    "# Find rows with matching path routes\n",
    "complete_route_match = df[df['path_routes_observed'] == df['path_routes_model']]\n",
    "complete_mode_match = df[df['path_modes_observed'] == df['path_modes_model']]\n",
    "# Add complete_agency_match when available\n",
    "# complete_route_match = df[df['path_agency_observed'] == df['path_agency_model']]"
   ]
  },
  {
   "cell_type": "code",
   "execution_count": 22,
   "metadata": {
    "collapsed": false
   },
   "outputs": [],
   "source": [
    "## Extract order of transit routes taken\n",
    "df['model_path_route_list'] = df['path_routes_model'].apply(lambda x: x.split(\" \"))\n",
    "df['obs_path_route_list'] = df['path_routes_observed'].apply(lambda x: x.split(\" \"))\n",
    "\n",
    "df['model_path_mode_list'] = df['path_modes_model'].apply(lambda x: x.split(\" \"))\n",
    "df['obs_path_mode_list'] = df['path_modes_observed'].apply(lambda x: x.split(\" \"))"
   ]
  },
  {
   "cell_type": "code",
   "execution_count": 23,
   "metadata": {
    "collapsed": false
   },
   "outputs": [],
   "source": [
    "# Isolate transit modes only, because almost all trips have walk & transfer components\n",
    "non_transit_modes = ['transfer','walk_access','walk_egress','bike_access','bike_egress',\n",
    "                     'PNR_access','PNR_egress','KNR_access','KNR_egress']\n",
    "df['model_transit_modes'] = df['model_path_mode_list'].apply(\n",
    "    lambda row: [element for element in row if element not in non_transit_modes])\n",
    "df['obs_transit_modes'] = df['obs_path_mode_list'].apply(\n",
    "    lambda row: [element for element in row if element not in non_transit_modes])"
   ]
  },
  {
   "cell_type": "code",
   "execution_count": 24,
   "metadata": {
    "collapsed": false
   },
   "outputs": [],
   "source": [
    "# df['routes_in_path'].apply(lambda x: len(x.split(\" \")))\n",
    "\n",
    "# Get a \n",
    "\n",
    "# Routes\n",
    "df.apply(lambda row: all(i in row['model_path_route_list'] for i in row['obs_path_route_list']), axis=1)\n",
    "df['routes_intersection'] = [list(set(a).intersection(set(b))) for a, b in zip(df['model_path_route_list'], df['obs_path_route_list'])]\n",
    "\n",
    "# All Modes\n",
    "df.apply(lambda row: all(i in row['model_path_mode_list'] for i in row['obs_path_mode_list']), axis=1)\n",
    "df['all_modes_intersection'] = [list(set(a).intersection(set(b))) for a, b in zip(df['model_path_mode_list'], df['obs_path_mode_list'])]\n",
    "\n",
    "# Transit modes only\n",
    "df.apply(lambda row: all(i in row['model_path_mode_list'] for i in row['obs_path_mode_list']), axis=1)\n",
    "df['transit_modes_intersection'] = [list(set(a).intersection(set(b))) for a, b in zip(df['model_path_mode_list'], df['obs_path_mode_list'])]\n",
    "\n",
    "\n",
    "# Agency Intersection\n",
    "\n",
    "# All path components\n"
   ]
  },
  {
   "cell_type": "markdown",
   "metadata": {},
   "source": [
    "# Exact Match of Path Routes, Modes, Components"
   ]
  },
  {
   "cell_type": "code",
   "execution_count": null,
   "metadata": {
    "collapsed": false
   },
   "outputs": [],
   "source": []
  },
  {
   "cell_type": "code",
   "execution_count": 25,
   "metadata": {
    "collapsed": false
   },
   "outputs": [
    {
     "name": "stderr",
     "output_type": "stream",
     "text": [
      "C:\\Anaconda\\lib\\site-packages\\IPython\\kernel\\__main__.py:2: SettingWithCopyWarning: \n",
      "A value is trying to be set on a copy of a slice from a DataFrame.\n",
      "Try using .loc[row_indexer,col_indexer] = value instead\n",
      "\n",
      "See the the caveats in the documentation: http://pandas.pydata.org/pandas-docs/stable/indexing.html#indexing-view-versus-copy\n",
      "  from IPython.kernel.zmq import kernelapp as app\n"
     ]
    }
   ],
   "source": [
    "# Exact match of path modes\n",
    "complete_mode_match['complete_mode_match'] = 1\n",
    "df = pd.merge(df, complete_mode_match[['unique_id','complete_mode_match']], how='left', on='unique_id')\n",
    "df['complete_mode_match'].fillna(0,inplace=True)"
   ]
  },
  {
   "cell_type": "code",
   "execution_count": 26,
   "metadata": {
    "collapsed": false
   },
   "outputs": [],
   "source": [
    "complete_route_match['complete_route_match'] = 1"
   ]
  },
  {
   "cell_type": "code",
   "execution_count": 27,
   "metadata": {
    "collapsed": true
   },
   "outputs": [],
   "source": [
    "df = pd.merge(df, complete_route_match[['unique_id','complete_route_match']], how='left', on='unique_id')"
   ]
  },
  {
   "cell_type": "code",
   "execution_count": 28,
   "metadata": {
    "collapsed": false
   },
   "outputs": [],
   "source": [
    "df['complete_route_match'] = df['complete_route_match'].replace('nan',0)\n"
   ]
  },
  {
   "cell_type": "code",
   "execution_count": null,
   "metadata": {
    "collapsed": false
   },
   "outputs": [],
   "source": []
  },
  {
   "cell_type": "code",
   "execution_count": 29,
   "metadata": {
    "collapsed": false
   },
   "outputs": [
    {
     "data": {
      "text/plain": [
       "0.0"
      ]
     },
     "execution_count": 29,
     "metadata": {},
     "output_type": "execute_result"
    }
   ],
   "source": [
    "df['complete_route_match'].mean()"
   ]
  },
  {
   "cell_type": "code",
   "execution_count": 30,
   "metadata": {
    "collapsed": false
   },
   "outputs": [
    {
     "data": {
      "text/plain": [
       "0.2227124813854724"
      ]
     },
     "execution_count": 30,
     "metadata": {},
     "output_type": "execute_result"
    }
   ],
   "source": [
    "df['complete_mode_match'].mean()"
   ]
  },
  {
   "cell_type": "markdown",
   "metadata": {},
   "source": [
    "## Export fields to CSV for Tableau:\n",
    "- 'complete_route_match' 0/1\n",
    "- 'complete_mode_match' 0/1"
   ]
  },
  {
   "cell_type": "markdown",
   "metadata": {},
   "source": [
    "# % trips with matching or partial matching routes"
   ]
  },
  {
   "cell_type": "code",
   "execution_count": 31,
   "metadata": {
    "collapsed": false
   },
   "outputs": [],
   "source": [
    "# Now we find the percent of trips with matching routes or partial matching routes\n",
    "# df.mean()[['complete_match','partial_match']]\n",
    "# Note, shuold be 100% when using the same data set, what's up??\n",
    "\n",
    "#############\n",
    "# Join the filtered data to the original results\n",
    "df['common_mode_count'] = [len(row) for row in df['all_modes_intersection']]\n",
    "df['common_transit_mode_count'] = [len(row) for row in df['transit_modes_intersection']]\n",
    "\n",
    "# How many rows have at least one mode in common?\n",
    "df['partial_mode_match'] = [1 if row > 0 else 0 for row in df['common_mode_count']]\n",
    "df['partial_transit_mode_match'] = [1 if row > 0 else 0 for row in df['common_transit_mode_count']]"
   ]
  },
  {
   "cell_type": "code",
   "execution_count": 32,
   "metadata": {
    "collapsed": false
   },
   "outputs": [
    {
     "data": {
      "text/plain": [
       "0.9986763002592245"
      ]
     },
     "execution_count": 32,
     "metadata": {},
     "output_type": "execute_result"
    }
   ],
   "source": [
    "\n",
    "df['partial_mode_match'].mean()"
   ]
  },
  {
   "cell_type": "code",
   "execution_count": 33,
   "metadata": {
    "collapsed": false
   },
   "outputs": [
    {
     "data": {
      "text/plain": [
       "0.9986763002592245"
      ]
     },
     "execution_count": 33,
     "metadata": {},
     "output_type": "execute_result"
    }
   ],
   "source": [
    "df['partial_transit_mode_match'].mean()"
   ]
  },
  {
   "cell_type": "markdown",
   "metadata": {},
   "source": [
    "## Export fields to CSV for Tableau:\n",
    "- 'partial_mode_match' 0/1\n",
    "- 'complete_mode_match' 0/1"
   ]
  },
  {
   "cell_type": "markdown",
   "metadata": {},
   "source": [
    "# Compare probability of observed path to pathset\n"
   ]
  },
  {
   "cell_type": "code",
   "execution_count": 68,
   "metadata": {
    "collapsed": false
   },
   "outputs": [
    {
     "data": {
      "text/html": [
       "<div style=\"max-height:1000px;max-width:1500px;overflow:auto;\">\n",
       "<table border=\"1\" class=\"dataframe\">\n",
       "  <thead>\n",
       "    <tr style=\"text-align: right;\">\n",
       "      <th></th>\n",
       "      <th>path_routes</th>\n",
       "      <th>path_modes</th>\n",
       "      <th>path_components</th>\n",
       "      <th>unique_id</th>\n",
       "    </tr>\n",
       "    <tr>\n",
       "      <th>unique_id</th>\n",
       "      <th></th>\n",
       "      <th></th>\n",
       "      <th></th>\n",
       "      <th></th>\n",
       "    </tr>\n",
       "  </thead>\n",
       "  <tbody>\n",
       "    <tr>\n",
       "      <th>100066_15335</th>\n",
       "      <td>                                  Sonoma County_62</td>\n",
       "      <td>                 walk_access local_bus walk_egress</td>\n",
       "      <td> 2361.0 walk_access _ local_bus Sonoma County_6...</td>\n",
       "      <td> 100066_15335</td>\n",
       "    </tr>\n",
       "    <tr>\n",
       "      <th>1000_431</th>\n",
       "      <td> MUNI  Caltrain_San Francisco Burlingame   Tri-...</td>\n",
       "      <td> walk_access local_bus transfer commuter_rail w...</td>\n",
       "      <td> 930.0 walk_access _24893.0 24893.0 local_bus M...</td>\n",
       "      <td>     1000_431</td>\n",
       "    </tr>\n",
       "    <tr>\n",
       "      <th>1000_432</th>\n",
       "      <td> MUNI  Caltrain_San Francisco Burlingame   Tri-...</td>\n",
       "      <td> walk_access local_bus transfer commuter_rail w...</td>\n",
       "      <td> 930.0 walk_access _24893.0 24893.0 local_bus M...</td>\n",
       "      <td>     1000_432</td>\n",
       "    </tr>\n",
       "  </tbody>\n",
       "</table>\n",
       "</div>"
      ],
      "text/plain": [
       "                                                    path_routes  \\\n",
       "unique_id                                                         \n",
       "100066_15335                                   Sonoma County_62   \n",
       "1000_431      MUNI  Caltrain_San Francisco Burlingame   Tri-...   \n",
       "1000_432      MUNI  Caltrain_San Francisco Burlingame   Tri-...   \n",
       "\n",
       "                                                     path_modes  \\\n",
       "unique_id                                                         \n",
       "100066_15335                  walk_access local_bus walk_egress   \n",
       "1000_431      walk_access local_bus transfer commuter_rail w...   \n",
       "1000_432      walk_access local_bus transfer commuter_rail w...   \n",
       "\n",
       "                                                path_components     unique_id  \n",
       "unique_id                                                                      \n",
       "100066_15335  2361.0 walk_access _ local_bus Sonoma County_6...  100066_15335  \n",
       "1000_431      930.0 walk_access _24893.0 24893.0 local_bus M...      1000_431  \n",
       "1000_432      930.0 walk_access _24893.0 24893.0 local_bus M...      1000_432  "
      ]
     },
     "execution_count": 68,
     "metadata": {},
     "output_type": "execute_result"
    }
   ],
   "source": [
    "observed_path.head(3)"
   ]
  },
  {
   "cell_type": "code",
   "execution_count": 69,
   "metadata": {
    "collapsed": false
   },
   "outputs": [
    {
     "data": {
      "text/html": [
       "<div style=\"max-height:1000px;max-width:1500px;overflow:auto;\">\n",
       "<table border=\"1\" class=\"dataframe\">\n",
       "  <thead>\n",
       "    <tr style=\"text-align: right;\">\n",
       "      <th></th>\n",
       "      <th></th>\n",
       "      <th>path_routes</th>\n",
       "      <th>path_modes</th>\n",
       "      <th>path_components</th>\n",
       "      <th>unique_id</th>\n",
       "    </tr>\n",
       "    <tr>\n",
       "      <th>unique_id</th>\n",
       "      <th>pathnum</th>\n",
       "      <th></th>\n",
       "      <th></th>\n",
       "      <th></th>\n",
       "      <th></th>\n",
       "    </tr>\n",
       "  </thead>\n",
       "  <tbody>\n",
       "    <tr>\n",
       "      <th rowspan=\"3\" valign=\"top\">100066_15335</th>\n",
       "      <th>0</th>\n",
       "      <td> 76_14MNO</td>\n",
       "      <td> walk_access local_bus walk_egress</td>\n",
       "      <td> 2361 walk_access _9376 9376 local_bus 76_14MNO...</td>\n",
       "      <td> 100066_15335</td>\n",
       "    </tr>\n",
       "    <tr>\n",
       "      <th>1</th>\n",
       "      <td> 74_44NBL</td>\n",
       "      <td> walk_access local_bus walk_egress</td>\n",
       "      <td> 2361 walk_access _9376 9376 local_bus 74_44NBL...</td>\n",
       "      <td> 100066_15335</td>\n",
       "    </tr>\n",
       "    <tr>\n",
       "      <th>2</th>\n",
       "      <td> 74_62NBL</td>\n",
       "      <td> walk_access local_bus walk_egress</td>\n",
       "      <td> 2361 walk_access _9376 9376 local_bus 74_62NBL...</td>\n",
       "      <td> 100066_15335</td>\n",
       "    </tr>\n",
       "  </tbody>\n",
       "</table>\n",
       "</div>"
      ],
      "text/plain": [
       "                     path_routes                         path_modes  \\\n",
       "unique_id    pathnum                                                  \n",
       "100066_15335 0          76_14MNO  walk_access local_bus walk_egress   \n",
       "             1          74_44NBL  walk_access local_bus walk_egress   \n",
       "             2          74_62NBL  walk_access local_bus walk_egress   \n",
       "\n",
       "                                                        path_components  \\\n",
       "unique_id    pathnum                                                      \n",
       "100066_15335 0        2361 walk_access _9376 9376 local_bus 76_14MNO...   \n",
       "             1        2361 walk_access _9376 9376 local_bus 74_44NBL...   \n",
       "             2        2361 walk_access _9376 9376 local_bus 74_62NBL...   \n",
       "\n",
       "                         unique_id  \n",
       "unique_id    pathnum                \n",
       "100066_15335 0        100066_15335  \n",
       "             1        100066_15335  \n",
       "             2        100066_15335  "
      ]
     },
     "execution_count": 69,
     "metadata": {},
     "output_type": "execute_result"
    }
   ],
   "source": [
    "new_pathset.head(3)"
   ]
  },
  {
   "cell_type": "code",
   "execution_count": 78,
   "metadata": {
    "collapsed": false
   },
   "outputs": [],
   "source": [
    "## Add a field to the new_pathset that lists the pathnum\n",
    "new_pathset['pathnum'] = new_pathset.index.get_level_values(1)"
   ]
  },
  {
   "cell_type": "code",
   "execution_count": 79,
   "metadata": {
    "collapsed": true
   },
   "outputs": [],
   "source": [
    "# Do this with a merge?\n",
    "\n",
    "df = pd.merge(observed_path, new_pathset, how='left',\n",
    "              left_on=['unique_id','path_modes'],right_on=['unique_id','path_modes'], suffixes=['_obs','_pathset'])"
   ]
  },
  {
   "cell_type": "code",
   "execution_count": 80,
   "metadata": {
    "collapsed": false
   },
   "outputs": [
    {
     "name": "stdout",
     "output_type": "stream",
     "text": [
      "46866\n",
      "18131\n",
      "305995\n"
     ]
    }
   ],
   "source": [
    "print len(df)\n",
    "print len(observed_path)\n",
    "print len(new_pathset)"
   ]
  },
  {
   "cell_type": "code",
   "execution_count": 98,
   "metadata": {
    "collapsed": false
   },
   "outputs": [
    {
     "data": {
      "text/plain": [
       "0.28141936585157684"
      ]
     },
     "execution_count": 98,
     "metadata": {},
     "output_type": "execute_result"
    }
   ],
   "source": [
    "# How many unique ID's don't have a pathset attacheds\n",
    "len(df[df['pathnum'].isnull()])/float(len(df))"
   ]
  },
  {
   "cell_type": "code",
   "execution_count": 99,
   "metadata": {
    "collapsed": false
   },
   "outputs": [],
   "source": [
    "# Create an indicator"
   ]
  },
  {
   "cell_type": "code",
   "execution_count": 100,
   "metadata": {
    "collapsed": false
   },
   "outputs": [],
   "source": [
    "# Now look up the probability of each path between new_pathset and pathset_paths\n"
   ]
  },
  {
   "cell_type": "code",
   "execution_count": null,
   "metadata": {
    "collapsed": true
   },
   "outputs": [],
   "source": []
  },
  {
   "cell_type": "code",
   "execution_count": null,
   "metadata": {
    "collapsed": true
   },
   "outputs": [],
   "source": []
  },
  {
   "cell_type": "code",
   "execution_count": null,
   "metadata": {
    "collapsed": true
   },
   "outputs": [],
   "source": []
  },
  {
   "cell_type": "code",
   "execution_count": null,
   "metadata": {
    "collapsed": true
   },
   "outputs": [],
   "source": []
  },
  {
   "cell_type": "code",
   "execution_count": null,
   "metadata": {
    "collapsed": true
   },
   "outputs": [],
   "source": []
  },
  {
   "cell_type": "markdown",
   "metadata": {},
   "source": [
    "## Check if path exists in the pathset"
   ]
  },
  {
   "cell_type": "code",
   "execution_count": 34,
   "metadata": {
    "collapsed": true
   },
   "outputs": [],
   "source": [
    "def check_path_existence(row, pathset_df, unique_id, lookup_field):\n",
    "    \"\"\"\n",
    "    Compare field contents from chosen paths vs entire path set,\n",
    "    Return 1 if chosen path exists in pathset, 0 otherwise\n",
    "    \"\"\"\n",
    "    \n",
    "    if len(pathset_df[(pathset_df[unique_id] == row[unique_id]) & \\\n",
    "                        (pathset_df[lookup_field] == row[lookup_field])]) > 0:\n",
    "        return 1\n",
    "    else:\n",
    "        return 0"
   ]
  },
  {
   "cell_type": "code",
   "execution_count": 35,
   "metadata": {
    "collapsed": false
   },
   "outputs": [],
   "source": [
    "route_match = observed_path.apply(check_path_existence, pathset_df=new_pathset, unique_id='unique_id', lookup_field='path_routes', axis=1)"
   ]
  },
  {
   "cell_type": "code",
   "execution_count": 36,
   "metadata": {
    "collapsed": false
   },
   "outputs": [],
   "source": [
    "mode_match = observed_path.apply(check_path_existence, pathset_df=new_pathset, unique_id='unique_id', lookup_field='path_modes', axis=1)"
   ]
  },
  {
   "cell_type": "markdown",
   "metadata": {},
   "source": [
    "## To add: stop based data, origin, destination, and transfers, unique set of those?"
   ]
  },
  {
   "cell_type": "code",
   "execution_count": 37,
   "metadata": {
    "collapsed": false
   },
   "outputs": [
    {
     "data": {
      "text/plain": [
       "1L"
      ]
     },
     "execution_count": 37,
     "metadata": {},
     "output_type": "execute_result"
    }
   ],
   "source": [
    "# Mode match is the only one that should match right now because the transit route IDs aren't attached\n",
    "mode_match.max()"
   ]
  },
  {
   "cell_type": "code",
   "execution_count": 38,
   "metadata": {
    "collapsed": false
   },
   "outputs": [
    {
     "data": {
      "text/plain": [
       "0.272571838288015"
      ]
     },
     "execution_count": 38,
     "metadata": {},
     "output_type": "execute_result"
    }
   ],
   "source": [
    "mode_match.mean()"
   ]
  },
  {
   "cell_type": "code",
   "execution_count": 55,
   "metadata": {
    "collapsed": false
   },
   "outputs": [
    {
     "data": {
      "text/plain": [
       "24810    walk_access\n",
       "24811      local_bus\n",
       "24812    walk_egress\n",
       "Name: mode, dtype: object"
      ]
     },
     "execution_count": 55,
     "metadata": {},
     "output_type": "execute_result"
    }
   ],
   "source": [
    "obs[obs['unique_id'] == '100122_15336']['mode']"
   ]
  },
  {
   "cell_type": "code",
   "execution_count": 56,
   "metadata": {
    "collapsed": false
   },
   "outputs": [
    {
     "data": {
      "text/plain": [
       "36195    walk_access\n",
       "36196      local_bus\n",
       "36197    walk_egress\n",
       "Name: mode, dtype: object"
      ]
     },
     "execution_count": 56,
     "metadata": {},
     "output_type": "execute_result"
    }
   ],
   "source": [
    "model[model['unique_id'] == '100122_15336']['mode']"
   ]
  },
  {
   "cell_type": "code",
   "execution_count": 51,
   "metadata": {
    "collapsed": false
   },
   "outputs": [
    {
     "data": {
      "text/html": [
       "<div style=\"max-height:1000px;max-width:1500px;overflow:auto;\">\n",
       "<table border=\"1\" class=\"dataframe\">\n",
       "  <thead>\n",
       "    <tr style=\"text-align: right;\">\n",
       "      <th></th>\n",
       "      <th>mode_match</th>\n",
       "    </tr>\n",
       "    <tr>\n",
       "      <th>unique_id</th>\n",
       "      <th></th>\n",
       "    </tr>\n",
       "  </thead>\n",
       "  <tbody>\n",
       "    <tr>\n",
       "      <th>100066_15335</th>\n",
       "      <td> 1</td>\n",
       "    </tr>\n",
       "  </tbody>\n",
       "</table>\n",
       "</div>"
      ],
      "text/plain": [
       "              mode_match\n",
       "unique_id               \n",
       "100066_15335           1"
      ]
     },
     "execution_count": 51,
     "metadata": {},
     "output_type": "execute_result"
    }
   ],
   "source": [
    "mode_match = pd.DataFrame(mode_match,columns=['mode_match'])\n",
    "# mode_match[mode_match['mode_match'] == 0]\n",
    "mode_match[mode_match.index == '100066_15335']"
   ]
  },
  {
   "cell_type": "code",
   "execution_count": 52,
   "metadata": {
    "collapsed": false
   },
   "outputs": [
    {
     "data": {
      "text/html": [
       "<div style=\"max-height:1000px;max-width:1500px;overflow:auto;\">\n",
       "<table border=\"1\" class=\"dataframe\">\n",
       "  <thead>\n",
       "    <tr style=\"text-align: right;\">\n",
       "      <th></th>\n",
       "      <th>mode_match</th>\n",
       "    </tr>\n",
       "    <tr>\n",
       "      <th>unique_id</th>\n",
       "      <th></th>\n",
       "    </tr>\n",
       "  </thead>\n",
       "  <tbody>\n",
       "    <tr>\n",
       "      <th>100066_15335</th>\n",
       "      <td> 1</td>\n",
       "    </tr>\n",
       "    <tr>\n",
       "      <th>1000_431</th>\n",
       "      <td> 0</td>\n",
       "    </tr>\n",
       "    <tr>\n",
       "      <th>1000_432</th>\n",
       "      <td> 0</td>\n",
       "    </tr>\n",
       "    <tr>\n",
       "      <th>100122_15336</th>\n",
       "      <td> 1</td>\n",
       "    </tr>\n",
       "    <tr>\n",
       "      <th>10022_3618</th>\n",
       "      <td> 0</td>\n",
       "    </tr>\n",
       "    <tr>\n",
       "      <th>100262_15337</th>\n",
       "      <td> 0</td>\n",
       "    </tr>\n",
       "    <tr>\n",
       "      <th>100281_15338</th>\n",
       "      <td> 1</td>\n",
       "    </tr>\n",
       "    <tr>\n",
       "      <th>10028_3620</th>\n",
       "      <td> 0</td>\n",
       "    </tr>\n",
       "    <tr>\n",
       "      <th>1002_433</th>\n",
       "      <td> 0</td>\n",
       "    </tr>\n",
       "    <tr>\n",
       "      <th>10036_3621</th>\n",
       "      <td> 0</td>\n",
       "    </tr>\n",
       "    <tr>\n",
       "      <th>10038_3622</th>\n",
       "      <td> 0</td>\n",
       "    </tr>\n",
       "    <tr>\n",
       "      <th>10040_3623</th>\n",
       "      <td> 0</td>\n",
       "    </tr>\n",
       "    <tr>\n",
       "      <th>100476_15340</th>\n",
       "      <td> 0</td>\n",
       "    </tr>\n",
       "    <tr>\n",
       "      <th>100488_15341</th>\n",
       "      <td> 0</td>\n",
       "    </tr>\n",
       "    <tr>\n",
       "      <th>100495_15342</th>\n",
       "      <td> 0</td>\n",
       "    </tr>\n",
       "    <tr>\n",
       "      <th>1004_434</th>\n",
       "      <td> 0</td>\n",
       "    </tr>\n",
       "    <tr>\n",
       "      <th>1004_436</th>\n",
       "      <td> 0</td>\n",
       "    </tr>\n",
       "    <tr>\n",
       "      <th>10057_3624</th>\n",
       "      <td> 0</td>\n",
       "    </tr>\n",
       "    <tr>\n",
       "      <th>10058_3625</th>\n",
       "      <td> 0</td>\n",
       "    </tr>\n",
       "    <tr>\n",
       "      <th>1005_437</th>\n",
       "      <td> 0</td>\n",
       "    </tr>\n",
       "    <tr>\n",
       "      <th>1006_439</th>\n",
       "      <td> 0</td>\n",
       "    </tr>\n",
       "    <tr>\n",
       "      <th>1006_440</th>\n",
       "      <td> 0</td>\n",
       "    </tr>\n",
       "    <tr>\n",
       "      <th>10072_3626</th>\n",
       "      <td> 0</td>\n",
       "    </tr>\n",
       "    <tr>\n",
       "      <th>1008_441</th>\n",
       "      <td> 0</td>\n",
       "    </tr>\n",
       "    <tr>\n",
       "      <th>1008_442</th>\n",
       "      <td> 0</td>\n",
       "    </tr>\n",
       "    <tr>\n",
       "      <th>10099_3628</th>\n",
       "      <td> 0</td>\n",
       "    </tr>\n",
       "    <tr>\n",
       "      <th>1009_443</th>\n",
       "      <td> 0</td>\n",
       "    </tr>\n",
       "    <tr>\n",
       "      <th>10100_3629</th>\n",
       "      <td> 0</td>\n",
       "    </tr>\n",
       "    <tr>\n",
       "      <th>10112_3630</th>\n",
       "      <td> 0</td>\n",
       "    </tr>\n",
       "    <tr>\n",
       "      <th>10116_3631</th>\n",
       "      <td> 0</td>\n",
       "    </tr>\n",
       "    <tr>\n",
       "      <th>...</th>\n",
       "      <td>...</td>\n",
       "    </tr>\n",
       "    <tr>\n",
       "      <th>93_27</th>\n",
       "      <td> 0</td>\n",
       "    </tr>\n",
       "    <tr>\n",
       "      <th>940_391</th>\n",
       "      <td> 0</td>\n",
       "    </tr>\n",
       "    <tr>\n",
       "      <th>940_392</th>\n",
       "      <td> 0</td>\n",
       "    </tr>\n",
       "    <tr>\n",
       "      <th>941_393</th>\n",
       "      <td> 0</td>\n",
       "    </tr>\n",
       "    <tr>\n",
       "      <th>943_394</th>\n",
       "      <td> 0</td>\n",
       "    </tr>\n",
       "    <tr>\n",
       "      <th>9456_3535</th>\n",
       "      <td> 0</td>\n",
       "    </tr>\n",
       "    <tr>\n",
       "      <th>945_395</th>\n",
       "      <td> 0</td>\n",
       "    </tr>\n",
       "    <tr>\n",
       "      <th>946_396</th>\n",
       "      <td> 0</td>\n",
       "    </tr>\n",
       "    <tr>\n",
       "      <th>952_398</th>\n",
       "      <td> 0</td>\n",
       "    </tr>\n",
       "    <tr>\n",
       "      <th>953_399</th>\n",
       "      <td> 0</td>\n",
       "    </tr>\n",
       "    <tr>\n",
       "      <th>955_401</th>\n",
       "      <td> 0</td>\n",
       "    </tr>\n",
       "    <tr>\n",
       "      <th>957_402</th>\n",
       "      <td> 0</td>\n",
       "    </tr>\n",
       "    <tr>\n",
       "      <th>957_403</th>\n",
       "      <td> 0</td>\n",
       "    </tr>\n",
       "    <tr>\n",
       "      <th>962_404</th>\n",
       "      <td> 0</td>\n",
       "    </tr>\n",
       "    <tr>\n",
       "      <th>964_405</th>\n",
       "      <td> 0</td>\n",
       "    </tr>\n",
       "    <tr>\n",
       "      <th>968_406</th>\n",
       "      <td> 0</td>\n",
       "    </tr>\n",
       "    <tr>\n",
       "      <th>974_408</th>\n",
       "      <td> 0</td>\n",
       "    </tr>\n",
       "    <tr>\n",
       "      <th>974_409</th>\n",
       "      <td> 0</td>\n",
       "    </tr>\n",
       "    <tr>\n",
       "      <th>975_411</th>\n",
       "      <td> 0</td>\n",
       "    </tr>\n",
       "    <tr>\n",
       "      <th>975_412</th>\n",
       "      <td> 0</td>\n",
       "    </tr>\n",
       "    <tr>\n",
       "      <th>977_413</th>\n",
       "      <td> 0</td>\n",
       "    </tr>\n",
       "    <tr>\n",
       "      <th>978_414</th>\n",
       "      <td> 0</td>\n",
       "    </tr>\n",
       "    <tr>\n",
       "      <th>978_415</th>\n",
       "      <td> 0</td>\n",
       "    </tr>\n",
       "    <tr>\n",
       "      <th>980_417</th>\n",
       "      <td> 0</td>\n",
       "    </tr>\n",
       "    <tr>\n",
       "      <th>980_418</th>\n",
       "      <td> 0</td>\n",
       "    </tr>\n",
       "    <tr>\n",
       "      <th>984_420</th>\n",
       "      <td> 0</td>\n",
       "    </tr>\n",
       "    <tr>\n",
       "      <th>987_423</th>\n",
       "      <td> 0</td>\n",
       "    </tr>\n",
       "    <tr>\n",
       "      <th>988_424</th>\n",
       "      <td> 0</td>\n",
       "    </tr>\n",
       "    <tr>\n",
       "      <th>990_427</th>\n",
       "      <td> 0</td>\n",
       "    </tr>\n",
       "    <tr>\n",
       "      <th>997_430</th>\n",
       "      <td> 0</td>\n",
       "    </tr>\n",
       "  </tbody>\n",
       "</table>\n",
       "<p>18131 rows × 1 columns</p>\n",
       "</div>"
      ],
      "text/plain": [
       "              mode_match\n",
       "unique_id               \n",
       "100066_15335           1\n",
       "1000_431               0\n",
       "1000_432               0\n",
       "100122_15336           1\n",
       "10022_3618             0\n",
       "100262_15337           0\n",
       "100281_15338           1\n",
       "10028_3620             0\n",
       "1002_433               0\n",
       "10036_3621             0\n",
       "10038_3622             0\n",
       "10040_3623             0\n",
       "100476_15340           0\n",
       "100488_15341           0\n",
       "100495_15342           0\n",
       "1004_434               0\n",
       "1004_436               0\n",
       "10057_3624             0\n",
       "10058_3625             0\n",
       "1005_437               0\n",
       "1006_439               0\n",
       "1006_440               0\n",
       "10072_3626             0\n",
       "1008_441               0\n",
       "1008_442               0\n",
       "10099_3628             0\n",
       "1009_443               0\n",
       "10100_3629             0\n",
       "10112_3630             0\n",
       "10116_3631             0\n",
       "...                  ...\n",
       "93_27                  0\n",
       "940_391                0\n",
       "940_392                0\n",
       "941_393                0\n",
       "943_394                0\n",
       "9456_3535              0\n",
       "945_395                0\n",
       "946_396                0\n",
       "952_398                0\n",
       "953_399                0\n",
       "955_401                0\n",
       "957_402                0\n",
       "957_403                0\n",
       "962_404                0\n",
       "964_405                0\n",
       "968_406                0\n",
       "974_408                0\n",
       "974_409                0\n",
       "975_411                0\n",
       "975_412                0\n",
       "977_413                0\n",
       "978_414                0\n",
       "978_415                0\n",
       "980_417                0\n",
       "980_418                0\n",
       "984_420                0\n",
       "987_423                0\n",
       "988_424                0\n",
       "990_427                0\n",
       "997_430                0\n",
       "\n",
       "[18131 rows x 1 columns]"
      ]
     },
     "execution_count": 52,
     "metadata": {},
     "output_type": "execute_result"
    }
   ],
   "source": [
    "mode_match"
   ]
  },
  {
   "cell_type": "code",
   "execution_count": null,
   "metadata": {
    "collapsed": true
   },
   "outputs": [],
   "source": []
  },
  {
   "cell_type": "code",
   "execution_count": 42,
   "metadata": {
    "collapsed": true
   },
   "outputs": [],
   "source": [
    "total_match = observed_path.apply(check_path_existence, pathset_df=new_pathset, unique_id='unique_id', lookup_field='path_components', axis=1)"
   ]
  },
  {
   "cell_type": "code",
   "execution_count": 44,
   "metadata": {
    "collapsed": false
   },
   "outputs": [
    {
     "data": {
      "text/plain": [
       "unique_id\n",
       "100066_15335    0\n",
       "1000_431        0\n",
       "1000_432        0\n",
       "100122_15336    0\n",
       "10022_3618      0\n",
       "100262_15337    0\n",
       "100281_15338    0\n",
       "10028_3620      0\n",
       "1002_433        0\n",
       "10036_3621      0\n",
       "10038_3622      0\n",
       "10040_3623      0\n",
       "100476_15340    0\n",
       "100488_15341    0\n",
       "100495_15342    0\n",
       "...\n",
       "968_406      0\n",
       "974_408      0\n",
       "974_409      0\n",
       "975_411      0\n",
       "975_412      0\n",
       "977_413      0\n",
       "978_414      0\n",
       "978_415      0\n",
       "980_417      0\n",
       "980_418      0\n",
       "984_420      0\n",
       "987_423      0\n",
       "988_424      0\n",
       "990_427      0\n",
       "997_430      0\n",
       "Length: 18131, dtype: int64"
      ]
     },
     "execution_count": 44,
     "metadata": {},
     "output_type": "execute_result"
    }
   ],
   "source": [
    "total_match"
   ]
  },
  {
   "cell_type": "code",
   "execution_count": 43,
   "metadata": {
    "collapsed": false
   },
   "outputs": [
    {
     "ename": "ValueError",
     "evalue": "all the input array dimensions except for the concatenation axis must match exactly",
     "output_type": "error",
     "traceback": [
      "\u001b[1;31m---------------------------------------------------------------------------\u001b[0m",
      "\u001b[1;31mValueError\u001b[0m                                Traceback (most recent call last)",
      "\u001b[1;32m<ipython-input-43-7661de7d4d52>\u001b[0m in \u001b[0;36m<module>\u001b[1;34m()\u001b[0m\n\u001b[1;32m----> 1\u001b[1;33m \u001b[0mdf\u001b[0m \u001b[1;33m=\u001b[0m \u001b[0mpd\u001b[0m\u001b[1;33m.\u001b[0m\u001b[0mDataFrame\u001b[0m\u001b[1;33m(\u001b[0m\u001b[1;33m[\u001b[0m\u001b[0mroute_match\u001b[0m\u001b[1;33m,\u001b[0m\u001b[0mmode_match\u001b[0m\u001b[1;33m,\u001b[0m\u001b[0mtotal_match\u001b[0m\u001b[1;33m]\u001b[0m\u001b[1;33m)\u001b[0m\u001b[1;33m.\u001b[0m\u001b[0mT\u001b[0m\u001b[1;33m\u001b[0m\u001b[0m\n\u001b[0m\u001b[0;32m      2\u001b[0m \u001b[0mdf\u001b[0m\u001b[1;33m[\u001b[0m\u001b[1;34m'id'\u001b[0m\u001b[1;33m]\u001b[0m \u001b[1;33m=\u001b[0m \u001b[0mdf\u001b[0m\u001b[1;33m.\u001b[0m\u001b[0mindex\u001b[0m\u001b[1;33m.\u001b[0m\u001b[0mget_level_values\u001b[0m\u001b[1;33m(\u001b[0m\u001b[1;36m0\u001b[0m\u001b[1;33m)\u001b[0m\u001b[1;33m.\u001b[0m\u001b[0mvalues\u001b[0m\u001b[1;33m\u001b[0m\u001b[0m\n\u001b[0;32m      3\u001b[0m \u001b[0mdf\u001b[0m\u001b[1;33m.\u001b[0m\u001b[0mcolumns\u001b[0m \u001b[1;33m=\u001b[0m \u001b[1;33m[\u001b[0m\u001b[1;34m'route_match'\u001b[0m\u001b[1;33m,\u001b[0m\u001b[1;34m'mode_match'\u001b[0m\u001b[1;33m,\u001b[0m\u001b[1;34m'total_match'\u001b[0m\u001b[1;33m,\u001b[0m\u001b[1;34m'unique_id'\u001b[0m\u001b[1;33m]\u001b[0m\u001b[1;33m\u001b[0m\u001b[0m\n",
      "\u001b[1;32mC:\\Anaconda\\lib\\site-packages\\pandas\\core\\frame.pyc\u001b[0m in \u001b[0;36m__init__\u001b[1;34m(self, data, index, columns, dtype, copy)\u001b[0m\n\u001b[0;32m    243\u001b[0m             \u001b[1;32mif\u001b[0m \u001b[0mlen\u001b[0m\u001b[1;33m(\u001b[0m\u001b[0mdata\u001b[0m\u001b[1;33m)\u001b[0m \u001b[1;33m>\u001b[0m \u001b[1;36m0\u001b[0m\u001b[1;33m:\u001b[0m\u001b[1;33m\u001b[0m\u001b[0m\n\u001b[0;32m    244\u001b[0m                 \u001b[1;32mif\u001b[0m \u001b[0mis_list_like\u001b[0m\u001b[1;33m(\u001b[0m\u001b[0mdata\u001b[0m\u001b[1;33m[\u001b[0m\u001b[1;36m0\u001b[0m\u001b[1;33m]\u001b[0m\u001b[1;33m)\u001b[0m \u001b[1;32mand\u001b[0m \u001b[0mgetattr\u001b[0m\u001b[1;33m(\u001b[0m\u001b[0mdata\u001b[0m\u001b[1;33m[\u001b[0m\u001b[1;36m0\u001b[0m\u001b[1;33m]\u001b[0m\u001b[1;33m,\u001b[0m \u001b[1;34m'ndim'\u001b[0m\u001b[1;33m,\u001b[0m \u001b[1;36m1\u001b[0m\u001b[1;33m)\u001b[0m \u001b[1;33m==\u001b[0m \u001b[1;36m1\u001b[0m\u001b[1;33m:\u001b[0m\u001b[1;33m\u001b[0m\u001b[0m\n\u001b[1;32m--> 245\u001b[1;33m                     \u001b[0marrays\u001b[0m\u001b[1;33m,\u001b[0m \u001b[0mcolumns\u001b[0m \u001b[1;33m=\u001b[0m \u001b[0m_to_arrays\u001b[0m\u001b[1;33m(\u001b[0m\u001b[0mdata\u001b[0m\u001b[1;33m,\u001b[0m \u001b[0mcolumns\u001b[0m\u001b[1;33m,\u001b[0m \u001b[0mdtype\u001b[0m\u001b[1;33m=\u001b[0m\u001b[0mdtype\u001b[0m\u001b[1;33m)\u001b[0m\u001b[1;33m\u001b[0m\u001b[0m\n\u001b[0m\u001b[0;32m    246\u001b[0m                     \u001b[0mcolumns\u001b[0m \u001b[1;33m=\u001b[0m \u001b[0m_ensure_index\u001b[0m\u001b[1;33m(\u001b[0m\u001b[0mcolumns\u001b[0m\u001b[1;33m)\u001b[0m\u001b[1;33m\u001b[0m\u001b[0m\n\u001b[0;32m    247\u001b[0m \u001b[1;33m\u001b[0m\u001b[0m\n",
      "\u001b[1;32mC:\\Anaconda\\lib\\site-packages\\pandas\\core\\frame.pyc\u001b[0m in \u001b[0;36m_to_arrays\u001b[1;34m(data, columns, coerce_float, dtype)\u001b[0m\n\u001b[0;32m   4744\u001b[0m         return _list_of_series_to_arrays(data, columns,\n\u001b[0;32m   4745\u001b[0m                                          \u001b[0mcoerce_float\u001b[0m\u001b[1;33m=\u001b[0m\u001b[0mcoerce_float\u001b[0m\u001b[1;33m,\u001b[0m\u001b[1;33m\u001b[0m\u001b[0m\n\u001b[1;32m-> 4746\u001b[1;33m                                          dtype=dtype)\n\u001b[0m\u001b[0;32m   4747\u001b[0m     \u001b[1;32melif\u001b[0m \u001b[0misinstance\u001b[0m\u001b[1;33m(\u001b[0m\u001b[0mdata\u001b[0m\u001b[1;33m[\u001b[0m\u001b[1;36m0\u001b[0m\u001b[1;33m]\u001b[0m\u001b[1;33m,\u001b[0m \u001b[0mCategorical\u001b[0m\u001b[1;33m)\u001b[0m\u001b[1;33m:\u001b[0m\u001b[1;33m\u001b[0m\u001b[0m\n\u001b[0;32m   4748\u001b[0m         \u001b[1;32mif\u001b[0m \u001b[0mcolumns\u001b[0m \u001b[1;32mis\u001b[0m \u001b[0mNone\u001b[0m\u001b[1;33m:\u001b[0m\u001b[1;33m\u001b[0m\u001b[0m\n",
      "\u001b[1;32mC:\\Anaconda\\lib\\site-packages\\pandas\\core\\frame.pyc\u001b[0m in \u001b[0;36m_list_of_series_to_arrays\u001b[1;34m(data, columns, coerce_float, dtype)\u001b[0m\n\u001b[0;32m   4846\u001b[0m         \u001b[0maligned_values\u001b[0m\u001b[1;33m.\u001b[0m\u001b[0mappend\u001b[0m\u001b[1;33m(\u001b[0m\u001b[0mcom\u001b[0m\u001b[1;33m.\u001b[0m\u001b[0mtake_1d\u001b[0m\u001b[1;33m(\u001b[0m\u001b[0mvalues\u001b[0m\u001b[1;33m,\u001b[0m \u001b[0mindexer\u001b[0m\u001b[1;33m)\u001b[0m\u001b[1;33m)\u001b[0m\u001b[1;33m\u001b[0m\u001b[0m\n\u001b[0;32m   4847\u001b[0m \u001b[1;33m\u001b[0m\u001b[0m\n\u001b[1;32m-> 4848\u001b[1;33m     \u001b[0mvalues\u001b[0m \u001b[1;33m=\u001b[0m \u001b[0mnp\u001b[0m\u001b[1;33m.\u001b[0m\u001b[0mvstack\u001b[0m\u001b[1;33m(\u001b[0m\u001b[0maligned_values\u001b[0m\u001b[1;33m)\u001b[0m\u001b[1;33m\u001b[0m\u001b[0m\n\u001b[0m\u001b[0;32m   4849\u001b[0m \u001b[1;33m\u001b[0m\u001b[0m\n\u001b[0;32m   4850\u001b[0m     \u001b[1;32mif\u001b[0m \u001b[0mvalues\u001b[0m\u001b[1;33m.\u001b[0m\u001b[0mdtype\u001b[0m \u001b[1;33m==\u001b[0m \u001b[0mnp\u001b[0m\u001b[1;33m.\u001b[0m\u001b[0mobject_\u001b[0m\u001b[1;33m:\u001b[0m\u001b[1;33m\u001b[0m\u001b[0m\n",
      "\u001b[1;32mC:\\Anaconda\\lib\\site-packages\\numpy\\core\\shape_base.pyc\u001b[0m in \u001b[0;36mvstack\u001b[1;34m(tup)\u001b[0m\n\u001b[0;32m    226\u001b[0m \u001b[1;33m\u001b[0m\u001b[0m\n\u001b[0;32m    227\u001b[0m     \"\"\"\n\u001b[1;32m--> 228\u001b[1;33m     \u001b[1;32mreturn\u001b[0m \u001b[0m_nx\u001b[0m\u001b[1;33m.\u001b[0m\u001b[0mconcatenate\u001b[0m\u001b[1;33m(\u001b[0m\u001b[1;33m[\u001b[0m\u001b[0matleast_2d\u001b[0m\u001b[1;33m(\u001b[0m\u001b[0m_m\u001b[0m\u001b[1;33m)\u001b[0m \u001b[1;32mfor\u001b[0m \u001b[0m_m\u001b[0m \u001b[1;32min\u001b[0m \u001b[0mtup\u001b[0m\u001b[1;33m]\u001b[0m\u001b[1;33m,\u001b[0m \u001b[1;36m0\u001b[0m\u001b[1;33m)\u001b[0m\u001b[1;33m\u001b[0m\u001b[0m\n\u001b[0m\u001b[0;32m    229\u001b[0m \u001b[1;33m\u001b[0m\u001b[0m\n\u001b[0;32m    230\u001b[0m \u001b[1;32mdef\u001b[0m \u001b[0mhstack\u001b[0m\u001b[1;33m(\u001b[0m\u001b[0mtup\u001b[0m\u001b[1;33m)\u001b[0m\u001b[1;33m:\u001b[0m\u001b[1;33m\u001b[0m\u001b[0m\n",
      "\u001b[1;31mValueError\u001b[0m: all the input array dimensions except for the concatenation axis must match exactly"
     ]
    }
   ],
   "source": [
    "df = pd.DataFrame([route_match,mode_match,total_match]).T\n",
    "df['id'] = df.index.get_level_values(0).values\n",
    "df.columns = ['route_match','mode_match','total_match','unique_id']"
   ]
  },
  {
   "cell_type": "code",
   "execution_count": 61,
   "metadata": {
    "collapsed": false
   },
   "outputs": [
    {
     "data": {
      "text/html": [
       "<div style=\"max-height:1000px;max-width:1500px;overflow:auto;\">\n",
       "<table border=\"1\" class=\"dataframe\">\n",
       "  <thead>\n",
       "    <tr style=\"text-align: right;\">\n",
       "      <th></th>\n",
       "      <th>path_routes</th>\n",
       "      <th>path_modes</th>\n",
       "      <th>path_components</th>\n",
       "      <th>unique_id</th>\n",
       "    </tr>\n",
       "    <tr>\n",
       "      <th>unique_id</th>\n",
       "      <th></th>\n",
       "      <th></th>\n",
       "      <th></th>\n",
       "      <th></th>\n",
       "    </tr>\n",
       "  </thead>\n",
       "  <tbody>\n",
       "    <tr>\n",
       "      <th>100066_15335</th>\n",
       "      <td>                                  Sonoma County_62</td>\n",
       "      <td>                 walk_access local_bus walk_egress</td>\n",
       "      <td> 2361.0 walk_access _ local_bus Sonoma County_6...</td>\n",
       "      <td> 100066_15335</td>\n",
       "    </tr>\n",
       "    <tr>\n",
       "      <th>1000_431</th>\n",
       "      <td> MUNI  Caltrain_San Francisco Burlingame   Tri-...</td>\n",
       "      <td> walk_access local_bus transfer commuter_rail w...</td>\n",
       "      <td> 930.0 walk_access _24893.0 24893.0 local_bus M...</td>\n",
       "      <td>     1000_431</td>\n",
       "    </tr>\n",
       "    <tr>\n",
       "      <th>1000_432</th>\n",
       "      <td> MUNI  Caltrain_San Francisco Burlingame   Tri-...</td>\n",
       "      <td> walk_access local_bus transfer commuter_rail w...</td>\n",
       "      <td> 930.0 walk_access _24893.0 24893.0 local_bus M...</td>\n",
       "      <td>     1000_432</td>\n",
       "    </tr>\n",
       "  </tbody>\n",
       "</table>\n",
       "</div>"
      ],
      "text/plain": [
       "                                                    path_routes  \\\n",
       "unique_id                                                         \n",
       "100066_15335                                   Sonoma County_62   \n",
       "1000_431      MUNI  Caltrain_San Francisco Burlingame   Tri-...   \n",
       "1000_432      MUNI  Caltrain_San Francisco Burlingame   Tri-...   \n",
       "\n",
       "                                                     path_modes  \\\n",
       "unique_id                                                         \n",
       "100066_15335                  walk_access local_bus walk_egress   \n",
       "1000_431      walk_access local_bus transfer commuter_rail w...   \n",
       "1000_432      walk_access local_bus transfer commuter_rail w...   \n",
       "\n",
       "                                                path_components     unique_id  \n",
       "unique_id                                                                      \n",
       "100066_15335  2361.0 walk_access _ local_bus Sonoma County_6...  100066_15335  \n",
       "1000_431      930.0 walk_access _24893.0 24893.0 local_bus M...      1000_431  \n",
       "1000_432      930.0 walk_access _24893.0 24893.0 local_bus M...      1000_432  "
      ]
     },
     "execution_count": 61,
     "metadata": {},
     "output_type": "execute_result"
    }
   ],
   "source": []
  },
  {
   "cell_type": "code",
   "execution_count": 60,
   "metadata": {
    "collapsed": false
   },
   "outputs": [
    {
     "data": {
      "text/html": [
       "<div style=\"max-height:1000px;max-width:1500px;overflow:auto;\">\n",
       "<table border=\"1\" class=\"dataframe\">\n",
       "  <thead>\n",
       "    <tr style=\"text-align: right;\">\n",
       "      <th></th>\n",
       "      <th></th>\n",
       "      <th>path_routes</th>\n",
       "      <th>path_modes</th>\n",
       "      <th>path_components</th>\n",
       "      <th>unique_id</th>\n",
       "    </tr>\n",
       "    <tr>\n",
       "      <th>unique_id</th>\n",
       "      <th>pathnum</th>\n",
       "      <th></th>\n",
       "      <th></th>\n",
       "      <th></th>\n",
       "      <th></th>\n",
       "    </tr>\n",
       "  </thead>\n",
       "  <tbody>\n",
       "    <tr>\n",
       "      <th rowspan=\"3\" valign=\"top\">100066_15335</th>\n",
       "      <th>0</th>\n",
       "      <td> 76_14MNO</td>\n",
       "      <td> walk_access local_bus walk_egress</td>\n",
       "      <td> 2361 walk_access _9376 9376 local_bus 76_14MNO...</td>\n",
       "      <td> 100066_15335</td>\n",
       "    </tr>\n",
       "    <tr>\n",
       "      <th>1</th>\n",
       "      <td> 74_44NBL</td>\n",
       "      <td> walk_access local_bus walk_egress</td>\n",
       "      <td> 2361 walk_access _9376 9376 local_bus 74_44NBL...</td>\n",
       "      <td> 100066_15335</td>\n",
       "    </tr>\n",
       "    <tr>\n",
       "      <th>2</th>\n",
       "      <td> 74_62NBL</td>\n",
       "      <td> walk_access local_bus walk_egress</td>\n",
       "      <td> 2361 walk_access _9376 9376 local_bus 74_62NBL...</td>\n",
       "      <td> 100066_15335</td>\n",
       "    </tr>\n",
       "  </tbody>\n",
       "</table>\n",
       "</div>"
      ],
      "text/plain": [
       "                     path_routes                         path_modes  \\\n",
       "unique_id    pathnum                                                  \n",
       "100066_15335 0          76_14MNO  walk_access local_bus walk_egress   \n",
       "             1          74_44NBL  walk_access local_bus walk_egress   \n",
       "             2          74_62NBL  walk_access local_bus walk_egress   \n",
       "\n",
       "                                                        path_components  \\\n",
       "unique_id    pathnum                                                      \n",
       "100066_15335 0        2361 walk_access _9376 9376 local_bus 76_14MNO...   \n",
       "             1        2361 walk_access _9376 9376 local_bus 74_44NBL...   \n",
       "             2        2361 walk_access _9376 9376 local_bus 74_62NBL...   \n",
       "\n",
       "                         unique_id  \n",
       "unique_id    pathnum                \n",
       "100066_15335 0        100066_15335  \n",
       "             1        100066_15335  \n",
       "             2        100066_15335  "
      ]
     },
     "execution_count": 60,
     "metadata": {},
     "output_type": "execute_result"
    }
   ],
   "source": [
    "new_pathset.head(3)"
   ]
  },
  {
   "cell_type": "code",
   "execution_count": null,
   "metadata": {
    "collapsed": false
   },
   "outputs": [],
   "source": [
    "# Join those results back into the observed path file\n",
    "df = pd.merge(observed_path, df)"
   ]
  },
  {
   "cell_type": "code",
   "execution_count": null,
   "metadata": {
    "collapsed": false
   },
   "outputs": [],
   "source": [
    "# Percent of the observed trips that are found in the pathset, based on matching routes, modes, and everything\n",
    "df.mean()"
   ]
  },
  {
   "cell_type": "code",
   "execution_count": 63,
   "metadata": {
    "collapsed": false
   },
   "outputs": [
    {
     "data": {
      "text/html": [
       "<div style=\"max-height:1000px;max-width:1500px;overflow:auto;\">\n",
       "<table border=\"1\" class=\"dataframe\">\n",
       "  <thead>\n",
       "    <tr style=\"text-align: right;\">\n",
       "      <th></th>\n",
       "      <th>path_routes_x</th>\n",
       "      <th>path_modes</th>\n",
       "      <th>path_components_x</th>\n",
       "      <th>unique_id</th>\n",
       "      <th>path_routes_y</th>\n",
       "      <th>path_components_y</th>\n",
       "    </tr>\n",
       "  </thead>\n",
       "  <tbody>\n",
       "    <tr>\n",
       "      <th>0    </th>\n",
       "      <td>         Sonoma County_62</td>\n",
       "      <td>                 walk_access local_bus walk_egress</td>\n",
       "      <td> 2361.0 walk_access _ local_bus Sonoma County_6...</td>\n",
       "      <td> 100066_15335</td>\n",
       "      <td>          76_14MNO</td>\n",
       "      <td> 2361 walk_access _9376 9376 local_bus 76_14MNO...</td>\n",
       "    </tr>\n",
       "    <tr>\n",
       "      <th>1    </th>\n",
       "      <td>         Sonoma County_62</td>\n",
       "      <td>                 walk_access local_bus walk_egress</td>\n",
       "      <td> 2361.0 walk_access _ local_bus Sonoma County_6...</td>\n",
       "      <td> 100066_15335</td>\n",
       "      <td>          74_44NBL</td>\n",
       "      <td> 2361 walk_access _9376 9376 local_bus 74_44NBL...</td>\n",
       "    </tr>\n",
       "    <tr>\n",
       "      <th>2    </th>\n",
       "      <td>         Sonoma County_62</td>\n",
       "      <td>                 walk_access local_bus walk_egress</td>\n",
       "      <td> 2361.0 walk_access _ local_bus Sonoma County_6...</td>\n",
       "      <td> 100066_15335</td>\n",
       "      <td>          74_62NBL</td>\n",
       "      <td> 2361 walk_access _9376 9376 local_bus 74_62NBL...</td>\n",
       "    </tr>\n",
       "    <tr>\n",
       "      <th>3    </th>\n",
       "      <td>         Sonoma County_62</td>\n",
       "      <td>                 walk_access local_bus walk_egress</td>\n",
       "      <td> 2361.0 walk_access _ local_bus Sonoma County_6...</td>\n",
       "      <td> 100066_15335</td>\n",
       "      <td>          74_64NBL</td>\n",
       "      <td> 2361 walk_access _9376 9376 local_bus 74_64NBL...</td>\n",
       "    </tr>\n",
       "    <tr>\n",
       "      <th>4    </th>\n",
       "      <td>         Sonoma County_62</td>\n",
       "      <td>                 walk_access local_bus walk_egress</td>\n",
       "      <td> 2361.0 walk_access _ local_bus Sonoma County_6...</td>\n",
       "      <td> 100066_15335</td>\n",
       "      <td>          74_20MRL</td>\n",
       "      <td> 2361 walk_access _9376 9376 local_bus 74_20MRL...</td>\n",
       "    </tr>\n",
       "    <tr>\n",
       "      <th>5    </th>\n",
       "      <td>         Sonoma County_62</td>\n",
       "      <td>                 walk_access local_bus walk_egress</td>\n",
       "      <td> 2361.0 walk_access _ local_bus Sonoma County_6...</td>\n",
       "      <td> 100066_15335</td>\n",
       "      <td>           76_1CHO</td>\n",
       "      <td> 2361 walk_access _9402 9402 local_bus 76_1CHO_...</td>\n",
       "    </tr>\n",
       "    <tr>\n",
       "      <th>6    </th>\n",
       "      <td>         Sonoma County_62</td>\n",
       "      <td>                 walk_access local_bus walk_egress</td>\n",
       "      <td> 2361.0 walk_access _ local_bus Sonoma County_6...</td>\n",
       "      <td> 100066_15335</td>\n",
       "      <td>          76_14MNO</td>\n",
       "      <td> 2361 walk_access _9402 9402 local_bus 76_14MNO...</td>\n",
       "    </tr>\n",
       "    <tr>\n",
       "      <th>7    </th>\n",
       "      <td>         Sonoma County_62</td>\n",
       "      <td>                 walk_access local_bus walk_egress</td>\n",
       "      <td> 2361.0 walk_access _ local_bus Sonoma County_6...</td>\n",
       "      <td> 100066_15335</td>\n",
       "      <td>          74_20MRL</td>\n",
       "      <td> 2361 walk_access _9402 9402 local_bus 74_20MRL...</td>\n",
       "    </tr>\n",
       "    <tr>\n",
       "      <th>8    </th>\n",
       "      <td>         Sonoma County_62</td>\n",
       "      <td>                 walk_access local_bus walk_egress</td>\n",
       "      <td> 2361.0 walk_access _ local_bus Sonoma County_6...</td>\n",
       "      <td> 100066_15335</td>\n",
       "      <td>          74_44NBL</td>\n",
       "      <td> 2361 walk_access _9402 9402 local_bus 74_44NBL...</td>\n",
       "    </tr>\n",
       "    <tr>\n",
       "      <th>9    </th>\n",
       "      <td>         Sonoma County_62</td>\n",
       "      <td>                 walk_access local_bus walk_egress</td>\n",
       "      <td> 2361.0 walk_access _ local_bus Sonoma County_6...</td>\n",
       "      <td> 100066_15335</td>\n",
       "      <td>          74_62NBL</td>\n",
       "      <td> 2361 walk_access _9402 9402 local_bus 74_62NBL...</td>\n",
       "    </tr>\n",
       "    <tr>\n",
       "      <th>10   </th>\n",
       "      <td>         Sonoma County_62</td>\n",
       "      <td>                 walk_access local_bus walk_egress</td>\n",
       "      <td> 2361.0 walk_access _ local_bus Sonoma County_6...</td>\n",
       "      <td> 100066_15335</td>\n",
       "      <td>          74_64NBL</td>\n",
       "      <td> 2361 walk_access _9402 9402 local_bus 74_64NBL...</td>\n",
       "    </tr>\n",
       "    <tr>\n",
       "      <th>11   </th>\n",
       "      <td>         Sonoma County_62</td>\n",
       "      <td>                 walk_access local_bus walk_egress</td>\n",
       "      <td> 2361.0 walk_access _ local_bus Sonoma County_6...</td>\n",
       "      <td> 100066_15335</td>\n",
       "      <td>          76_14MNO</td>\n",
       "      <td> 2361 walk_access _9376 9376 local_bus 76_14MNO...</td>\n",
       "    </tr>\n",
       "    <tr>\n",
       "      <th>12   </th>\n",
       "      <td>         Sonoma County_62</td>\n",
       "      <td>                 walk_access local_bus walk_egress</td>\n",
       "      <td> 2361.0 walk_access _ local_bus Sonoma County_6...</td>\n",
       "      <td> 100066_15335</td>\n",
       "      <td>          74_44NBL</td>\n",
       "      <td> 2361 walk_access _9376 9376 local_bus 74_44NBL...</td>\n",
       "    </tr>\n",
       "    <tr>\n",
       "      <th>13   </th>\n",
       "      <td>         Sonoma County_62</td>\n",
       "      <td>                 walk_access local_bus walk_egress</td>\n",
       "      <td> 2361.0 walk_access _ local_bus Sonoma County_6...</td>\n",
       "      <td> 100066_15335</td>\n",
       "      <td>          74_62NBL</td>\n",
       "      <td> 2361 walk_access _9376 9376 local_bus 74_62NBL...</td>\n",
       "    </tr>\n",
       "    <tr>\n",
       "      <th>14   </th>\n",
       "      <td>         Sonoma County_62</td>\n",
       "      <td>                 walk_access local_bus walk_egress</td>\n",
       "      <td> 2361.0 walk_access _ local_bus Sonoma County_6...</td>\n",
       "      <td> 100066_15335</td>\n",
       "      <td>          74_64NBL</td>\n",
       "      <td> 2361 walk_access _9376 9376 local_bus 74_64NBL...</td>\n",
       "    </tr>\n",
       "    <tr>\n",
       "      <th>15   </th>\n",
       "      <td>         Sonoma County_62</td>\n",
       "      <td>                 walk_access local_bus walk_egress</td>\n",
       "      <td> 2361.0 walk_access _ local_bus Sonoma County_6...</td>\n",
       "      <td> 100066_15335</td>\n",
       "      <td>          74_20MRL</td>\n",
       "      <td> 2361 walk_access _9376 9376 local_bus 74_20MRL...</td>\n",
       "    </tr>\n",
       "    <tr>\n",
       "      <th>16   </th>\n",
       "      <td>         Sonoma County_62</td>\n",
       "      <td>                 walk_access local_bus walk_egress</td>\n",
       "      <td> 2361.0 walk_access _ local_bus Sonoma County_6...</td>\n",
       "      <td> 100066_15335</td>\n",
       "      <td>           76_1CHO</td>\n",
       "      <td> 2361 walk_access _9402 9402 local_bus 76_1CHO_...</td>\n",
       "    </tr>\n",
       "    <tr>\n",
       "      <th>17   </th>\n",
       "      <td>        Sonoma County_20X</td>\n",
       "      <td>                 walk_access local_bus walk_egress</td>\n",
       "      <td> 2369.0 walk_access _ local_bus Sonoma County_2...</td>\n",
       "      <td> 100122_15336</td>\n",
       "      <td>      76_10PinerRd</td>\n",
       "      <td> 2369 walk_access _9223 9223 local_bus 76_10Pin...</td>\n",
       "    </tr>\n",
       "    <tr>\n",
       "      <th>18   </th>\n",
       "      <td>         Sonoma County_62</td>\n",
       "      <td>                 walk_access local_bus walk_egress</td>\n",
       "      <td> 2395.0 walk_access _ local_bus Sonoma County_6...</td>\n",
       "      <td> 100281_15338</td>\n",
       "      <td>           74_60HL</td>\n",
       "      <td> 2395 walk_access _12445 12445 local_bus 74_60H...</td>\n",
       "    </tr>\n",
       "    <tr>\n",
       "      <th>19   </th>\n",
       "      <td>                BART_18 9</td>\n",
       "      <td>                walk_access heavy_rail walk_egress</td>\n",
       "      <td> 1801.0 walk_access _ heavy_rail BART_18 9_ wal...</td>\n",
       "      <td>   10177_3640</td>\n",
       "      <td>      100_BART_ORG</td>\n",
       "      <td> 1801 walk_access _16527 16527 heavy_rail 100_B...</td>\n",
       "    </tr>\n",
       "    <tr>\n",
       "      <th>20   </th>\n",
       "      <td>                BART_18 9</td>\n",
       "      <td>                walk_access heavy_rail walk_egress</td>\n",
       "      <td> 1801.0 walk_access _ heavy_rail BART_18 9_ wal...</td>\n",
       "      <td>   10177_3640</td>\n",
       "      <td>      100_BART_ORG</td>\n",
       "      <td> 1801 walk_access _16527 16527 heavy_rail 100_B...</td>\n",
       "    </tr>\n",
       "    <tr>\n",
       "      <th>21   </th>\n",
       "      <td>               BART_16 25</td>\n",
       "      <td>                walk_access heavy_rail walk_egress</td>\n",
       "      <td> 1828.0 walk_access _ heavy_rail BART_16 25_ wa...</td>\n",
       "      <td>   11370_3850</td>\n",
       "      <td>      100_BART_ORG</td>\n",
       "      <td> 1828 walk_access _16529 16529 heavy_rail 100_B...</td>\n",
       "    </tr>\n",
       "    <tr>\n",
       "      <th>22   </th>\n",
       "      <td>               BART_15 11</td>\n",
       "      <td>                walk_access heavy_rail walk_egress</td>\n",
       "      <td> 1862.0 walk_access _ heavy_rail BART_15 11_ wa...</td>\n",
       "      <td>   12256_3989</td>\n",
       "      <td>      100_BART_ORG</td>\n",
       "      <td> 1862 walk_access _16530 16530 heavy_rail 100_B...</td>\n",
       "    </tr>\n",
       "    <tr>\n",
       "      <th>23   </th>\n",
       "      <td>               BART_15 11</td>\n",
       "      <td>                walk_access heavy_rail walk_egress</td>\n",
       "      <td> 1862.0 walk_access _ heavy_rail BART_15 11_ wa...</td>\n",
       "      <td>   12256_3989</td>\n",
       "      <td>      100_BART_ORG</td>\n",
       "      <td> 1862 walk_access _16530 16530 heavy_rail 100_B...</td>\n",
       "    </tr>\n",
       "    <tr>\n",
       "      <th>24   </th>\n",
       "      <td>                BART_23 9</td>\n",
       "      <td>                walk_access heavy_rail walk_egress</td>\n",
       "      <td> 2152.0 walk_access _ heavy_rail BART_23 9_ wal...</td>\n",
       "      <td>   12803_4064</td>\n",
       "      <td>      100_BART_YL2</td>\n",
       "      <td> 2152 walk_access _16504 16504 heavy_rail 100_B...</td>\n",
       "    </tr>\n",
       "    <tr>\n",
       "      <th>25   </th>\n",
       "      <td>                BART_23 9</td>\n",
       "      <td>                walk_access heavy_rail walk_egress</td>\n",
       "      <td> 2152.0 walk_access _ heavy_rail BART_23 9_ wal...</td>\n",
       "      <td>   12803_4064</td>\n",
       "      <td>      100_BART_YL2</td>\n",
       "      <td> 2152 walk_access _16504 16504 heavy_rail 100_B...</td>\n",
       "    </tr>\n",
       "    <tr>\n",
       "      <th>26   </th>\n",
       "      <td>               BART_23 28</td>\n",
       "      <td>                walk_access heavy_rail walk_egress</td>\n",
       "      <td> 2152.0 walk_access _ heavy_rail BART_23 28_165...</td>\n",
       "      <td>   12970_4083</td>\n",
       "      <td>      100_BART_YL2</td>\n",
       "      <td> 2152 walk_access _16504 16504 heavy_rail 100_B...</td>\n",
       "    </tr>\n",
       "    <tr>\n",
       "      <th>27   </th>\n",
       "      <td>               BART_23 20</td>\n",
       "      <td>                walk_access heavy_rail walk_egress</td>\n",
       "      <td> 2152.0 walk_access _ heavy_rail BART_23 20_ wa...</td>\n",
       "      <td>   14266_4252</td>\n",
       "      <td>      100_BART_YEL</td>\n",
       "      <td> 2152 walk_access _16504 16504 heavy_rail 100_B...</td>\n",
       "    </tr>\n",
       "    <tr>\n",
       "      <th>28   </th>\n",
       "      <td>               BART_23 20</td>\n",
       "      <td>                walk_access heavy_rail walk_egress</td>\n",
       "      <td> 2152.0 walk_access _ heavy_rail BART_23 20_ wa...</td>\n",
       "      <td>   14266_4252</td>\n",
       "      <td>      100_BART_YEL</td>\n",
       "      <td> 2152 walk_access _16504 16504 heavy_rail 100_B...</td>\n",
       "    </tr>\n",
       "    <tr>\n",
       "      <th>29   </th>\n",
       "      <td>               BART_23 22</td>\n",
       "      <td>                walk_access heavy_rail walk_egress</td>\n",
       "      <td> 2152.0 walk_access _ heavy_rail BART_23 22_ wa...</td>\n",
       "      <td>   16736_4648</td>\n",
       "      <td>      100_BART_YEL</td>\n",
       "      <td> 2152 walk_access _16504 16504 heavy_rail 100_B...</td>\n",
       "    </tr>\n",
       "    <tr>\n",
       "      <th>...</th>\n",
       "      <td>...</td>\n",
       "      <td>...</td>\n",
       "      <td>...</td>\n",
       "      <td>...</td>\n",
       "      <td>...</td>\n",
       "      <td>...</td>\n",
       "    </tr>\n",
       "    <tr>\n",
       "      <th>33647</th>\n",
       "      <td>             SamTrans_250</td>\n",
       "      <td>                 walk_access local_bus walk_egress</td>\n",
       "      <td> 1284.0 walk_access _ local_bus SamTrans_250_ w...</td>\n",
       "      <td> 709967_26187</td>\n",
       "      <td>           30_292N</td>\n",
       "      <td> 1284 walk_access _7366 7366 local_bus 30_292N_...</td>\n",
       "    </tr>\n",
       "    <tr>\n",
       "      <th>33648</th>\n",
       "      <td>             SamTrans_250</td>\n",
       "      <td>                 walk_access local_bus walk_egress</td>\n",
       "      <td> 1284.0 walk_access _ local_bus SamTrans_250_ w...</td>\n",
       "      <td> 709967_26187</td>\n",
       "      <td>           30_292N</td>\n",
       "      <td> 1284 walk_access _7192 7192 local_bus 30_292N_...</td>\n",
       "    </tr>\n",
       "    <tr>\n",
       "      <th>33649</th>\n",
       "      <td>             SamTrans_250</td>\n",
       "      <td>                 walk_access local_bus walk_egress</td>\n",
       "      <td> 1284.0 walk_access _ local_bus SamTrans_250_ w...</td>\n",
       "      <td> 709967_26187</td>\n",
       "      <td>           30_292N</td>\n",
       "      <td> 1284 walk_access _7366 7366 local_bus 30_292N_...</td>\n",
       "    </tr>\n",
       "    <tr>\n",
       "      <th>33650</th>\n",
       "      <td>             SamTrans_250</td>\n",
       "      <td>                 walk_access local_bus walk_egress</td>\n",
       "      <td> 1284.0 walk_access _ local_bus SamTrans_250_ w...</td>\n",
       "      <td> 709967_26187</td>\n",
       "      <td>           30_292N</td>\n",
       "      <td> 1284 walk_access _7192 7192 local_bus 30_292N_...</td>\n",
       "    </tr>\n",
       "    <tr>\n",
       "      <th>33651</th>\n",
       "      <td>             SamTrans_250</td>\n",
       "      <td>                 walk_access local_bus walk_egress</td>\n",
       "      <td> 1274.0 walk_access _ local_bus SamTrans_250_ w...</td>\n",
       "      <td> 709969_26188</td>\n",
       "      <td>           29_250W</td>\n",
       "      <td> 1274 walk_access _7387 7387 local_bus 29_250W_...</td>\n",
       "    </tr>\n",
       "    <tr>\n",
       "      <th>33652</th>\n",
       "      <td>             SamTrans_250</td>\n",
       "      <td>                 walk_access local_bus walk_egress</td>\n",
       "      <td> 1274.0 walk_access _ local_bus SamTrans_250_ w...</td>\n",
       "      <td> 709969_26188</td>\n",
       "      <td>           29_250W</td>\n",
       "      <td> 1274 walk_access _14044 14044 local_bus 29_250...</td>\n",
       "    </tr>\n",
       "    <tr>\n",
       "      <th>33653</th>\n",
       "      <td>             SamTrans_250</td>\n",
       "      <td>                 walk_access local_bus walk_egress</td>\n",
       "      <td> 1274.0 walk_access _ local_bus SamTrans_250_ w...</td>\n",
       "      <td> 709969_26188</td>\n",
       "      <td>           29_250W</td>\n",
       "      <td> 1274 walk_access _7387 7387 local_bus 29_250W_...</td>\n",
       "    </tr>\n",
       "    <tr>\n",
       "      <th>33654</th>\n",
       "      <td>             SamTrans_250</td>\n",
       "      <td>                 walk_access local_bus walk_egress</td>\n",
       "      <td> 1274.0 walk_access _ local_bus SamTrans_250_ w...</td>\n",
       "      <td> 709969_26188</td>\n",
       "      <td>           29_250W</td>\n",
       "      <td> 1274 walk_access _14044 14044 local_bus 29_250...</td>\n",
       "    </tr>\n",
       "    <tr>\n",
       "      <th>33655</th>\n",
       "      <td>   SAMTRANS  SamTrans_391</td>\n",
       "      <td> walk_access local_bus transfer local_bus walk_...</td>\n",
       "      <td> 1274.0 walk_access _ local_bus SAMTRANS_ trans...</td>\n",
       "      <td> 709974_26189</td>\n",
       "      <td>  29_250W  30_292N</td>\n",
       "      <td> 1274 walk_access _7387 7387 local_bus 29_250W_...</td>\n",
       "    </tr>\n",
       "    <tr>\n",
       "      <th>33656</th>\n",
       "      <td>   SAMTRANS  SamTrans_391</td>\n",
       "      <td> walk_access local_bus transfer local_bus walk_...</td>\n",
       "      <td> 1274.0 walk_access _ local_bus SAMTRANS_ trans...</td>\n",
       "      <td> 709974_26189</td>\n",
       "      <td>  29_250W  30_292N</td>\n",
       "      <td> 1274 walk_access _14044 14044 local_bus 29_250...</td>\n",
       "    </tr>\n",
       "    <tr>\n",
       "      <th>33657</th>\n",
       "      <td>   SAMTRANS  SamTrans_391</td>\n",
       "      <td> walk_access local_bus transfer local_bus walk_...</td>\n",
       "      <td> 1274.0 walk_access _ local_bus SAMTRANS_ trans...</td>\n",
       "      <td> 709974_26189</td>\n",
       "      <td>  29_250W  30_292N</td>\n",
       "      <td> 1274 walk_access _7387 7387 local_bus 29_250W_...</td>\n",
       "    </tr>\n",
       "    <tr>\n",
       "      <th>33658</th>\n",
       "      <td>   SAMTRANS  SamTrans_391</td>\n",
       "      <td> walk_access local_bus transfer local_bus walk_...</td>\n",
       "      <td> 1274.0 walk_access _ local_bus SAMTRANS_ trans...</td>\n",
       "      <td> 709974_26189</td>\n",
       "      <td>  29_250W  30_292N</td>\n",
       "      <td> 1274 walk_access _14044 14044 local_bus 29_250...</td>\n",
       "    </tr>\n",
       "    <tr>\n",
       "      <th>33659</th>\n",
       "      <td>   SAMTRANS  SamTrans_391</td>\n",
       "      <td> walk_access local_bus transfer local_bus walk_...</td>\n",
       "      <td> 1274.0 walk_access _ local_bus SAMTRANS_ trans...</td>\n",
       "      <td> 709974_26189</td>\n",
       "      <td> 29_250W  30_391NB</td>\n",
       "      <td> 1274 walk_access _7387 7387 local_bus 29_250W_...</td>\n",
       "    </tr>\n",
       "    <tr>\n",
       "      <th>33660</th>\n",
       "      <td>   SAMTRANS  SamTrans_292</td>\n",
       "      <td> walk_access local_bus transfer local_bus walk_...</td>\n",
       "      <td> 1261.0 walk_access _ local_bus SAMTRANS_ trans...</td>\n",
       "      <td> 709979_26191</td>\n",
       "      <td> 29_250W  30_391NB</td>\n",
       "      <td> 1261 walk_access _14033 14033 local_bus 29_250...</td>\n",
       "    </tr>\n",
       "    <tr>\n",
       "      <th>33661</th>\n",
       "      <td> WHEELS (LAVTA)  LAVTA_14</td>\n",
       "      <td> walk_access local_bus transfer local_bus walk_...</td>\n",
       "      <td> 1719.0 walk_access _5102.0 5102.0 local_bus WH...</td>\n",
       "      <td> 910213_26202</td>\n",
       "      <td>  44_W15sb  44_W14</td>\n",
       "      <td> 1719 walk_access _12213 12213 local_bus 44_W15...</td>\n",
       "    </tr>\n",
       "    <tr>\n",
       "      <th>33662</th>\n",
       "      <td> WHEELS (LAVTA)  LAVTA_14</td>\n",
       "      <td> walk_access local_bus transfer local_bus walk_...</td>\n",
       "      <td> 1719.0 walk_access _5102.0 5102.0 local_bus WH...</td>\n",
       "      <td> 910213_26202</td>\n",
       "      <td>  44_W15sb  44_W14</td>\n",
       "      <td> 1719 walk_access _4591 4591 local_bus 44_W15sb...</td>\n",
       "    </tr>\n",
       "    <tr>\n",
       "      <th>33663</th>\n",
       "      <td> WHEELS (LAVTA)  LAVTA_14</td>\n",
       "      <td> walk_access local_bus transfer local_bus walk_...</td>\n",
       "      <td> 1719.0 walk_access _5102.0 5102.0 local_bus WH...</td>\n",
       "      <td> 910213_26202</td>\n",
       "      <td>  44_W15sb  44_W14</td>\n",
       "      <td> 1719 walk_access _12213 12213 local_bus 44_W15...</td>\n",
       "    </tr>\n",
       "    <tr>\n",
       "      <th>33664</th>\n",
       "      <td>                 LAVTA_10</td>\n",
       "      <td>                 walk_access local_bus walk_egress</td>\n",
       "      <td> 1739.0 walk_access _ local_bus LAVTA_10_ walk_...</td>\n",
       "      <td> 910633_26216</td>\n",
       "      <td>            45_W10</td>\n",
       "      <td> 1739 walk_access _5018 5018 local_bus 45_W10_5...</td>\n",
       "    </tr>\n",
       "    <tr>\n",
       "      <th>33665</th>\n",
       "      <td>                 LAVTA_10</td>\n",
       "      <td>                 walk_access local_bus walk_egress</td>\n",
       "      <td> 1739.0 walk_access _ local_bus LAVTA_10_ walk_...</td>\n",
       "      <td> 910633_26216</td>\n",
       "      <td>            45_W10</td>\n",
       "      <td> 1739 walk_access _5018 5018 local_bus 45_W10_4...</td>\n",
       "    </tr>\n",
       "    <tr>\n",
       "      <th>33666</th>\n",
       "      <td>                 LAVTA_10</td>\n",
       "      <td>                 walk_access local_bus walk_egress</td>\n",
       "      <td> 1739.0 walk_access _ local_bus LAVTA_10_ walk_...</td>\n",
       "      <td> 910633_26216</td>\n",
       "      <td>            45_W10</td>\n",
       "      <td> 1739 walk_access _5018 5018 local_bus 45_W10_4...</td>\n",
       "    </tr>\n",
       "    <tr>\n",
       "      <th>33667</th>\n",
       "      <td>                 LAVTA_NA</td>\n",
       "      <td>                 walk_access local_bus walk_egress</td>\n",
       "      <td> 1722.0 walk_access _ local_bus LAVTA_NA_ walk_...</td>\n",
       "      <td> 910725_26220</td>\n",
       "      <td>            44_W14</td>\n",
       "      <td> 1722 walk_access _5091 5091 local_bus 44_W14_1...</td>\n",
       "    </tr>\n",
       "    <tr>\n",
       "      <th>33668</th>\n",
       "      <td>                 LAVTA_NA</td>\n",
       "      <td>                 walk_access local_bus walk_egress</td>\n",
       "      <td> 1722.0 walk_access _ local_bus LAVTA_NA_ walk_...</td>\n",
       "      <td> 910725_26220</td>\n",
       "      <td>            44_W14</td>\n",
       "      <td> 1722 walk_access _4701 4701 local_bus 44_W14_1...</td>\n",
       "    </tr>\n",
       "    <tr>\n",
       "      <th>33669</th>\n",
       "      <td>                 LAVTA_54</td>\n",
       "      <td>                 walk_access local_bus walk_egress</td>\n",
       "      <td> 1739.0 walk_access _ local_bus LAVTA_54_ walk_...</td>\n",
       "      <td> 910779_26222</td>\n",
       "      <td>            45_W10</td>\n",
       "      <td> 1739 walk_access _5018 5018 local_bus 45_W10_5...</td>\n",
       "    </tr>\n",
       "    <tr>\n",
       "      <th>33670</th>\n",
       "      <td>                 LAVTA_54</td>\n",
       "      <td>                 walk_access local_bus walk_egress</td>\n",
       "      <td> 1739.0 walk_access _ local_bus LAVTA_54_ walk_...</td>\n",
       "      <td> 910779_26222</td>\n",
       "      <td>            45_W10</td>\n",
       "      <td> 1739 walk_access _5018 5018 local_bus 45_W10_4...</td>\n",
       "    </tr>\n",
       "    <tr>\n",
       "      <th>33671</th>\n",
       "      <td>                 LAVTA_54</td>\n",
       "      <td>                 walk_access local_bus walk_egress</td>\n",
       "      <td> 1739.0 walk_access _ local_bus LAVTA_54_ walk_...</td>\n",
       "      <td> 910779_26222</td>\n",
       "      <td>            45_W10</td>\n",
       "      <td> 1739 walk_access _5018 5018 local_bus 45_W10_4...</td>\n",
       "    </tr>\n",
       "    <tr>\n",
       "      <th>33672</th>\n",
       "      <td>                 LAVTA_NA</td>\n",
       "      <td>                 walk_access local_bus walk_egress</td>\n",
       "      <td> 1722.0 walk_access _ local_bus LAVTA_NA_ walk_...</td>\n",
       "      <td> 911251_26241</td>\n",
       "      <td>            44_W14</td>\n",
       "      <td> 1722 walk_access _5091 5091 local_bus 44_W14_1...</td>\n",
       "    </tr>\n",
       "    <tr>\n",
       "      <th>33673</th>\n",
       "      <td>                 LAVTA_NA</td>\n",
       "      <td>                 walk_access local_bus walk_egress</td>\n",
       "      <td> 1722.0 walk_access _ local_bus LAVTA_NA_ walk_...</td>\n",
       "      <td> 911251_26241</td>\n",
       "      <td>            44_W14</td>\n",
       "      <td> 1722 walk_access _4701 4701 local_bus 44_W14_1...</td>\n",
       "    </tr>\n",
       "    <tr>\n",
       "      <th>33674</th>\n",
       "      <td> WHEELS (LAVTA)  LAVTA_NA</td>\n",
       "      <td> walk_access local_bus transfer local_bus walk_...</td>\n",
       "      <td> 1733.0 walk_access _ local_bus WHEELS (LAVTA)_...</td>\n",
       "      <td> 911687_26253</td>\n",
       "      <td>    42_W3A  42_W1A</td>\n",
       "      <td> 1733 walk_access _4175 4175 local_bus 42_W3A_4...</td>\n",
       "    </tr>\n",
       "    <tr>\n",
       "      <th>33675</th>\n",
       "      <td> WHEELS (LAVTA)  LAVTA_NA</td>\n",
       "      <td> walk_access local_bus transfer local_bus walk_...</td>\n",
       "      <td> 1733.0 walk_access _ local_bus WHEELS (LAVTA)_...</td>\n",
       "      <td> 911687_26253</td>\n",
       "      <td>    42_W3A  42_W1B</td>\n",
       "      <td> 1733 walk_access _4175 4175 local_bus 42_W3A_4...</td>\n",
       "    </tr>\n",
       "    <tr>\n",
       "      <th>33676</th>\n",
       "      <td> LAVTA_10  WHEELS (LAVTA)</td>\n",
       "      <td> walk_access local_bus transfer local_bus walk_...</td>\n",
       "      <td> 1739.0 walk_access _ local_bus LAVTA_10_16538....</td>\n",
       "      <td> 912253_26268</td>\n",
       "      <td>    45_W10  42_W3A</td>\n",
       "      <td> 1739 walk_access _5018 5018 local_bus 45_W10_4...</td>\n",
       "    </tr>\n",
       "  </tbody>\n",
       "</table>\n",
       "<p>33677 rows × 6 columns</p>\n",
       "</div>"
      ],
      "text/plain": [
       "                  path_routes_x  \\\n",
       "0              Sonoma County_62   \n",
       "1              Sonoma County_62   \n",
       "2              Sonoma County_62   \n",
       "3              Sonoma County_62   \n",
       "4              Sonoma County_62   \n",
       "5              Sonoma County_62   \n",
       "6              Sonoma County_62   \n",
       "7              Sonoma County_62   \n",
       "8              Sonoma County_62   \n",
       "9              Sonoma County_62   \n",
       "10             Sonoma County_62   \n",
       "11             Sonoma County_62   \n",
       "12             Sonoma County_62   \n",
       "13             Sonoma County_62   \n",
       "14             Sonoma County_62   \n",
       "15             Sonoma County_62   \n",
       "16             Sonoma County_62   \n",
       "17            Sonoma County_20X   \n",
       "18             Sonoma County_62   \n",
       "19                    BART_18 9   \n",
       "20                    BART_18 9   \n",
       "21                   BART_16 25   \n",
       "22                   BART_15 11   \n",
       "23                   BART_15 11   \n",
       "24                    BART_23 9   \n",
       "25                    BART_23 9   \n",
       "26                   BART_23 28   \n",
       "27                   BART_23 20   \n",
       "28                   BART_23 20   \n",
       "29                   BART_23 22   \n",
       "...                         ...   \n",
       "33647              SamTrans_250   \n",
       "33648              SamTrans_250   \n",
       "33649              SamTrans_250   \n",
       "33650              SamTrans_250   \n",
       "33651              SamTrans_250   \n",
       "33652              SamTrans_250   \n",
       "33653              SamTrans_250   \n",
       "33654              SamTrans_250   \n",
       "33655    SAMTRANS  SamTrans_391   \n",
       "33656    SAMTRANS  SamTrans_391   \n",
       "33657    SAMTRANS  SamTrans_391   \n",
       "33658    SAMTRANS  SamTrans_391   \n",
       "33659    SAMTRANS  SamTrans_391   \n",
       "33660    SAMTRANS  SamTrans_292   \n",
       "33661  WHEELS (LAVTA)  LAVTA_14   \n",
       "33662  WHEELS (LAVTA)  LAVTA_14   \n",
       "33663  WHEELS (LAVTA)  LAVTA_14   \n",
       "33664                  LAVTA_10   \n",
       "33665                  LAVTA_10   \n",
       "33666                  LAVTA_10   \n",
       "33667                  LAVTA_NA   \n",
       "33668                  LAVTA_NA   \n",
       "33669                  LAVTA_54   \n",
       "33670                  LAVTA_54   \n",
       "33671                  LAVTA_54   \n",
       "33672                  LAVTA_NA   \n",
       "33673                  LAVTA_NA   \n",
       "33674  WHEELS (LAVTA)  LAVTA_NA   \n",
       "33675  WHEELS (LAVTA)  LAVTA_NA   \n",
       "33676  LAVTA_10  WHEELS (LAVTA)   \n",
       "\n",
       "                                              path_modes  \\\n",
       "0                      walk_access local_bus walk_egress   \n",
       "1                      walk_access local_bus walk_egress   \n",
       "2                      walk_access local_bus walk_egress   \n",
       "3                      walk_access local_bus walk_egress   \n",
       "4                      walk_access local_bus walk_egress   \n",
       "5                      walk_access local_bus walk_egress   \n",
       "6                      walk_access local_bus walk_egress   \n",
       "7                      walk_access local_bus walk_egress   \n",
       "8                      walk_access local_bus walk_egress   \n",
       "9                      walk_access local_bus walk_egress   \n",
       "10                     walk_access local_bus walk_egress   \n",
       "11                     walk_access local_bus walk_egress   \n",
       "12                     walk_access local_bus walk_egress   \n",
       "13                     walk_access local_bus walk_egress   \n",
       "14                     walk_access local_bus walk_egress   \n",
       "15                     walk_access local_bus walk_egress   \n",
       "16                     walk_access local_bus walk_egress   \n",
       "17                     walk_access local_bus walk_egress   \n",
       "18                     walk_access local_bus walk_egress   \n",
       "19                    walk_access heavy_rail walk_egress   \n",
       "20                    walk_access heavy_rail walk_egress   \n",
       "21                    walk_access heavy_rail walk_egress   \n",
       "22                    walk_access heavy_rail walk_egress   \n",
       "23                    walk_access heavy_rail walk_egress   \n",
       "24                    walk_access heavy_rail walk_egress   \n",
       "25                    walk_access heavy_rail walk_egress   \n",
       "26                    walk_access heavy_rail walk_egress   \n",
       "27                    walk_access heavy_rail walk_egress   \n",
       "28                    walk_access heavy_rail walk_egress   \n",
       "29                    walk_access heavy_rail walk_egress   \n",
       "...                                                  ...   \n",
       "33647                  walk_access local_bus walk_egress   \n",
       "33648                  walk_access local_bus walk_egress   \n",
       "33649                  walk_access local_bus walk_egress   \n",
       "33650                  walk_access local_bus walk_egress   \n",
       "33651                  walk_access local_bus walk_egress   \n",
       "33652                  walk_access local_bus walk_egress   \n",
       "33653                  walk_access local_bus walk_egress   \n",
       "33654                  walk_access local_bus walk_egress   \n",
       "33655  walk_access local_bus transfer local_bus walk_...   \n",
       "33656  walk_access local_bus transfer local_bus walk_...   \n",
       "33657  walk_access local_bus transfer local_bus walk_...   \n",
       "33658  walk_access local_bus transfer local_bus walk_...   \n",
       "33659  walk_access local_bus transfer local_bus walk_...   \n",
       "33660  walk_access local_bus transfer local_bus walk_...   \n",
       "33661  walk_access local_bus transfer local_bus walk_...   \n",
       "33662  walk_access local_bus transfer local_bus walk_...   \n",
       "33663  walk_access local_bus transfer local_bus walk_...   \n",
       "33664                  walk_access local_bus walk_egress   \n",
       "33665                  walk_access local_bus walk_egress   \n",
       "33666                  walk_access local_bus walk_egress   \n",
       "33667                  walk_access local_bus walk_egress   \n",
       "33668                  walk_access local_bus walk_egress   \n",
       "33669                  walk_access local_bus walk_egress   \n",
       "33670                  walk_access local_bus walk_egress   \n",
       "33671                  walk_access local_bus walk_egress   \n",
       "33672                  walk_access local_bus walk_egress   \n",
       "33673                  walk_access local_bus walk_egress   \n",
       "33674  walk_access local_bus transfer local_bus walk_...   \n",
       "33675  walk_access local_bus transfer local_bus walk_...   \n",
       "33676  walk_access local_bus transfer local_bus walk_...   \n",
       "\n",
       "                                       path_components_x     unique_id  \\\n",
       "0      2361.0 walk_access _ local_bus Sonoma County_6...  100066_15335   \n",
       "1      2361.0 walk_access _ local_bus Sonoma County_6...  100066_15335   \n",
       "2      2361.0 walk_access _ local_bus Sonoma County_6...  100066_15335   \n",
       "3      2361.0 walk_access _ local_bus Sonoma County_6...  100066_15335   \n",
       "4      2361.0 walk_access _ local_bus Sonoma County_6...  100066_15335   \n",
       "5      2361.0 walk_access _ local_bus Sonoma County_6...  100066_15335   \n",
       "6      2361.0 walk_access _ local_bus Sonoma County_6...  100066_15335   \n",
       "7      2361.0 walk_access _ local_bus Sonoma County_6...  100066_15335   \n",
       "8      2361.0 walk_access _ local_bus Sonoma County_6...  100066_15335   \n",
       "9      2361.0 walk_access _ local_bus Sonoma County_6...  100066_15335   \n",
       "10     2361.0 walk_access _ local_bus Sonoma County_6...  100066_15335   \n",
       "11     2361.0 walk_access _ local_bus Sonoma County_6...  100066_15335   \n",
       "12     2361.0 walk_access _ local_bus Sonoma County_6...  100066_15335   \n",
       "13     2361.0 walk_access _ local_bus Sonoma County_6...  100066_15335   \n",
       "14     2361.0 walk_access _ local_bus Sonoma County_6...  100066_15335   \n",
       "15     2361.0 walk_access _ local_bus Sonoma County_6...  100066_15335   \n",
       "16     2361.0 walk_access _ local_bus Sonoma County_6...  100066_15335   \n",
       "17     2369.0 walk_access _ local_bus Sonoma County_2...  100122_15336   \n",
       "18     2395.0 walk_access _ local_bus Sonoma County_6...  100281_15338   \n",
       "19     1801.0 walk_access _ heavy_rail BART_18 9_ wal...    10177_3640   \n",
       "20     1801.0 walk_access _ heavy_rail BART_18 9_ wal...    10177_3640   \n",
       "21     1828.0 walk_access _ heavy_rail BART_16 25_ wa...    11370_3850   \n",
       "22     1862.0 walk_access _ heavy_rail BART_15 11_ wa...    12256_3989   \n",
       "23     1862.0 walk_access _ heavy_rail BART_15 11_ wa...    12256_3989   \n",
       "24     2152.0 walk_access _ heavy_rail BART_23 9_ wal...    12803_4064   \n",
       "25     2152.0 walk_access _ heavy_rail BART_23 9_ wal...    12803_4064   \n",
       "26     2152.0 walk_access _ heavy_rail BART_23 28_165...    12970_4083   \n",
       "27     2152.0 walk_access _ heavy_rail BART_23 20_ wa...    14266_4252   \n",
       "28     2152.0 walk_access _ heavy_rail BART_23 20_ wa...    14266_4252   \n",
       "29     2152.0 walk_access _ heavy_rail BART_23 22_ wa...    16736_4648   \n",
       "...                                                  ...           ...   \n",
       "33647  1284.0 walk_access _ local_bus SamTrans_250_ w...  709967_26187   \n",
       "33648  1284.0 walk_access _ local_bus SamTrans_250_ w...  709967_26187   \n",
       "33649  1284.0 walk_access _ local_bus SamTrans_250_ w...  709967_26187   \n",
       "33650  1284.0 walk_access _ local_bus SamTrans_250_ w...  709967_26187   \n",
       "33651  1274.0 walk_access _ local_bus SamTrans_250_ w...  709969_26188   \n",
       "33652  1274.0 walk_access _ local_bus SamTrans_250_ w...  709969_26188   \n",
       "33653  1274.0 walk_access _ local_bus SamTrans_250_ w...  709969_26188   \n",
       "33654  1274.0 walk_access _ local_bus SamTrans_250_ w...  709969_26188   \n",
       "33655  1274.0 walk_access _ local_bus SAMTRANS_ trans...  709974_26189   \n",
       "33656  1274.0 walk_access _ local_bus SAMTRANS_ trans...  709974_26189   \n",
       "33657  1274.0 walk_access _ local_bus SAMTRANS_ trans...  709974_26189   \n",
       "33658  1274.0 walk_access _ local_bus SAMTRANS_ trans...  709974_26189   \n",
       "33659  1274.0 walk_access _ local_bus SAMTRANS_ trans...  709974_26189   \n",
       "33660  1261.0 walk_access _ local_bus SAMTRANS_ trans...  709979_26191   \n",
       "33661  1719.0 walk_access _5102.0 5102.0 local_bus WH...  910213_26202   \n",
       "33662  1719.0 walk_access _5102.0 5102.0 local_bus WH...  910213_26202   \n",
       "33663  1719.0 walk_access _5102.0 5102.0 local_bus WH...  910213_26202   \n",
       "33664  1739.0 walk_access _ local_bus LAVTA_10_ walk_...  910633_26216   \n",
       "33665  1739.0 walk_access _ local_bus LAVTA_10_ walk_...  910633_26216   \n",
       "33666  1739.0 walk_access _ local_bus LAVTA_10_ walk_...  910633_26216   \n",
       "33667  1722.0 walk_access _ local_bus LAVTA_NA_ walk_...  910725_26220   \n",
       "33668  1722.0 walk_access _ local_bus LAVTA_NA_ walk_...  910725_26220   \n",
       "33669  1739.0 walk_access _ local_bus LAVTA_54_ walk_...  910779_26222   \n",
       "33670  1739.0 walk_access _ local_bus LAVTA_54_ walk_...  910779_26222   \n",
       "33671  1739.0 walk_access _ local_bus LAVTA_54_ walk_...  910779_26222   \n",
       "33672  1722.0 walk_access _ local_bus LAVTA_NA_ walk_...  911251_26241   \n",
       "33673  1722.0 walk_access _ local_bus LAVTA_NA_ walk_...  911251_26241   \n",
       "33674  1733.0 walk_access _ local_bus WHEELS (LAVTA)_...  911687_26253   \n",
       "33675  1733.0 walk_access _ local_bus WHEELS (LAVTA)_...  911687_26253   \n",
       "33676  1739.0 walk_access _ local_bus LAVTA_10_16538....  912253_26268   \n",
       "\n",
       "           path_routes_y                                  path_components_y  \n",
       "0               76_14MNO  2361 walk_access _9376 9376 local_bus 76_14MNO...  \n",
       "1               74_44NBL  2361 walk_access _9376 9376 local_bus 74_44NBL...  \n",
       "2               74_62NBL  2361 walk_access _9376 9376 local_bus 74_62NBL...  \n",
       "3               74_64NBL  2361 walk_access _9376 9376 local_bus 74_64NBL...  \n",
       "4               74_20MRL  2361 walk_access _9376 9376 local_bus 74_20MRL...  \n",
       "5                76_1CHO  2361 walk_access _9402 9402 local_bus 76_1CHO_...  \n",
       "6               76_14MNO  2361 walk_access _9402 9402 local_bus 76_14MNO...  \n",
       "7               74_20MRL  2361 walk_access _9402 9402 local_bus 74_20MRL...  \n",
       "8               74_44NBL  2361 walk_access _9402 9402 local_bus 74_44NBL...  \n",
       "9               74_62NBL  2361 walk_access _9402 9402 local_bus 74_62NBL...  \n",
       "10              74_64NBL  2361 walk_access _9402 9402 local_bus 74_64NBL...  \n",
       "11              76_14MNO  2361 walk_access _9376 9376 local_bus 76_14MNO...  \n",
       "12              74_44NBL  2361 walk_access _9376 9376 local_bus 74_44NBL...  \n",
       "13              74_62NBL  2361 walk_access _9376 9376 local_bus 74_62NBL...  \n",
       "14              74_64NBL  2361 walk_access _9376 9376 local_bus 74_64NBL...  \n",
       "15              74_20MRL  2361 walk_access _9376 9376 local_bus 74_20MRL...  \n",
       "16               76_1CHO  2361 walk_access _9402 9402 local_bus 76_1CHO_...  \n",
       "17          76_10PinerRd  2369 walk_access _9223 9223 local_bus 76_10Pin...  \n",
       "18               74_60HL  2395 walk_access _12445 12445 local_bus 74_60H...  \n",
       "19          100_BART_ORG  1801 walk_access _16527 16527 heavy_rail 100_B...  \n",
       "20          100_BART_ORG  1801 walk_access _16527 16527 heavy_rail 100_B...  \n",
       "21          100_BART_ORG  1828 walk_access _16529 16529 heavy_rail 100_B...  \n",
       "22          100_BART_ORG  1862 walk_access _16530 16530 heavy_rail 100_B...  \n",
       "23          100_BART_ORG  1862 walk_access _16530 16530 heavy_rail 100_B...  \n",
       "24          100_BART_YL2  2152 walk_access _16504 16504 heavy_rail 100_B...  \n",
       "25          100_BART_YL2  2152 walk_access _16504 16504 heavy_rail 100_B...  \n",
       "26          100_BART_YL2  2152 walk_access _16504 16504 heavy_rail 100_B...  \n",
       "27          100_BART_YEL  2152 walk_access _16504 16504 heavy_rail 100_B...  \n",
       "28          100_BART_YEL  2152 walk_access _16504 16504 heavy_rail 100_B...  \n",
       "29          100_BART_YEL  2152 walk_access _16504 16504 heavy_rail 100_B...  \n",
       "...                  ...                                                ...  \n",
       "33647            30_292N  1284 walk_access _7366 7366 local_bus 30_292N_...  \n",
       "33648            30_292N  1284 walk_access _7192 7192 local_bus 30_292N_...  \n",
       "33649            30_292N  1284 walk_access _7366 7366 local_bus 30_292N_...  \n",
       "33650            30_292N  1284 walk_access _7192 7192 local_bus 30_292N_...  \n",
       "33651            29_250W  1274 walk_access _7387 7387 local_bus 29_250W_...  \n",
       "33652            29_250W  1274 walk_access _14044 14044 local_bus 29_250...  \n",
       "33653            29_250W  1274 walk_access _7387 7387 local_bus 29_250W_...  \n",
       "33654            29_250W  1274 walk_access _14044 14044 local_bus 29_250...  \n",
       "33655   29_250W  30_292N  1274 walk_access _7387 7387 local_bus 29_250W_...  \n",
       "33656   29_250W  30_292N  1274 walk_access _14044 14044 local_bus 29_250...  \n",
       "33657   29_250W  30_292N  1274 walk_access _7387 7387 local_bus 29_250W_...  \n",
       "33658   29_250W  30_292N  1274 walk_access _14044 14044 local_bus 29_250...  \n",
       "33659  29_250W  30_391NB  1274 walk_access _7387 7387 local_bus 29_250W_...  \n",
       "33660  29_250W  30_391NB  1261 walk_access _14033 14033 local_bus 29_250...  \n",
       "33661   44_W15sb  44_W14  1719 walk_access _12213 12213 local_bus 44_W15...  \n",
       "33662   44_W15sb  44_W14  1719 walk_access _4591 4591 local_bus 44_W15sb...  \n",
       "33663   44_W15sb  44_W14  1719 walk_access _12213 12213 local_bus 44_W15...  \n",
       "33664             45_W10  1739 walk_access _5018 5018 local_bus 45_W10_5...  \n",
       "33665             45_W10  1739 walk_access _5018 5018 local_bus 45_W10_4...  \n",
       "33666             45_W10  1739 walk_access _5018 5018 local_bus 45_W10_4...  \n",
       "33667             44_W14  1722 walk_access _5091 5091 local_bus 44_W14_1...  \n",
       "33668             44_W14  1722 walk_access _4701 4701 local_bus 44_W14_1...  \n",
       "33669             45_W10  1739 walk_access _5018 5018 local_bus 45_W10_5...  \n",
       "33670             45_W10  1739 walk_access _5018 5018 local_bus 45_W10_4...  \n",
       "33671             45_W10  1739 walk_access _5018 5018 local_bus 45_W10_4...  \n",
       "33672             44_W14  1722 walk_access _5091 5091 local_bus 44_W14_1...  \n",
       "33673             44_W14  1722 walk_access _4701 4701 local_bus 44_W14_1...  \n",
       "33674     42_W3A  42_W1A  1733 walk_access _4175 4175 local_bus 42_W3A_4...  \n",
       "33675     42_W3A  42_W1B  1733 walk_access _4175 4175 local_bus 42_W3A_4...  \n",
       "33676     45_W10  42_W3A  1739 walk_access _5018 5018 local_bus 45_W10_4...  \n",
       "\n",
       "[33677 rows x 6 columns]"
      ]
     },
     "execution_count": 63,
     "metadata": {},
     "output_type": "execute_result"
    }
   ],
   "source": []
  },
  {
   "cell_type": "markdown",
   "metadata": {},
   "source": [
    "# Get the probability of the corresponding path from the pathset"
   ]
  },
  {
   "cell_type": "code",
   "execution_count": null,
   "metadata": {
    "collapsed": false
   },
   "outputs": [],
   "source": [
    "def get_path_attribute(row, pathset_df, unique_id, lookup_field, value_field):\n",
    "    \"\"\"\n",
    "    For a chosen path, return parameter from path set.\n",
    "    E.g., return path probability (value_field) for observed path, based on matching path description (lookup_field)\n",
    "    \n",
    "    Note: if multiple paths match parameters, return the max value from the matching set\n",
    "    \"\"\"\n",
    "    \n",
    "    if len(pathset_paths[(pathset_df[unique_id] == row[unique_id]) & \\\n",
    "                        (pathset_df[lookup_field] == row[lookup_field])]) > 0:\n",
    "        try:\n",
    "            return pathset_paths[(pathset_df[unique_id] == row[unique_id]) &  \\\n",
    "                             (pathset_df[lookup_field] == row[lookup_field])][value_field].values.max().index\n",
    "        except:\n",
    "            return 0\n",
    "    else:\n",
    "        return 0"
   ]
  },
  {
   "cell_type": "code",
   "execution_count": null,
   "metadata": {
    "collapsed": false
   },
   "outputs": [],
   "source": []
  },
  {
   "cell_type": "code",
   "execution_count": null,
   "metadata": {
    "collapsed": false
   },
   "outputs": [],
   "source": [
    "# new_pathset['pathnum'] = new_pathset.index.get_level_values(1).values\n",
    "# new_pathset['unique_id'] = new_pathset.index.get_level_values(0).values\n",
    "# new_pathset = new_pathset.reset_index(drop=True)"
   ]
  },
  {
   "cell_type": "code",
   "execution_count": null,
   "metadata": {
    "collapsed": false
   },
   "outputs": [],
   "source": []
  },
  {
   "cell_type": "code",
   "execution_count": 57,
   "metadata": {
    "collapsed": false
   },
   "outputs": [
    {
     "ename": "KeyError",
     "evalue": "'pathnum'",
     "output_type": "error",
     "traceback": [
      "\u001b[1;31m---------------------------------------------------------------------------\u001b[0m",
      "\u001b[1;31mKeyError\u001b[0m                                  Traceback (most recent call last)",
      "\u001b[1;32m<ipython-input-57-c96193293b89>\u001b[0m in \u001b[0;36m<module>\u001b[1;34m()\u001b[0m\n\u001b[0;32m      1\u001b[0m \u001b[1;31m# Join the probability to the new_pathset file\u001b[0m\u001b[1;33m\u001b[0m\u001b[1;33m\u001b[0m\u001b[0m\n\u001b[1;32m----> 2\u001b[1;33m \u001b[0mnewest_pathset\u001b[0m \u001b[1;33m=\u001b[0m \u001b[0mpd\u001b[0m\u001b[1;33m.\u001b[0m\u001b[0mmerge\u001b[0m\u001b[1;33m(\u001b[0m\u001b[0mnew_pathset\u001b[0m\u001b[1;33m,\u001b[0m\u001b[0mpathset_paths\u001b[0m\u001b[1;33m,\u001b[0m\u001b[0mleft_on\u001b[0m\u001b[1;33m=\u001b[0m\u001b[1;33m[\u001b[0m\u001b[1;34m'unique_id'\u001b[0m\u001b[1;33m,\u001b[0m\u001b[1;34m'pathnum'\u001b[0m\u001b[1;33m]\u001b[0m\u001b[1;33m,\u001b[0m \u001b[0mright_on\u001b[0m\u001b[1;33m=\u001b[0m\u001b[1;33m[\u001b[0m\u001b[1;34m'unique_id'\u001b[0m\u001b[1;33m,\u001b[0m\u001b[1;34m'pathnum'\u001b[0m\u001b[1;33m]\u001b[0m\u001b[1;33m)\u001b[0m\u001b[1;33m\u001b[0m\u001b[0m\n\u001b[0m",
      "\u001b[1;32mC:\\Anaconda\\lib\\site-packages\\pandas\\tools\\merge.pyc\u001b[0m in \u001b[0;36mmerge\u001b[1;34m(left, right, how, on, left_on, right_on, left_index, right_index, sort, suffixes, copy)\u001b[0m\n\u001b[0;32m     36\u001b[0m                          \u001b[0mright_on\u001b[0m\u001b[1;33m=\u001b[0m\u001b[0mright_on\u001b[0m\u001b[1;33m,\u001b[0m \u001b[0mleft_index\u001b[0m\u001b[1;33m=\u001b[0m\u001b[0mleft_index\u001b[0m\u001b[1;33m,\u001b[0m\u001b[1;33m\u001b[0m\u001b[0m\n\u001b[0;32m     37\u001b[0m                          \u001b[0mright_index\u001b[0m\u001b[1;33m=\u001b[0m\u001b[0mright_index\u001b[0m\u001b[1;33m,\u001b[0m \u001b[0msort\u001b[0m\u001b[1;33m=\u001b[0m\u001b[0msort\u001b[0m\u001b[1;33m,\u001b[0m \u001b[0msuffixes\u001b[0m\u001b[1;33m=\u001b[0m\u001b[0msuffixes\u001b[0m\u001b[1;33m,\u001b[0m\u001b[1;33m\u001b[0m\u001b[0m\n\u001b[1;32m---> 38\u001b[1;33m                          copy=copy)\n\u001b[0m\u001b[0;32m     39\u001b[0m     \u001b[1;32mreturn\u001b[0m \u001b[0mop\u001b[0m\u001b[1;33m.\u001b[0m\u001b[0mget_result\u001b[0m\u001b[1;33m(\u001b[0m\u001b[1;33m)\u001b[0m\u001b[1;33m\u001b[0m\u001b[0m\n\u001b[0;32m     40\u001b[0m \u001b[1;32mif\u001b[0m \u001b[0m__debug__\u001b[0m\u001b[1;33m:\u001b[0m\u001b[1;33m\u001b[0m\u001b[0m\n",
      "\u001b[1;32mC:\\Anaconda\\lib\\site-packages\\pandas\\tools\\merge.pyc\u001b[0m in \u001b[0;36m__init__\u001b[1;34m(self, left, right, how, on, left_on, right_on, axis, left_index, right_index, sort, suffixes, copy)\u001b[0m\n\u001b[0;32m    182\u001b[0m         (self.left_join_keys,\n\u001b[0;32m    183\u001b[0m          \u001b[0mself\u001b[0m\u001b[1;33m.\u001b[0m\u001b[0mright_join_keys\u001b[0m\u001b[1;33m,\u001b[0m\u001b[1;33m\u001b[0m\u001b[0m\n\u001b[1;32m--> 184\u001b[1;33m          self.join_names) = self._get_merge_keys()\n\u001b[0m\u001b[0;32m    185\u001b[0m \u001b[1;33m\u001b[0m\u001b[0m\n\u001b[0;32m    186\u001b[0m     \u001b[1;32mdef\u001b[0m \u001b[0mget_result\u001b[0m\u001b[1;33m(\u001b[0m\u001b[0mself\u001b[0m\u001b[1;33m)\u001b[0m\u001b[1;33m:\u001b[0m\u001b[1;33m\u001b[0m\u001b[0m\n",
      "\u001b[1;32mC:\\Anaconda\\lib\\site-packages\\pandas\\tools\\merge.pyc\u001b[0m in \u001b[0;36m_get_merge_keys\u001b[1;34m(self)\u001b[0m\n\u001b[0;32m    351\u001b[0m                     \u001b[1;32melse\u001b[0m\u001b[1;33m:\u001b[0m\u001b[1;33m\u001b[0m\u001b[0m\n\u001b[0;32m    352\u001b[0m                         \u001b[0mright_keys\u001b[0m\u001b[1;33m.\u001b[0m\u001b[0mappend\u001b[0m\u001b[1;33m(\u001b[0m\u001b[0mrk\u001b[0m\u001b[1;33m)\u001b[0m\u001b[1;33m\u001b[0m\u001b[0m\n\u001b[1;32m--> 353\u001b[1;33m                     \u001b[0mleft_keys\u001b[0m\u001b[1;33m.\u001b[0m\u001b[0mappend\u001b[0m\u001b[1;33m(\u001b[0m\u001b[0mleft\u001b[0m\u001b[1;33m[\u001b[0m\u001b[0mlk\u001b[0m\u001b[1;33m]\u001b[0m\u001b[1;33m.\u001b[0m\u001b[0mvalues\u001b[0m\u001b[1;33m)\u001b[0m\u001b[1;33m\u001b[0m\u001b[0m\n\u001b[0m\u001b[0;32m    354\u001b[0m                     \u001b[0mjoin_names\u001b[0m\u001b[1;33m.\u001b[0m\u001b[0mappend\u001b[0m\u001b[1;33m(\u001b[0m\u001b[0mlk\u001b[0m\u001b[1;33m)\u001b[0m\u001b[1;33m\u001b[0m\u001b[0m\n\u001b[0;32m    355\u001b[0m         \u001b[1;32melif\u001b[0m \u001b[0m_any\u001b[0m\u001b[1;33m(\u001b[0m\u001b[0mself\u001b[0m\u001b[1;33m.\u001b[0m\u001b[0mleft_on\u001b[0m\u001b[1;33m)\u001b[0m\u001b[1;33m:\u001b[0m\u001b[1;33m\u001b[0m\u001b[0m\n",
      "\u001b[1;32mC:\\Anaconda\\lib\\site-packages\\pandas\\core\\frame.pyc\u001b[0m in \u001b[0;36m__getitem__\u001b[1;34m(self, key)\u001b[0m\n\u001b[0;32m   1778\u001b[0m             \u001b[1;32mreturn\u001b[0m \u001b[0mself\u001b[0m\u001b[1;33m.\u001b[0m\u001b[0m_getitem_multilevel\u001b[0m\u001b[1;33m(\u001b[0m\u001b[0mkey\u001b[0m\u001b[1;33m)\u001b[0m\u001b[1;33m\u001b[0m\u001b[0m\n\u001b[0;32m   1779\u001b[0m         \u001b[1;32melse\u001b[0m\u001b[1;33m:\u001b[0m\u001b[1;33m\u001b[0m\u001b[0m\n\u001b[1;32m-> 1780\u001b[1;33m             \u001b[1;32mreturn\u001b[0m \u001b[0mself\u001b[0m\u001b[1;33m.\u001b[0m\u001b[0m_getitem_column\u001b[0m\u001b[1;33m(\u001b[0m\u001b[0mkey\u001b[0m\u001b[1;33m)\u001b[0m\u001b[1;33m\u001b[0m\u001b[0m\n\u001b[0m\u001b[0;32m   1781\u001b[0m \u001b[1;33m\u001b[0m\u001b[0m\n\u001b[0;32m   1782\u001b[0m     \u001b[1;32mdef\u001b[0m \u001b[0m_getitem_column\u001b[0m\u001b[1;33m(\u001b[0m\u001b[0mself\u001b[0m\u001b[1;33m,\u001b[0m \u001b[0mkey\u001b[0m\u001b[1;33m)\u001b[0m\u001b[1;33m:\u001b[0m\u001b[1;33m\u001b[0m\u001b[0m\n",
      "\u001b[1;32mC:\\Anaconda\\lib\\site-packages\\pandas\\core\\frame.pyc\u001b[0m in \u001b[0;36m_getitem_column\u001b[1;34m(self, key)\u001b[0m\n\u001b[0;32m   1785\u001b[0m         \u001b[1;31m# get column\u001b[0m\u001b[1;33m\u001b[0m\u001b[1;33m\u001b[0m\u001b[0m\n\u001b[0;32m   1786\u001b[0m         \u001b[1;32mif\u001b[0m \u001b[0mself\u001b[0m\u001b[1;33m.\u001b[0m\u001b[0mcolumns\u001b[0m\u001b[1;33m.\u001b[0m\u001b[0mis_unique\u001b[0m\u001b[1;33m:\u001b[0m\u001b[1;33m\u001b[0m\u001b[0m\n\u001b[1;32m-> 1787\u001b[1;33m             \u001b[1;32mreturn\u001b[0m \u001b[0mself\u001b[0m\u001b[1;33m.\u001b[0m\u001b[0m_get_item_cache\u001b[0m\u001b[1;33m(\u001b[0m\u001b[0mkey\u001b[0m\u001b[1;33m)\u001b[0m\u001b[1;33m\u001b[0m\u001b[0m\n\u001b[0m\u001b[0;32m   1788\u001b[0m \u001b[1;33m\u001b[0m\u001b[0m\n\u001b[0;32m   1789\u001b[0m         \u001b[1;31m# duplicate columns & possible reduce dimensionaility\u001b[0m\u001b[1;33m\u001b[0m\u001b[1;33m\u001b[0m\u001b[0m\n",
      "\u001b[1;32mC:\\Anaconda\\lib\\site-packages\\pandas\\core\\generic.pyc\u001b[0m in \u001b[0;36m_get_item_cache\u001b[1;34m(self, item)\u001b[0m\n\u001b[0;32m   1066\u001b[0m         \u001b[0mres\u001b[0m \u001b[1;33m=\u001b[0m \u001b[0mcache\u001b[0m\u001b[1;33m.\u001b[0m\u001b[0mget\u001b[0m\u001b[1;33m(\u001b[0m\u001b[0mitem\u001b[0m\u001b[1;33m)\u001b[0m\u001b[1;33m\u001b[0m\u001b[0m\n\u001b[0;32m   1067\u001b[0m         \u001b[1;32mif\u001b[0m \u001b[0mres\u001b[0m \u001b[1;32mis\u001b[0m \u001b[0mNone\u001b[0m\u001b[1;33m:\u001b[0m\u001b[1;33m\u001b[0m\u001b[0m\n\u001b[1;32m-> 1068\u001b[1;33m             \u001b[0mvalues\u001b[0m \u001b[1;33m=\u001b[0m \u001b[0mself\u001b[0m\u001b[1;33m.\u001b[0m\u001b[0m_data\u001b[0m\u001b[1;33m.\u001b[0m\u001b[0mget\u001b[0m\u001b[1;33m(\u001b[0m\u001b[0mitem\u001b[0m\u001b[1;33m)\u001b[0m\u001b[1;33m\u001b[0m\u001b[0m\n\u001b[0m\u001b[0;32m   1069\u001b[0m             \u001b[0mres\u001b[0m \u001b[1;33m=\u001b[0m \u001b[0mself\u001b[0m\u001b[1;33m.\u001b[0m\u001b[0m_box_item_values\u001b[0m\u001b[1;33m(\u001b[0m\u001b[0mitem\u001b[0m\u001b[1;33m,\u001b[0m \u001b[0mvalues\u001b[0m\u001b[1;33m)\u001b[0m\u001b[1;33m\u001b[0m\u001b[0m\n\u001b[0;32m   1070\u001b[0m             \u001b[0mcache\u001b[0m\u001b[1;33m[\u001b[0m\u001b[0mitem\u001b[0m\u001b[1;33m]\u001b[0m \u001b[1;33m=\u001b[0m \u001b[0mres\u001b[0m\u001b[1;33m\u001b[0m\u001b[0m\n",
      "\u001b[1;32mC:\\Anaconda\\lib\\site-packages\\pandas\\core\\internals.pyc\u001b[0m in \u001b[0;36mget\u001b[1;34m(self, item, fastpath)\u001b[0m\n\u001b[0;32m   2847\u001b[0m \u001b[1;33m\u001b[0m\u001b[0m\n\u001b[0;32m   2848\u001b[0m             \u001b[1;32mif\u001b[0m \u001b[1;32mnot\u001b[0m \u001b[0misnull\u001b[0m\u001b[1;33m(\u001b[0m\u001b[0mitem\u001b[0m\u001b[1;33m)\u001b[0m\u001b[1;33m:\u001b[0m\u001b[1;33m\u001b[0m\u001b[0m\n\u001b[1;32m-> 2849\u001b[1;33m                 \u001b[0mloc\u001b[0m \u001b[1;33m=\u001b[0m \u001b[0mself\u001b[0m\u001b[1;33m.\u001b[0m\u001b[0mitems\u001b[0m\u001b[1;33m.\u001b[0m\u001b[0mget_loc\u001b[0m\u001b[1;33m(\u001b[0m\u001b[0mitem\u001b[0m\u001b[1;33m)\u001b[0m\u001b[1;33m\u001b[0m\u001b[0m\n\u001b[0m\u001b[0;32m   2850\u001b[0m             \u001b[1;32melse\u001b[0m\u001b[1;33m:\u001b[0m\u001b[1;33m\u001b[0m\u001b[0m\n\u001b[0;32m   2851\u001b[0m                 \u001b[0mindexer\u001b[0m \u001b[1;33m=\u001b[0m \u001b[0mnp\u001b[0m\u001b[1;33m.\u001b[0m\u001b[0marange\u001b[0m\u001b[1;33m(\u001b[0m\u001b[0mlen\u001b[0m\u001b[1;33m(\u001b[0m\u001b[0mself\u001b[0m\u001b[1;33m.\u001b[0m\u001b[0mitems\u001b[0m\u001b[1;33m)\u001b[0m\u001b[1;33m)\u001b[0m\u001b[1;33m[\u001b[0m\u001b[0misnull\u001b[0m\u001b[1;33m(\u001b[0m\u001b[0mself\u001b[0m\u001b[1;33m.\u001b[0m\u001b[0mitems\u001b[0m\u001b[1;33m)\u001b[0m\u001b[1;33m]\u001b[0m\u001b[1;33m\u001b[0m\u001b[0m\n",
      "\u001b[1;32mC:\\Anaconda\\lib\\site-packages\\pandas\\core\\index.pyc\u001b[0m in \u001b[0;36mget_loc\u001b[1;34m(self, key)\u001b[0m\n\u001b[0;32m   1400\u001b[0m         \u001b[0mloc\u001b[0m \u001b[1;33m:\u001b[0m \u001b[0mint\u001b[0m \u001b[1;32mif\u001b[0m \u001b[0munique\u001b[0m \u001b[0mindex\u001b[0m\u001b[1;33m,\u001b[0m \u001b[0mpossibly\u001b[0m \u001b[0mslice\u001b[0m \u001b[1;32mor\u001b[0m \u001b[0mmask\u001b[0m \u001b[1;32mif\u001b[0m \u001b[1;32mnot\u001b[0m\u001b[1;33m\u001b[0m\u001b[0m\n\u001b[0;32m   1401\u001b[0m         \"\"\"\n\u001b[1;32m-> 1402\u001b[1;33m         \u001b[1;32mreturn\u001b[0m \u001b[0mself\u001b[0m\u001b[1;33m.\u001b[0m\u001b[0m_engine\u001b[0m\u001b[1;33m.\u001b[0m\u001b[0mget_loc\u001b[0m\u001b[1;33m(\u001b[0m\u001b[0m_values_from_object\u001b[0m\u001b[1;33m(\u001b[0m\u001b[0mkey\u001b[0m\u001b[1;33m)\u001b[0m\u001b[1;33m)\u001b[0m\u001b[1;33m\u001b[0m\u001b[0m\n\u001b[0m\u001b[0;32m   1403\u001b[0m \u001b[1;33m\u001b[0m\u001b[0m\n\u001b[0;32m   1404\u001b[0m     \u001b[1;32mdef\u001b[0m \u001b[0mget_value\u001b[0m\u001b[1;33m(\u001b[0m\u001b[0mself\u001b[0m\u001b[1;33m,\u001b[0m \u001b[0mseries\u001b[0m\u001b[1;33m,\u001b[0m \u001b[0mkey\u001b[0m\u001b[1;33m)\u001b[0m\u001b[1;33m:\u001b[0m\u001b[1;33m\u001b[0m\u001b[0m\n",
      "\u001b[1;32mpandas\\index.pyx\u001b[0m in \u001b[0;36mpandas.index.IndexEngine.get_loc (pandas\\index.c:3820)\u001b[1;34m()\u001b[0m\n",
      "\u001b[1;32mpandas\\index.pyx\u001b[0m in \u001b[0;36mpandas.index.IndexEngine.get_loc (pandas\\index.c:3700)\u001b[1;34m()\u001b[0m\n",
      "\u001b[1;32mpandas\\hashtable.pyx\u001b[0m in \u001b[0;36mpandas.hashtable.PyObjectHashTable.get_item (pandas\\hashtable.c:12323)\u001b[1;34m()\u001b[0m\n",
      "\u001b[1;32mpandas\\hashtable.pyx\u001b[0m in \u001b[0;36mpandas.hashtable.PyObjectHashTable.get_item (pandas\\hashtable.c:12274)\u001b[1;34m()\u001b[0m\n",
      "\u001b[1;31mKeyError\u001b[0m: 'pathnum'"
     ]
    }
   ],
   "source": [
    "# Join the probability to the new_pathset file\n",
    "newest_pathset = pd.merge(new_pathset,pathset_paths,left_on=['unique_id','pathnum'], right_on=['unique_id','pathnum'])"
   ]
  },
  {
   "cell_type": "code",
   "execution_count": null,
   "metadata": {
    "collapsed": false
   },
   "outputs": [],
   "source": [
    "route_based = observed_path.apply(get_path_attribute, pathset_df=newest_pathset, unique_id='unique_id', \n",
    "                                  lookup_field='path_routes', value_field='pf_probability', axis=1)"
   ]
  },
  {
   "cell_type": "code",
   "execution_count": null,
   "metadata": {
    "collapsed": false
   },
   "outputs": [],
   "source": [
    "entire_path = observed_path.apply(get_path_attribute, pathset_df=newest_pathset, unique_id='unique_id', \n",
    "                                  lookup_field='path_components', value_field='pf_probability', axis=1)"
   ]
  },
  {
   "cell_type": "code",
   "execution_count": null,
   "metadata": {
    "collapsed": false
   },
   "outputs": [],
   "source": [
    "a = observed_path[(observed_path['unique_id'] == '1095531_3_1')]['path_components'].values"
   ]
  },
  {
   "cell_type": "code",
   "execution_count": null,
   "metadata": {
    "collapsed": false
   },
   "outputs": [],
   "source": [
    "b = modeled_path[(modeled_path['unique_id'] == '1095531_3_1')]['path_components'].values[0]"
   ]
  },
  {
   "cell_type": "code",
   "execution_count": null,
   "metadata": {
    "collapsed": false
   },
   "outputs": [],
   "source": [
    "newest_pathset[newest_pathset['path_components'] == b].to_csv('test.csv')"
   ]
  },
  {
   "cell_type": "code",
   "execution_count": null,
   "metadata": {
    "collapsed": false
   },
   "outputs": [],
   "source": [
    "# newest_pathset[observed_path['path_components'] == observed_path[(observed_path['unique_id'] == '1095531_3_1')]['path_components'].values[0]]"
   ]
  },
  {
   "cell_type": "code",
   "execution_count": null,
   "metadata": {
    "collapsed": false
   },
   "outputs": [],
   "source": [
    "route_based[route_based.index == '1095531_3_1']"
   ]
  },
  {
   "cell_type": "code",
   "execution_count": null,
   "metadata": {
    "collapsed": false
   },
   "outputs": [],
   "source": [
    "pathset_paths[pathset_paths['chosen'] == 1]"
   ]
  },
  {
   "cell_type": "code",
   "execution_count": null,
   "metadata": {
    "collapsed": false
   },
   "outputs": [],
   "source": []
  },
  {
   "cell_type": "code",
   "execution_count": null,
   "metadata": {
    "collapsed": true
   },
   "outputs": [],
   "source": []
  },
  {
   "cell_type": "code",
   "execution_count": null,
   "metadata": {
    "collapsed": false
   },
   "outputs": [],
   "source": [
    "# Convert fields to list\n",
    "df['path_routes_observed_list'] = df['path_routes_observed'].apply(lambda x: filter(None,x.split(\" \")))\n",
    "df['path_routes_model_list'] = df['path_routes_model'].apply(lambda x: filter(None,x.split(\" \")))"
   ]
  },
  {
   "cell_type": "code",
   "execution_count": null,
   "metadata": {
    "collapsed": false
   },
   "outputs": [],
   "source": [
    "df['path_routes_observed_list'].isin(df['path_routes_model_list'].values())"
   ]
  },
  {
   "cell_type": "code",
   "execution_count": null,
   "metadata": {
    "collapsed": false
   },
   "outputs": [],
   "source": [
    "df['path_routes_model_list'].values()"
   ]
  },
  {
   "cell_type": "code",
   "execution_count": null,
   "metadata": {
    "collapsed": false
   },
   "outputs": [],
   "source": [
    "# Store the output in a new file\n",
    "\n",
    "\n",
    "# Create \"path routes\"\n",
    "obs['path_routes'] = obs['route_id'].apply(lambda x: x.strip())\n",
    "obs_path_routes = pd.DataFrame(obs.groupby(['person_id','trip_list_id_num'])['path_routes'].apply(lambda x: \"%s\" % ' '.join(x).strip()))\n",
    "# observed_paths.index = obs_path_routes.index\n",
    "# observed_paths = pd.DataFrame(index=obs_path_routes.index)\n",
    "# observed_paths['path_routes'] = obs_path_routes"
   ]
  },
  {
   "cell_type": "code",
   "execution_count": null,
   "metadata": {
    "collapsed": false
   },
   "outputs": [],
   "source": []
  },
  {
   "cell_type": "code",
   "execution_count": null,
   "metadata": {
    "collapsed": false
   },
   "outputs": [],
   "source": [
    "# produce observed_paths file\n",
    "\n"
   ]
  },
  {
   "cell_type": "code",
   "execution_count": null,
   "metadata": {
    "collapsed": false
   },
   "outputs": [],
   "source": [
    "# Store the output in a new file\n",
    "observed_paths = pd.DataFrame()\n",
    "\n",
    "# Create \"path routes\"\n",
    "obs['path_routes'] = obs['route_id'].apply(lambda x: x.strip())\n",
    "obs_path_routes = pd.DataFrame(obs.groupby(['person_id','trip_list_id_num'])['path_routes'].apply(lambda x: \"%s\" % ' '.join(x).strip()))\n",
    "observed_paths.index = obs_path_routes.index\n",
    "observed_paths['path_routes'] = obs_path_routes"
   ]
  },
  {
   "cell_type": "code",
   "execution_count": null,
   "metadata": {
    "collapsed": false
   },
   "outputs": [],
   "source": [
    "# Create \"path_modes\"\n",
    "obs['path_modes'] = obs['mode'].apply(lambda x: x.strip())\n",
    "obs_path_modes = pd.DataFrame(obs.groupby(['person_id','trip_list_id_num'])['mode'].apply(lambda x: \"%s\" % ' '.join(x).strip()))\n",
    "observed_paths['path_modes'] = obs_path_modes"
   ]
  },
  {
   "cell_type": "code",
   "execution_count": null,
   "metadata": {
    "collapsed": false
   },
   "outputs": [],
   "source": [
    "# Create \"path_components\"\n",
    "obs['path_components'] = obs['A_id_num'].astype('str')+\" \"+obs['mode']+\" \"+obs['route_id']\n",
    "obs['path_components'] = obs['path_components'].apply(lambda x: x.strip())\n",
    "obs_path_components = pd.DataFrame(obs.groupby(['person_id','trip_list_id_num'])['path_components'].apply(lambda x: \"%s\" % ' '.join(x).strip()))\n",
    "observed_paths['path_components'] = obs_path_components"
   ]
  },
  {
   "cell_type": "code",
   "execution_count": null,
   "metadata": {
    "collapsed": false
   },
   "outputs": [],
   "source": [
    "# We need similar fields to compare against in the modeled data\n"
   ]
  },
  {
   "cell_type": "code",
   "execution_count": null,
   "metadata": {
    "collapsed": true
   },
   "outputs": [],
   "source": []
  }
 ],
 "metadata": {
  "kernelspec": {
   "display_name": "Python 2",
   "language": "python",
   "name": "python2"
  },
  "language_info": {
   "codemirror_mode": {
    "name": "ipython",
    "version": 2
   },
   "file_extension": ".py",
   "mimetype": "text/x-python",
   "name": "python",
   "nbconvert_exporter": "python",
   "pygments_lexer": "ipython2",
   "version": "2.7.9"
  }
 },
 "nbformat": 4,
 "nbformat_minor": 0
}
